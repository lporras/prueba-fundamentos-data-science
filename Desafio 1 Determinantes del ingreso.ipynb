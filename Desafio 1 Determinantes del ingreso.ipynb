{
 "cells": [
  {
   "cell_type": "markdown",
   "metadata": {},
   "source": [
    "<img style=\"margin: 0 auto;\" src=\"https://desafiolatam.com/assets/home/logo-academia-bla-790873cdf66b0e681dfbe640ace8a602f5330bec301c409744c358330e823ae3.png\">"
   ]
  },
  {
   "cell_type": "markdown",
   "metadata": {},
   "source": [
    "# Desafío 1: Determinantes del ingreso"
   ]
  },
  {
   "cell_type": "markdown",
   "metadata": {},
   "source": [
    "#### Integrantes\n",
    "* Catalina Cerda\n",
    "* José González\n",
    "* Luis Porras"
   ]
  },
  {
   "cell_type": "markdown",
   "metadata": {},
   "source": [
    "## Enunciado\n",
    "\n",
    "Usted trabaja para un  organismo no  gubernamental que está interesado en  las  dinámicas socioeconómicas que determinan la desigualdad de ingreso y la erradicación de la pobreza extrema, enmarcado dentro de los objetivos del desarrollo del nuevo milenio del Programa de las Naciones Unidas para el  Desarrollo.\n",
    "\n",
    "Le encomiendan el  desarrollo de  un  modelo predictivo  sobre la probabilidad que un individuo presente salarios por sobre o bajo los 50.000 dólares anuales, en basea una serie de atributos sociodemográficos.\n",
    "\n",
    "## Descripción de la base de datos:\n",
    "\n",
    "Las variables que componen esta base se detallan a continuación:\n",
    "\n",
    "*\t`age`: Edad del individuo.\n",
    "*\t`workclass`: Naturaleza de la organización que emplea al individuo.\n",
    "*\t`education`: Nivel educacional del individuo.\n",
    "*\t`capital-gains`: Ingresos generados por inversiones fuera del trabajo.\n",
    "*\t`capital-losses`: Pérdidas generadas por inversiones fuera del trabajo asalariado.\n",
    "*\t`fnlwgt`: Ponderador muestral.\n",
    "*\t`marital-status`: Estado civil del individuo.\n",
    "*\t`occupation`: Ocupación del individuo.\n",
    "*\t`relationship`: Relación respecto a su familia.\n",
    "*\t`race`: Raza del encuestado.\n",
    "*\t`sex`: Sexo del encuestado."
   ]
  },
  {
   "cell_type": "markdown",
   "metadata": {},
   "source": [
    "## Aspectos adicionales a considerar (1.1)\n",
    "\n",
    "* La base de datos contiene los valores perdidos como `?`."
   ]
  },
  {
   "cell_type": "code",
   "execution_count": 1,
   "metadata": {},
   "outputs": [],
   "source": [
    "# Librerias para procesamiento de Base de datos.\n",
    "import pandas as pd\n",
    "import numpy as np\n",
    "\n",
    "# Librerías de gráficos\n",
    "import seaborn as sns\n",
    "import matplotlib.pyplot as plt\n",
    "\n",
    "# Librerías para Modelos de Clasificación (econometría):\n",
    "import statsmodels.api as sm\n",
    "import statsmodels.formula.api as smf\n",
    "\n",
    "## Liberías para Modelos de Clasificación (Machine Learning):\n",
    "from statsmodels.formula.api import ols\n",
    "\n",
    "\n",
    "#RegresiónLineal Machine \n",
    "from sklearn.linear_model import LinearRegression\n",
    "from sklearn.metrics import mean_squared_error, r2_score, classification_report, roc_curve, roc_auc_score\n",
    "from sklearn.model_selection import train_test_split\n",
    "from sklearn.linear_model import LogisticRegression\n",
    "from sklearn.preprocessing import StandardScaler\n",
    "\n",
    "\n",
    "#  Librería para inspeccionar visualizar datos N/A\n",
    "import missingno as msgn\n",
    "\n",
    "# Se importa la librería para ignorar los mensajes de advertencia \n",
    "import warnings\n",
    "warnings.filterwarnings(\"ignore\")\n",
    "\n",
    "# Libreria funciones auxiliares\n",
    "import herramientas_prueba"
   ]
  },
  {
   "cell_type": "markdown",
   "metadata": {},
   "source": [
    "Primero leemos nuestra base de datos contenida en el archivo: `income-db.csv` y se revisarán algunos valores de la base de datos."
   ]
  },
  {
   "cell_type": "code",
   "execution_count": 2,
   "metadata": {},
   "outputs": [
    {
     "data": {
      "text/html": [
       "<div>\n",
       "<style scoped>\n",
       "    .dataframe tbody tr th:only-of-type {\n",
       "        vertical-align: middle;\n",
       "    }\n",
       "\n",
       "    .dataframe tbody tr th {\n",
       "        vertical-align: top;\n",
       "    }\n",
       "\n",
       "    .dataframe thead th {\n",
       "        text-align: right;\n",
       "    }\n",
       "</style>\n",
       "<table border=\"1\" class=\"dataframe\">\n",
       "  <thead>\n",
       "    <tr style=\"text-align: right;\">\n",
       "      <th></th>\n",
       "      <th>age</th>\n",
       "      <th>workclass</th>\n",
       "      <th>fnlwgt</th>\n",
       "      <th>education</th>\n",
       "      <th>educational-num</th>\n",
       "      <th>marital-status</th>\n",
       "      <th>occupation</th>\n",
       "      <th>relationship</th>\n",
       "      <th>race</th>\n",
       "      <th>gender</th>\n",
       "      <th>capital-gain</th>\n",
       "      <th>capital-loss</th>\n",
       "      <th>hours-per-week</th>\n",
       "      <th>native-country</th>\n",
       "      <th>income</th>\n",
       "    </tr>\n",
       "  </thead>\n",
       "  <tbody>\n",
       "    <tr>\n",
       "      <th>0</th>\n",
       "      <td>25</td>\n",
       "      <td>Private</td>\n",
       "      <td>226802</td>\n",
       "      <td>11th</td>\n",
       "      <td>7</td>\n",
       "      <td>Never-married</td>\n",
       "      <td>Machine-op-inspct</td>\n",
       "      <td>Own-child</td>\n",
       "      <td>Black</td>\n",
       "      <td>Male</td>\n",
       "      <td>0</td>\n",
       "      <td>0</td>\n",
       "      <td>40</td>\n",
       "      <td>United-States</td>\n",
       "      <td>&lt;=50K</td>\n",
       "    </tr>\n",
       "    <tr>\n",
       "      <th>1</th>\n",
       "      <td>38</td>\n",
       "      <td>Private</td>\n",
       "      <td>89814</td>\n",
       "      <td>HS-grad</td>\n",
       "      <td>9</td>\n",
       "      <td>Married-civ-spouse</td>\n",
       "      <td>Farming-fishing</td>\n",
       "      <td>Husband</td>\n",
       "      <td>White</td>\n",
       "      <td>Male</td>\n",
       "      <td>0</td>\n",
       "      <td>0</td>\n",
       "      <td>50</td>\n",
       "      <td>United-States</td>\n",
       "      <td>&lt;=50K</td>\n",
       "    </tr>\n",
       "    <tr>\n",
       "      <th>2</th>\n",
       "      <td>28</td>\n",
       "      <td>Local-gov</td>\n",
       "      <td>336951</td>\n",
       "      <td>Assoc-acdm</td>\n",
       "      <td>12</td>\n",
       "      <td>Married-civ-spouse</td>\n",
       "      <td>Protective-serv</td>\n",
       "      <td>Husband</td>\n",
       "      <td>White</td>\n",
       "      <td>Male</td>\n",
       "      <td>0</td>\n",
       "      <td>0</td>\n",
       "      <td>40</td>\n",
       "      <td>United-States</td>\n",
       "      <td>&gt;50K</td>\n",
       "    </tr>\n",
       "    <tr>\n",
       "      <th>3</th>\n",
       "      <td>44</td>\n",
       "      <td>Private</td>\n",
       "      <td>160323</td>\n",
       "      <td>Some-college</td>\n",
       "      <td>10</td>\n",
       "      <td>Married-civ-spouse</td>\n",
       "      <td>Machine-op-inspct</td>\n",
       "      <td>Husband</td>\n",
       "      <td>Black</td>\n",
       "      <td>Male</td>\n",
       "      <td>7688</td>\n",
       "      <td>0</td>\n",
       "      <td>40</td>\n",
       "      <td>United-States</td>\n",
       "      <td>&gt;50K</td>\n",
       "    </tr>\n",
       "    <tr>\n",
       "      <th>4</th>\n",
       "      <td>18</td>\n",
       "      <td>?</td>\n",
       "      <td>103497</td>\n",
       "      <td>Some-college</td>\n",
       "      <td>10</td>\n",
       "      <td>Never-married</td>\n",
       "      <td>?</td>\n",
       "      <td>Own-child</td>\n",
       "      <td>White</td>\n",
       "      <td>Female</td>\n",
       "      <td>0</td>\n",
       "      <td>0</td>\n",
       "      <td>30</td>\n",
       "      <td>United-States</td>\n",
       "      <td>&lt;=50K</td>\n",
       "    </tr>\n",
       "  </tbody>\n",
       "</table>\n",
       "</div>"
      ],
      "text/plain": [
       "   age  workclass  fnlwgt     education  educational-num      marital-status  \\\n",
       "0   25    Private  226802          11th                7       Never-married   \n",
       "1   38    Private   89814       HS-grad                9  Married-civ-spouse   \n",
       "2   28  Local-gov  336951    Assoc-acdm               12  Married-civ-spouse   \n",
       "3   44    Private  160323  Some-college               10  Married-civ-spouse   \n",
       "4   18          ?  103497  Some-college               10       Never-married   \n",
       "\n",
       "          occupation relationship   race  gender  capital-gain  capital-loss  \\\n",
       "0  Machine-op-inspct    Own-child  Black    Male             0             0   \n",
       "1    Farming-fishing      Husband  White    Male             0             0   \n",
       "2    Protective-serv      Husband  White    Male             0             0   \n",
       "3  Machine-op-inspct      Husband  Black    Male          7688             0   \n",
       "4                  ?    Own-child  White  Female             0             0   \n",
       "\n",
       "   hours-per-week native-country income  \n",
       "0              40  United-States  <=50K  \n",
       "1              50  United-States  <=50K  \n",
       "2              40  United-States   >50K  \n",
       "3              40  United-States   >50K  \n",
       "4              30  United-States  <=50K  "
      ]
     },
     "execution_count": 2,
     "metadata": {},
     "output_type": "execute_result"
    }
   ],
   "source": [
    "# Obtenemos la informacion de la base de datos.\n",
    "df = pd.read_csv('income-db.csv')\n",
    "# obtenemos las 5 primeras filas de nuestra base de datos:\n",
    "df.head()"
   ]
  },
  {
   "cell_type": "code",
   "execution_count": 3,
   "metadata": {},
   "outputs": [
    {
     "name": "stdout",
     "output_type": "stream",
     "text": [
      "(48842, 15)\n"
     ]
    }
   ],
   "source": [
    "# Inspeccionamos nuestra base de datos\n",
    "print(df.shape)"
   ]
  },
  {
   "cell_type": "markdown",
   "metadata": {},
   "source": [
    "Nuestra base de datos contiene 15 columnas **(Variables)** y 48842 filas **(Datos)**."
   ]
  },
  {
   "cell_type": "markdown",
   "metadata": {},
   "source": [
    "Procedemos a remplazar los valores pérdidos `?` con `N/A`. Ya que es perferible para el análisis y visualización de nuestra base de datos."
   ]
  },
  {
   "cell_type": "code",
   "execution_count": 4,
   "metadata": {},
   "outputs": [],
   "source": [
    "# Reemplazo de valores perdidos:\n",
    "df = df.replace('?', np.nan)"
   ]
  },
  {
   "cell_type": "markdown",
   "metadata": {},
   "source": [
    "Inspeccion de nuestra Data:"
   ]
  },
  {
   "cell_type": "code",
   "execution_count": 5,
   "metadata": {},
   "outputs": [
    {
     "name": "stdout",
     "output_type": "stream",
     "text": [
      "<class 'pandas.core.frame.DataFrame'>\n",
      "RangeIndex: 48842 entries, 0 to 48841\n",
      "Data columns (total 15 columns):\n",
      "age                48842 non-null int64\n",
      "workclass          46043 non-null object\n",
      "fnlwgt             48842 non-null int64\n",
      "education          48842 non-null object\n",
      "educational-num    48842 non-null int64\n",
      "marital-status     48842 non-null object\n",
      "occupation         46033 non-null object\n",
      "relationship       48842 non-null object\n",
      "race               48842 non-null object\n",
      "gender             48842 non-null object\n",
      "capital-gain       48842 non-null int64\n",
      "capital-loss       48842 non-null int64\n",
      "hours-per-week     48842 non-null int64\n",
      "native-country     47985 non-null object\n",
      "income             48842 non-null object\n",
      "dtypes: int64(6), object(9)\n",
      "memory usage: 5.6+ MB\n"
     ]
    }
   ],
   "source": [
    "## Inspeccionamos cada columna en búsqueda de datos perdidos.\n",
    "df.info()"
   ]
  },
  {
   "cell_type": "markdown",
   "metadata": {},
   "source": [
    "Según lo reportado anteriormente , las columnas **\"workclass\"**, **\"occupation\"**, y **\"native-country\"** tienen datos perdidos, ya que el número de variables es inferior a `48842`, el cual es el total de filas.\n",
    "\n",
    "Inspeccionamos de forma visual la cantidad de valores perdidos:\n"
   ]
  },
  {
   "cell_type": "code",
   "execution_count": 6,
   "metadata": {},
   "outputs": [
    {
     "data": {
      "text/plain": [
       "<matplotlib.axes._subplots.AxesSubplot at 0x1c243a2518>"
      ]
     },
     "execution_count": 6,
     "metadata": {},
     "output_type": "execute_result"
    },
    {
     "data": {
      "image/png": "[encoded data removed]",
      "text/plain": [
       "<Figure size 1800x720 with 2 Axes>"
      ]
     },
     "metadata": {
      "needs_background": "light"
     },
     "output_type": "display_data"
    }
   ],
   "source": [
    "## se utiliza el método matrix de la librería missigno\n",
    "msgn.matrix(df)"
   ]
  },
  {
   "cell_type": "markdown",
   "metadata": {},
   "source": [
    "Tal como se ve en el gráfico anterior, la cantidad de datos perdidos se concentran en las columnas de **\"Worclass\"**, **\"occupation\"** y **\"native-country\"**."
   ]
  },
  {
   "cell_type": "code",
   "execution_count": 7,
   "metadata": {},
   "outputs": [
    {
     "name": "stdout",
     "output_type": "stream",
     "text": [
      "El porcentaje de datos perdidos de la variable 'workclass' es: 5.73%\n"
     ]
    }
   ],
   "source": [
    "# inspeccion cantidad de datos perdidos de la variable workclass\n",
    "print(herramientas_prueba.get_missing_percent_info(df, 'workclass'))"
   ]
  },
  {
   "cell_type": "code",
   "execution_count": 8,
   "metadata": {},
   "outputs": [
    {
     "name": "stdout",
     "output_type": "stream",
     "text": [
      "El porcentaje de datos perdidos de la variable 'occupation' es: 5.75%\n"
     ]
    }
   ],
   "source": [
    "# inspeccion cantidad de datos perdidos de la variable occupation\n",
    "print(herramientas_prueba.get_missing_percent_info(df, 'occupation'))"
   ]
  },
  {
   "cell_type": "code",
   "execution_count": null,
   "metadata": {},
   "outputs": [
    {
     "name": "stdout",
     "output_type": "stream",
     "text": [
      "El porcentaje de datos perdidos de la variable 'native-country' es: 1.75%\n"
     ]
    }
   ],
   "source": [
    "# inspeccion cantidad de datos perdidos de la variable native-country\n",
    "print(herramientas_prueba.get_missing_percent_info(df, 'native-country'))"
   ]
  },
  {
   "cell_type": "code",
   "execution_count": null,
   "metadata": {},
   "outputs": [
    {
     "name": "stdout",
     "output_type": "stream",
     "text": [
      "El porcentaje de datos perdidos si removemos todos los valores N/A es de: 92.59%\n"
     ]
    }
   ],
   "source": [
    "# Obtenemos el porcentaje total de datos perdidos:\n",
    "print(herramientas_prueba.get_total_percent_of_nan_rows(df))"
   ]
  },
  {
   "cell_type": "markdown",
   "metadata": {},
   "source": [
    "#####  Como los datos perdidos representan un poco más del 7% de la muestra consideramos que eliminarlos seria un error, por lo que optamos por dejarlos como valores nulos."
   ]
  },
  {
   "cell_type": "markdown",
   "metadata": {},
   "source": [
    "## Aspectos adicionales a considerar (1.2):\n",
    "\n",
    "### Recodificar Variables:"
   ]
  },
  {
   "cell_type": "markdown",
   "metadata": {},
   "source": [
    "* Desde la organización le sugieren que debe recodificar las siguientes variables acorde a las siguientes nomenclaturas:\n",
    "    * `workclass` debe recodificarse como `workclass_recod` siguiendo una nomenclatura similar a:\n",
    "        * federal-gov $\\leftarrow$ Federal-gov.\n",
    "        * state-level-gov $\\leftarrow$ State-gov, Local-gov.\n",
    "        * self-employed $\\leftarrow$ Self-emp-inc, Self-emp-not-inc\n",
    "        * unemployed $\\leftarrow$ Never-worked, Without-pay.\n",
    "    * `occupation` debe recodificarse como `collars` siguiendo una nomenclatura similar a:\n",
    "        * white-collar $\\leftarrow$ Prof-specialty, Exec-managerial, Adm-clerical, Sales,Tech-support.\n",
    "        * blue-collar $\\leftarrow$ Craft-repair, Machine-op-inspct, Transport-moving,Handlers-cleaners, Farming-fishing, Protective-serv, Priv-house-serv.\n",
    "        * others $\\leftarrow$ Other-service, Armed-Forces.\n",
    "    * `education` debe recodificarse como `educ_recod` siguiendo una nomenclatura similar a:\n",
    "        * preschool$\\leftarrow$ Preschool\n",
    "        * elementary-school$\\leftarrow$ 1st-4th, 5th-6th\n",
    "        * high-school$\\leftarrow$ 7th-8th, 9th, 10th,11th, 12th, HS-grad\n",
    "        * college$\\leftarrow$ Assoc-voc, Assoc-acdm, Some-college\n",
    "        * university$\\leftarrow$ Bachelors, Masters, Prof-school, Doctorate\n",
    "    * `marital-status`  debe recodificarse como `civstatus`  siguiendo una  nomenclatura similar a:\n",
    "        * married$\\leftarrow$ Married-civ-spouse, Married-spouse-absent, Married-AF-spouse\n",
    "        * divorced$\\leftarrow$ Divorced\n",
    "        * separated$\\leftarrow$ Separated\n",
    "        * widowed$\\leftarrow$ Widowed\n",
    "    * `native-country` debe recodificarse como `region` donde cada país debe asignarse a uno de los 5 continentes\n",
    "    * `income` debe recodificarse de forma binaria."
   ]
  },
  {
   "cell_type": "markdown",
   "metadata": {},
   "source": [
    "### Recodificacion de la variable `workclass` (Naturaleza de la organización que emplea al individuo):"
   ]
  },
  {
   "cell_type": "markdown",
   "metadata": {},
   "source": [
    "* `workclass` debe recodificarse como `workclass_recod` siguiendo una nomenclatura similar a:\n",
    "    * federal-gov $\\leftarrow$ Federal-gov.\n",
    "    * state-level-gov $\\leftarrow$ State-gov, Local-gov.\n",
    "    * self-employed $\\leftarrow$ Self-emp-inc, Self-emp-not-inc\n",
    "    * unemployed $\\leftarrow$ Never-worked, Without-pay."
   ]
  },
  {
   "cell_type": "markdown",
   "metadata": {},
   "source": [
    "Para ello veremos la cantidad de variables que se encuentran dentro de la columna."
   ]
  },
  {
   "cell_type": "code",
   "execution_count": null,
   "metadata": {},
   "outputs": [
    {
     "data": {
      "text/plain": [
       "Private             33906\n",
       "Self-emp-not-inc     3862\n",
       "Local-gov            3136\n",
       "State-gov            1981\n",
       "Self-emp-inc         1695\n",
       "Federal-gov          1432\n",
       "Without-pay            21\n",
       "Never-worked           10\n",
       "Name: workclass, dtype: int64"
      ]
     },
     "execution_count": 11,
     "metadata": {},
     "output_type": "execute_result"
    }
   ],
   "source": [
    "df['workclass'].value_counts()"
   ]
  },
  {
   "cell_type": "markdown",
   "metadata": {},
   "source": [
    "Luego recodificaremos todas las filas de dicha columna:"
   ]
  },
  {
   "cell_type": "code",
   "execution_count": null,
   "metadata": {},
   "outputs": [],
   "source": [
    "df['workclass'] = df['workclass'].replace([\n",
    "    'Federal-gov',\n",
    "    'State-gov', 'Local-gov',\n",
    "    'Self-emp-inc', 'Self-emp-not-inc',\n",
    "    'Never-worked', 'Without-pay'\n",
    "],\n",
    "[\n",
    "    'federal-gov','state-level-gov', 'state-level-gov',\n",
    "    'self-employed', 'self-employed', 'unemployed', 'unemployed'\n",
    "])"
   ]
  },
  {
   "cell_type": "markdown",
   "metadata": {},
   "source": [
    "Verificamos la recodificación:"
   ]
  },
  {
   "cell_type": "code",
   "execution_count": null,
   "metadata": {},
   "outputs": [
    {
     "data": {
      "text/plain": [
       "Private            33906\n",
       "self-employed       5557\n",
       "state-level-gov     5117\n",
       "federal-gov         1432\n",
       "unemployed            31\n",
       "Name: workclass, dtype: int64"
      ]
     },
     "execution_count": 13,
     "metadata": {},
     "output_type": "execute_result"
    }
   ],
   "source": [
    "df['workclass'].value_counts()"
   ]
  },
  {
   "cell_type": "markdown",
   "metadata": {},
   "source": [
    "### Inspección visual de la variable `workclass` (Naturaleza de la organización que emplea al individuo):"
   ]
  },
  {
   "cell_type": "markdown",
   "metadata": {},
   "source": [
    "Dado que `workclass` es una variable que consideramos relevante para nuestra predicción, entonces la graficaremos:"
   ]
  },
  {
   "cell_type": "code",
   "execution_count": null,
   "metadata": {},
   "outputs": [
    {
     "data": {
      "image/png": "[encoded data removed]",
      "text/plain": [
       "<Figure size 1440x432 with 1 Axes>"
      ]
     },
     "metadata": {
      "needs_background": "light"
     },
     "output_type": "display_data"
    }
   ],
   "source": [
    "herramientas_prueba.visualize_rows(df.filter(['workclass']), 20, 6, 'Naturaleza de la Organización que emplea al individuo')"
   ]
  },
  {
   "cell_type": "markdown",
   "metadata": {},
   "source": [
    "##### **Nota**:\n",
    "\n",
    "Para el resto de columnas se hará un procedimiento parecido al anterior."
   ]
  },
  {
   "cell_type": "markdown",
   "metadata": {},
   "source": [
    "### Recodificacion de la Variable `occupation` (Ocupación del individuo):"
   ]
  },
  {
   "cell_type": "markdown",
   "metadata": {},
   "source": [
    "* `occupation` debe recodificarse como `collars` siguiendo una nomenclatura similar a:\n",
    "    * white-collar $\\leftarrow$ Prof-specialty, Exec-managerial, Adm-clerical, Sales,Tech-support.\n",
    "    * blue-collar $\\leftarrow$ Craft-repair, Machine-op-inspct, Transport-moving,Handlers-cleaners, Farming-fishing, Protective-serv, Priv-house-serv.\n",
    "    * others $\\leftarrow$ Other-service, Armed-Forces"
   ]
  },
  {
   "cell_type": "code",
   "execution_count": null,
   "metadata": {},
   "outputs": [
    {
     "data": {
      "text/plain": [
       "Prof-specialty       6172\n",
       "Craft-repair         6112\n",
       "Exec-managerial      6086\n",
       "Adm-clerical         5611\n",
       "Sales                5504\n",
       "Other-service        4923\n",
       "Machine-op-inspct    3022\n",
       "Transport-moving     2355\n",
       "Handlers-cleaners    2072\n",
       "Farming-fishing      1490\n",
       "Tech-support         1446\n",
       "Protective-serv       983\n",
       "Priv-house-serv       242\n",
       "Armed-Forces           15\n",
       "Name: occupation, dtype: int64"
      ]
     },
     "execution_count": 15,
     "metadata": {},
     "output_type": "execute_result"
    }
   ],
   "source": [
    "df['occupation'].value_counts()"
   ]
  },
  {
   "cell_type": "code",
   "execution_count": null,
   "metadata": {},
   "outputs": [],
   "source": [
    "df['occupation'] = df['occupation'].replace([\n",
    "    #white-collar\n",
    "    'Prof-specialty', 'Exec-managerial', 'Adm-clerical','Sales','Tech-support',\n",
    "    #blue-collar\n",
    "    'Craft-repair','Machine-op-inspct','Transport-moving','Handlers-cleaners', 'Farming-fishing','Protective-serv','Priv-house-serv',\n",
    "    #others\n",
    "    'Other-service', 'Armed-Forces'\n",
    "],\n",
    "[   #white-collar\n",
    "    'white-collar','white-collar','white-collar','white-collar', 'white-collar',\n",
    "    #blue-collar\n",
    "    'blue-collar', 'blue-collar', 'blue-collar','blue-collar', 'blue-collar', 'blue-collar', 'blue-collar',\n",
    "    #others\n",
    "    'others', 'others'\n",
    "])"
   ]
  },
  {
   "cell_type": "markdown",
   "metadata": {},
   "source": [
    "Luego verificamos la recodificación de las variables:"
   ]
  },
  {
   "cell_type": "code",
   "execution_count": null,
   "metadata": {},
   "outputs": [
    {
     "data": {
      "text/plain": [
       "white-collar    24819\n",
       "blue-collar     16276\n",
       "others           4938\n",
       "Name: occupation, dtype: int64"
      ]
     },
     "execution_count": 17,
     "metadata": {},
     "output_type": "execute_result"
    }
   ],
   "source": [
    "df['occupation'].value_counts()"
   ]
  },
  {
   "cell_type": "markdown",
   "metadata": {},
   "source": [
    "### Inspección visual de la variable `Occupation` (Ocupación del individuo):"
   ]
  },
  {
   "cell_type": "markdown",
   "metadata": {},
   "source": [
    "Dado que `occupation` es una variable que consideramos relevante para nuestra predicción, entonces la graficaremos:"
   ]
  },
  {
   "cell_type": "code",
   "execution_count": null,
   "metadata": {},
   "outputs": [],
   "source": [
    "herramientas_prueba.visualize_rows(df.filter(['occupation']), 60, 6, 'Ocupación del individuo')"
   ]
  },
  {
   "cell_type": "markdown",
   "metadata": {},
   "source": [
    "Podemos observar que la mayoria de individuos pertenecen a la categoría `white-collar`, es decir:\n",
    "\n",
    "* Prof-specialty\n",
    "* Exec-managerial\n",
    "* Adm-clerical\n",
    "* Sales\n",
    "* Tech-support\n",
    "\n",
    "El porcentaje menor en la gráfica corresponde a la categoría `others`, es decir:\n",
    "\n",
    "* Other-service\n",
    "* Armed-Forces\n",
    "\n",
    "y el resto pertenecen a la categoría `blue-collar`, es decir:\n",
    "\n",
    "* Craft-repair\n",
    "* Machine-op-inspct\n",
    "* Transport-moving\n",
    "* Handlers-cleaners\n",
    "* Farming-fishing\n",
    "* Protective-serv\n",
    "* Priv-house-serv.\n"
   ]
  },
  {
   "cell_type": "markdown",
   "metadata": {},
   "source": [
    "### Recodificacion de la variable `education` (Nivel educacional del individuo):"
   ]
  },
  {
   "cell_type": "markdown",
   "metadata": {},
   "source": [
    "* `education` debe recodificarse como `educ_recod` siguiendo una nomenclatura similar a:\n",
    "    * preschool$\\leftarrow$ Preschool\n",
    "    * elementary-school$\\leftarrow$ 1st-4th, 5th-6th\n",
    "    * high-school$\\leftarrow$ 7th-8th, 9th, 10th,11th, 12th, HS-grad\n",
    "    * college$\\leftarrow$ Assoc-voc, Assoc-acdm, Some-college\n",
    "    * university$\\leftarrow$ Bachelors, Masters, Prof-school, Doctorate"
   ]
  },
  {
   "cell_type": "code",
   "execution_count": null,
   "metadata": {},
   "outputs": [],
   "source": [
    "df['education'].value_counts()"
   ]
  },
  {
   "cell_type": "code",
   "execution_count": null,
   "metadata": {},
   "outputs": [],
   "source": [
    "df['education'] = df['education'].replace([\n",
    "    'Preschool',\n",
    "    '1st-4th', '5th-6th',\n",
    "    '7th-8th', '9th', '10th','11th', '12th', 'HS-grad',\n",
    "    'Assoc-voc', 'Assoc-acdm', 'Some-college',\n",
    "    'Bachelors', 'Masters', 'Prof-school', 'Doctorate'\n",
    "],\n",
    "[\n",
    "    'preschool', \n",
    "    'elementary-school', 'elementary-school',\n",
    "    'high-school', 'high-school', 'high-school','high-school', 'high-school', 'high-school',\n",
    "    'college', 'college', 'college',\n",
    "    'university', 'university', 'university', 'university'\n",
    "])"
   ]
  },
  {
   "cell_type": "markdown",
   "metadata": {},
   "source": [
    "Luego verificamos la recodificación de las variables:"
   ]
  },
  {
   "cell_type": "code",
   "execution_count": null,
   "metadata": {},
   "outputs": [],
   "source": [
    "df['education'].value_counts()"
   ]
  },
  {
   "cell_type": "markdown",
   "metadata": {},
   "source": [
    "### Inspección visual de `education` (Nivel educacional del individuo):"
   ]
  },
  {
   "cell_type": "markdown",
   "metadata": {},
   "source": [
    "Dado que `education` es una variable que consideramos relevante para nuestra predicción, entonces la graficaremos:"
   ]
  },
  {
   "cell_type": "code",
   "execution_count": null,
   "metadata": {},
   "outputs": [],
   "source": [
    "herramientas_prueba.visualize_rows(df.filter(['education']), 60, 6, 'Nivel educacional del individuo')"
   ]
  },
  {
   "cell_type": "markdown",
   "metadata": {},
   "source": [
    "Del gráfico anterior podemos ver que el mayor porcentaje de encuestados pertenencen a la categoría `high-school`, es decir se encuentran en `Escuela secundaria`.\n",
    "\n",
    "Además un gran porcentaje se encuentran entre las categorías `college` y `university`, es decir estan estudiando en la Universidad o ya se han graduado de una Universidad."
   ]
  },
  {
   "cell_type": "markdown",
   "metadata": {},
   "source": [
    "### Recodificacion de la variable `marital-status` (Estado civil del individuo):"
   ]
  },
  {
   "cell_type": "markdown",
   "metadata": {},
   "source": [
    "* `marital-status`  debe recodificarse como `civstatus`  siguiendo una  nomenclatura similar a:\n",
    "    * married$\\leftarrow$ Married-civ-spouse, Married-spouse-absent, Married-AF-spouse\n",
    "    * divorced$\\leftarrow$ Divorced\n",
    "    * separated$\\leftarrow$ Separated\n",
    "    * widowed$\\leftarrow$ Widowed"
   ]
  },
  {
   "cell_type": "code",
   "execution_count": null,
   "metadata": {},
   "outputs": [],
   "source": [
    "df['marital-status'].value_counts()"
   ]
  },
  {
   "cell_type": "code",
   "execution_count": null,
   "metadata": {},
   "outputs": [],
   "source": [
    "df['marital-status'] = df['marital-status'].replace([\n",
    "    'Married-civ-spouse', 'Married-spouse-absent', 'Married-AF-spouse',\n",
    "    'Divorced',\n",
    "    'Separated',\n",
    "    'Widowed'\n",
    "],\n",
    "[\n",
    "    'married','married', 'married',\n",
    "    'divorced',\n",
    "    'separated',\n",
    "    'widowed'\n",
    "])"
   ]
  },
  {
   "cell_type": "code",
   "execution_count": null,
   "metadata": {},
   "outputs": [],
   "source": [
    "df['marital-status'].value_counts()"
   ]
  },
  {
   "cell_type": "markdown",
   "metadata": {},
   "source": [
    "### Inspección visual de la variable `marital-status` (Estado civil del individuo):"
   ]
  },
  {
   "cell_type": "markdown",
   "metadata": {},
   "source": [
    "Dado que `Estado civil del individuo` es una variable que consideramos relevante para nuestra predicción, entonces la graficaremos:"
   ]
  },
  {
   "cell_type": "code",
   "execution_count": null,
   "metadata": {},
   "outputs": [],
   "source": [
    "herramientas_prueba.visualize_rows(df.filter(['marital-status']), 60, 6, 'Estado civil del individuo')"
   ]
  },
  {
   "cell_type": "markdown",
   "metadata": {},
   "source": [
    "Del gráfico anterior, podemos ver que la mayoría de los individuos de nuestra base de datos pertenecen a la categorias\n",
    "\n",
    "`Never-married` y `Married-civ-spouse`, quiere decir que son: 'Soltero(a)s', o se han casado."
   ]
  },
  {
   "cell_type": "markdown",
   "metadata": {},
   "source": [
    "### Recodificacion de la Variable: (País de origen):"
   ]
  },
  {
   "cell_type": "markdown",
   "metadata": {},
   "source": [
    "* `native-country` debe recodificarse como `region` donde cada país debe asignarse a uno de los 5 continentes"
   ]
  },
  {
   "cell_type": "code",
   "execution_count": null,
   "metadata": {},
   "outputs": [],
   "source": [
    "df['native-country'].value_counts()"
   ]
  },
  {
   "cell_type": "code",
   "execution_count": null,
   "metadata": {},
   "outputs": [],
   "source": [
    "df['native-country'] = df['native-country'].replace ([\n",
    "    # america\n",
    "    'United-States', 'Peru', 'Guatemala', 'Mexico','Dominican-Republic',\n",
    "    'El-Salvador', 'Puerto-Rico', 'Columbia', 'Cuba', 'Canada',\n",
    "    'Nicaragua', 'Honduras','Jamaica','Ecuador', 'Haiti','Trinadad&Tobago',\n",
    "    'Outlying-US(Guam-USVI-etc)',\n",
    "    #europa\n",
    "    'Ireland', 'Germany','Poland', 'England', 'Italy', 'Portugal',\n",
    "    'Scotland', 'Yugoslavia', 'Hungary', 'Greece', 'France', 'Holand-Netherlands',\n",
    "    #asia\n",
    "    'Philippines', 'Thailand', 'Vietnam',\n",
    "    'South', 'Japan', 'India', 'Cambodia', 'Laos', 'Taiwan', 'China',\n",
    "    'Iran', 'Hong', 'Philippines'\n",
    "],\n",
    "[\n",
    "    # america\n",
    "    'america', 'america','america', 'america', 'america',\n",
    "    'america', 'america', 'america', 'america', 'america',\n",
    "    'america','america','america','america', 'america', 'america',\n",
    "    'america',\n",
    "    #europa\n",
    "    'europa', 'europa', 'europa', 'europa', 'europa', 'europa',\n",
    "    'europa', 'europa', 'europa', 'europa', 'europa', 'europa',\n",
    "    #asia\n",
    "    'asia', 'asia', 'asia',\n",
    "    'asia', 'asia', 'asia', 'asia', 'asia', 'asia', 'asia',\n",
    "    'asia', 'asia', 'asia'\n",
    "])"
   ]
  },
  {
   "cell_type": "markdown",
   "metadata": {},
   "source": [
    "verificamos la recodificación de las variables:"
   ]
  },
  {
   "cell_type": "code",
   "execution_count": null,
   "metadata": {},
   "outputs": [],
   "source": [
    "df['native-country'].value_counts()"
   ]
  },
  {
   "cell_type": "markdown",
   "metadata": {},
   "source": [
    "### Inspección visual de la variable `native-country` (País de Origen):"
   ]
  },
  {
   "cell_type": "markdown",
   "metadata": {},
   "source": [
    "Dado que `País de Origen` es una variable que consideramos relevante para nuestra predicción, entonces la graficaremos:"
   ]
  },
  {
   "cell_type": "code",
   "execution_count": null,
   "metadata": {},
   "outputs": [],
   "source": [
    "herramientas_prueba.visualize_rows(df.filter(['native-country']), 15, 5, 'País de Origen')"
   ]
  },
  {
   "cell_type": "markdown",
   "metadata": {},
   "source": [
    "Podemos ver que la gran mayoría de los individuos de nuestra base de datos se encuentra ubicado en la region **América**."
   ]
  },
  {
   "cell_type": "markdown",
   "metadata": {},
   "source": [
    "### Recodificacion de Income (Ingresos):"
   ]
  },
  {
   "cell_type": "markdown",
   "metadata": {},
   "source": [
    " - `income`: `<=50K` Si el individuo percibe ingresos inferiores a 50.000 dólares anuales, `>50K` si el individuo percibe ingresos superiores a 50.000 dólares anuales.\n",
    " \n",
    "**Siendo este nuestro vector objetivo**, debe recodificarse de forma binaria, dado que solo contiene 2 valores posíbles."
   ]
  },
  {
   "cell_type": "code",
   "execution_count": null,
   "metadata": {},
   "outputs": [],
   "source": [
    "# comprobamos que los datos pertenezcan a dichas categorías.\n",
    "df['income'].value_counts('%')"
   ]
  },
  {
   "cell_type": "markdown",
   "metadata": {},
   "source": [
    "### Inspeccion Visual de la variable `income` (Ingresos):"
   ]
  },
  {
   "cell_type": "code",
   "execution_count": null,
   "metadata": {},
   "outputs": [],
   "source": [
    "herramientas_prueba.visualize_rows(df.filter(['income']), 12, 5, 'Ingresos')"
   ]
  },
  {
   "cell_type": "markdown",
   "metadata": {},
   "source": [
    "De el gráfico anterior, podemos inferir que la mayor candidad de los individuos de nuestra base de datos tiene ingresos\n",
    "menores iguales a `$50.000` anual.  **Esto sin tener encuenta otras variables.**"
   ]
  },
  {
   "cell_type": "markdown",
   "metadata": {},
   "source": [
    "Luego lo binarizamos utilizando el criterio mencionado anteriormente:"
   ]
  },
  {
   "cell_type": "code",
   "execution_count": null,
   "metadata": {},
   "outputs": [],
   "source": [
    "# Haciendo uso del módulo Numpy y la función where.\n",
    "df['income'] = np.where(df['income'] == '>50K', 1, 0)"
   ]
  },
  {
   "cell_type": "markdown",
   "metadata": {},
   "source": [
    "Verificamos la binarización de nuestro **vector objetivo**:"
   ]
  },
  {
   "cell_type": "code",
   "execution_count": null,
   "metadata": {},
   "outputs": [],
   "source": [
    "df['income'].value_counts('%')"
   ]
  },
  {
   "cell_type": "markdown",
   "metadata": {},
   "source": [
    "### Renombrando las columnas:"
   ]
  },
  {
   "cell_type": "markdown",
   "metadata": {},
   "source": [
    "Finalmente debemos renombrar el nombre de las columnas"
   ]
  },
  {
   "cell_type": "code",
   "execution_count": null,
   "metadata": {},
   "outputs": [],
   "source": [
    "# Renombramos sólo las columnas que cambian.\n",
    "df = df.rename(columns={\n",
    "    'workclass': 'workclass_recod',\n",
    "    'occupation': 'collars',\n",
    "    'education': 'educ_recod',\n",
    "    'marital-status': 'civstatus',\n",
    "    'native-country': 'region'\n",
    "})"
   ]
  },
  {
   "cell_type": "markdown",
   "metadata": {},
   "source": [
    "Tomamos una muestra aleatoria de 5 individuos, para verificar las variables y datos:"
   ]
  },
  {
   "cell_type": "code",
   "execution_count": null,
   "metadata": {
    "scrolled": true
   },
   "outputs": [],
   "source": [
    "# retorna 5 items de la base de datos aleatoriamente.\n",
    "df.sample(5)"
   ]
  },
  {
   "cell_type": "markdown",
   "metadata": {},
   "source": [
    "## Modelación descriptiva.\n",
    "**(Hito 3: Sesión Presencial 1, Unidad 8)**"
   ]
  },
  {
   "cell_type": "markdown",
   "metadata": {},
   "source": [
    "**Elementos a considerar**:\n",
    "\n",
    "* La modelación mediante regresión.\n",
    "* La interpretación de los principales regresores.\n",
    "* La definición de las estrategias de Modelación predictiva."
   ]
  },
  {
   "cell_type": "markdown",
   "metadata": {},
   "source": [
    "Debido a a que nuestro vector objetivo es la variable `income` (Ingresos) y dicha variable es binaria, entonces se opta por una clasificación.\n",
    "\n",
    "**Implementaremos Regresión Logistica desde la econometría**:"
   ]
  },
  {
   "cell_type": "code",
   "execution_count": null,
   "metadata": {
    "scrolled": true
   },
   "outputs": [],
   "source": [
    "df.head()"
   ]
  },
  {
   "cell_type": "markdown",
   "metadata": {},
   "source": [
    "Se procede a graficar la variable independiente **age (Edad)**."
   ]
  },
  {
   "cell_type": "code",
   "execution_count": null,
   "metadata": {},
   "outputs": [],
   "source": [
    "herramientas_prueba.visualize_rows(df.filter(['age']), 12, 6, 'Edad')"
   ]
  },
  {
   "cell_type": "markdown",
   "metadata": {},
   "source": [
    "La gráfica de nuestra variable **age (Edad)**: Sugiere un comportamiento cercano a la distribución normal."
   ]
  },
  {
   "cell_type": "markdown",
   "metadata": {},
   "source": [
    "#### Graficaremos la variable independiente `hours-per-week` (Horas por semana):"
   ]
  },
  {
   "cell_type": "code",
   "execution_count": null,
   "metadata": {},
   "outputs": [],
   "source": [
    "herramientas_prueba.visualize_rows(df.filter(['hours-per-week']), 20, 3, 'Horas por semana')"
   ]
  },
  {
   "cell_type": "markdown",
   "metadata": {},
   "source": [
    "Podemos análizar visualmente de la gráfica anterior que la variable **hours-per-week**:\n",
    "    * Tiene como mayor valor frecuente 40 horas a la semana.\n",
    "    * Podemos observar que el 50% de los individuos trabajan menos de 40 horas a la semana y el otro 50% trabajan más\n",
    "    de 40 horas a la semana.\n",
    "    * Además el promedio de total de horas laboradas tiende a 40 horas.\n",
    "\n",
    "Esto lo podemos corroborar calculando la Mediana, Media y Moda:"
   ]
  },
  {
   "cell_type": "code",
   "execution_count": null,
   "metadata": {},
   "outputs": [],
   "source": [
    "# obtenemos la mediana\n",
    "print(f\"La mediana de la variable horas a la semana es de: {df['hours-per-week'].median()}\")\n",
    "# obtenemos la moda\n",
    "print(f\"La moda de horas a la semana es de: {df['hours-per-week'].mode()[0]}\")\n",
    "# obtenemos el valor promedio\n",
    "print(f\"El valor promedio de horas a la semana es de: {round(df['hours-per-week'].mean(), 2)}\")"
   ]
  },
  {
   "cell_type": "markdown",
   "metadata": {},
   "source": [
    "Necesitamos un **modelo predictivo** sobre la probabilidad de que un individuo presente salarios por sobre o bajo los `$50.000` dolares anuales en base a los atributos **socio-demográficos**:\n",
    "\n",
    "-\t`age`:  Edad\n",
    "-   `workclass_recod`: Naturaleza de la organización que emplea al individuo\n",
    "-\t`education`: Nivel educacional del individuo.\n",
    "-\t`civstatus`: Estado civil del individuo\n",
    "-\t`collars`: Profesion.\n",
    "-\t`relationship`: Relación respecto a su familia\n",
    "-\t`race`: Raza del encuestado\n",
    "-\t`sex`: Sexo del encuestado\n",
    "-\t`hours-per-week`: Horas a la semana\n",
    "-\t`region`:  País de origen"
   ]
  },
  {
   "cell_type": "markdown",
   "metadata": {},
   "source": [
    "Dado que nuestra **variable objetivo `Income`** es Binaria.  Entonces implementaremos una Clasificación por medio de Regresión Logística con un modelo Saturado."
   ]
  },
  {
   "cell_type": "code",
   "execution_count": null,
   "metadata": {},
   "outputs": [],
   "source": [
    "modelo_logit = smf.logit('income ~ age + region + collars + civstatus + race', df).fit()"
   ]
  },
  {
   "cell_type": "code",
   "execution_count": null,
   "metadata": {},
   "outputs": [],
   "source": [
    "modelo_logit.summary()"
   ]
  },
  {
   "cell_type": "markdown",
   "metadata": {},
   "source": [
    "Segun lo reportado por nuestro modelo, las variables con significancia estadística al 95% son: `age`, `collars`, `civstatus`, `race`"
   ]
  },
  {
   "cell_type": "markdown",
   "metadata": {},
   "source": [
    "Nuestro modelo podría ser depurado a:"
   ]
  },
  {
   "cell_type": "code",
   "execution_count": null,
   "metadata": {},
   "outputs": [],
   "source": [
    "modelo_logit = smf.logit('income ~ age + collars + civstatus + race', df).fit()"
   ]
  },
  {
   "cell_type": "code",
   "execution_count": null,
   "metadata": {},
   "outputs": [],
   "source": [
    "modelo_logit.summary()"
   ]
  },
  {
   "cell_type": "code",
   "execution_count": null,
   "metadata": {},
   "outputs": [],
   "source": [
    "# Imprimiendo log_odds y probabilidad:\n",
    "herramientas_prueba.print_logit_estimations(modelo_logit, 'ingreso superior o igual a $50.0000 dólares anual')"
   ]
  },
  {
   "cell_type": "markdown",
   "metadata": {},
   "source": [
    "**Nota**:  Podemos seguir depurando el modelo si binarizamos algúnas variables como `collars`, `civstatus`, y/o `race`"
   ]
  },
  {
   "cell_type": "markdown",
   "metadata": {},
   "source": [
    "## Modelación predictiva.\n",
    "**Hito 4: Sesión Presencial 2, Unidad 8**"
   ]
  },
  {
   "cell_type": "markdown",
   "metadata": {},
   "source": [
    "**TODO**:  Aplicar Machine Learning"
   ]
  },
  {
   "cell_type": "code",
   "execution_count": null,
   "metadata": {},
   "outputs": [],
   "source": [
    "# Separación de la data para predicciones:\n",
    "df_copy = df.copy()\n",
    "(x_train, x_test, y_train, y_test) = train_test_split(\n",
    "    df_copy.drop(columns=['income']),\n",
    "    df_copy['income'],\n",
    "    test_size=0.33,\n",
    "    random_state=2019\n",
    ")"
   ]
  },
  {
   "cell_type": "code",
   "execution_count": null,
   "metadata": {},
   "outputs": [],
   "source": []
  },
  {
   "cell_type": "code",
   "execution_count": null,
   "metadata": {},
   "outputs": [],
   "source": []
  },
  {
   "cell_type": "code",
   "execution_count": null,
   "metadata": {},
   "outputs": [],
   "source": []
  }
 ],
 "metadata": {
  "kernelspec": {
   "display_name": "Python 3",
   "language": "python",
   "name": "python3"
  },
  "language_info": {
   "codemirror_mode": {
    "name": "ipython",
    "version": 3
   },
   "file_extension": ".py",
   "mimetype": "text/x-python",
   "name": "python",
   "nbconvert_exporter": "python",
   "pygments_lexer": "ipython3",
   "version": "3.7.3"
  }
 },
 "nbformat": 4,
 "nbformat_minor": 2
}
