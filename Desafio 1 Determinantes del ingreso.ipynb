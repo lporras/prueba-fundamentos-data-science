{
 "cells": [
  {
   "cell_type": "markdown",
   "metadata": {},
   "source": [
    "<img style=\"margin: 0 auto;\" src=\"https://desafiolatam.com/assets/home/logo-academia-bla-790873cdf66b0e681dfbe640ace8a602f5330bec301c409744c358330e823ae3.png\">"
   ]
  },
  {
   "cell_type": "code",
   "execution_count": 1,
   "metadata": {},
   "outputs": [],
   "source": [
    "#Se importan las principales librerías a utilizar\n",
    "\n",
    "import pandas as pd\n",
    "import numpy as np\n",
    "import seaborn as sns\n",
    "import scipy.stats as stats\n",
    "import missingno as msgn\n",
    "\n",
    "#Se importa la librería para ignorar los mensajes de advertencia \n",
    "import warnings\n",
    "warnings.filterwarnings(\"ignore\")"
   ]
  },
  {
   "cell_type": "markdown",
   "metadata": {},
   "source": [
    "### Hito 1: Sesión Presencial 1, Unidad 7\n",
    "Completar el punto de Preliminares, así como Aspectos computacionales.\n",
    "* Elementos a considerar en éste hito:\n",
    "    * Los dos enunciados deben estar clarificados, considerando el tipo de problema a resolver (regresión o clasificación). Para cada uno de los enunciados y su problema identificado, se debe justificar el uso de métricas para medir el desempeño del problema. (3 puntos)\n",
    "    * Se debe considerar el uso de las librerías asociadas para la ingesta, preprocesamiento, visualización y modelación, así como métricas de evaluación. (1 punto)\n",
    "    * Se debe detallar y considerar el proceso de preprocesamiento y recodificación de datos. (1punto)\n",
    "* Entregable: Dos notebooks (uno por enunciado) con todos los puntos detallados."
   ]
  },
  {
   "cell_type": "markdown",
   "metadata": {},
   "source": [
    "### Desafío 1: Determinantes del ingreso\n",
    "#### Enunciado\n",
    "Usted trabaja para un  organismo no  gubernamental que está interesado en  las  dinámicas socioeconómicas que determinan la desigualdad de ingreso y la erradicación de la pobreza extrema,enmarcado dentro de los objetivos del desarrollo del nuevo milenio del Programa de las NacionesUnidas para el  Desarrollo. Le  encomiendan el  desarrollo de  un  modelo predictivo  sobre la probabilidad que un individuo presente salarios por sobre o bajo los 50.000 dólares anuales, en basea una serie de atributos sociodemográficos.\n",
    "#### Aspectos adicionales a considerar\n",
    "* La base de datos contiene los valores perdidos como '?'. Deberá transformarlos para poder trabajar de forma adecuada.\n"
   ]
  },
  {
   "cell_type": "code",
   "execution_count": 2,
   "metadata": {},
   "outputs": [
    {
     "data": {
      "text/html": [
       "<div>\n",
       "<style scoped>\n",
       "    .dataframe tbody tr th:only-of-type {\n",
       "        vertical-align: middle;\n",
       "    }\n",
       "\n",
       "    .dataframe tbody tr th {\n",
       "        vertical-align: top;\n",
       "    }\n",
       "\n",
       "    .dataframe thead th {\n",
       "        text-align: right;\n",
       "    }\n",
       "</style>\n",
       "<table border=\"1\" class=\"dataframe\">\n",
       "  <thead>\n",
       "    <tr style=\"text-align: right;\">\n",
       "      <th></th>\n",
       "      <th>age</th>\n",
       "      <th>workclass</th>\n",
       "      <th>fnlwgt</th>\n",
       "      <th>education</th>\n",
       "      <th>educational-num</th>\n",
       "      <th>marital-status</th>\n",
       "      <th>occupation</th>\n",
       "      <th>relationship</th>\n",
       "      <th>race</th>\n",
       "      <th>gender</th>\n",
       "      <th>capital-gain</th>\n",
       "      <th>capital-loss</th>\n",
       "      <th>hours-per-week</th>\n",
       "      <th>native-country</th>\n",
       "      <th>income</th>\n",
       "    </tr>\n",
       "  </thead>\n",
       "  <tbody>\n",
       "    <tr>\n",
       "      <td>0</td>\n",
       "      <td>25</td>\n",
       "      <td>Private</td>\n",
       "      <td>226802</td>\n",
       "      <td>11th</td>\n",
       "      <td>7</td>\n",
       "      <td>Never-married</td>\n",
       "      <td>Machine-op-inspct</td>\n",
       "      <td>Own-child</td>\n",
       "      <td>Black</td>\n",
       "      <td>Male</td>\n",
       "      <td>0</td>\n",
       "      <td>0</td>\n",
       "      <td>40</td>\n",
       "      <td>United-States</td>\n",
       "      <td>&lt;=50K</td>\n",
       "    </tr>\n",
       "    <tr>\n",
       "      <td>1</td>\n",
       "      <td>38</td>\n",
       "      <td>Private</td>\n",
       "      <td>89814</td>\n",
       "      <td>HS-grad</td>\n",
       "      <td>9</td>\n",
       "      <td>Married-civ-spouse</td>\n",
       "      <td>Farming-fishing</td>\n",
       "      <td>Husband</td>\n",
       "      <td>White</td>\n",
       "      <td>Male</td>\n",
       "      <td>0</td>\n",
       "      <td>0</td>\n",
       "      <td>50</td>\n",
       "      <td>United-States</td>\n",
       "      <td>&lt;=50K</td>\n",
       "    </tr>\n",
       "    <tr>\n",
       "      <td>2</td>\n",
       "      <td>28</td>\n",
       "      <td>Local-gov</td>\n",
       "      <td>336951</td>\n",
       "      <td>Assoc-acdm</td>\n",
       "      <td>12</td>\n",
       "      <td>Married-civ-spouse</td>\n",
       "      <td>Protective-serv</td>\n",
       "      <td>Husband</td>\n",
       "      <td>White</td>\n",
       "      <td>Male</td>\n",
       "      <td>0</td>\n",
       "      <td>0</td>\n",
       "      <td>40</td>\n",
       "      <td>United-States</td>\n",
       "      <td>&gt;50K</td>\n",
       "    </tr>\n",
       "    <tr>\n",
       "      <td>3</td>\n",
       "      <td>44</td>\n",
       "      <td>Private</td>\n",
       "      <td>160323</td>\n",
       "      <td>Some-college</td>\n",
       "      <td>10</td>\n",
       "      <td>Married-civ-spouse</td>\n",
       "      <td>Machine-op-inspct</td>\n",
       "      <td>Husband</td>\n",
       "      <td>Black</td>\n",
       "      <td>Male</td>\n",
       "      <td>7688</td>\n",
       "      <td>0</td>\n",
       "      <td>40</td>\n",
       "      <td>United-States</td>\n",
       "      <td>&gt;50K</td>\n",
       "    </tr>\n",
       "    <tr>\n",
       "      <td>4</td>\n",
       "      <td>18</td>\n",
       "      <td>?</td>\n",
       "      <td>103497</td>\n",
       "      <td>Some-college</td>\n",
       "      <td>10</td>\n",
       "      <td>Never-married</td>\n",
       "      <td>?</td>\n",
       "      <td>Own-child</td>\n",
       "      <td>White</td>\n",
       "      <td>Female</td>\n",
       "      <td>0</td>\n",
       "      <td>0</td>\n",
       "      <td>30</td>\n",
       "      <td>United-States</td>\n",
       "      <td>&lt;=50K</td>\n",
       "    </tr>\n",
       "  </tbody>\n",
       "</table>\n",
       "</div>"
      ],
      "text/plain": [
       "   age  workclass  fnlwgt     education  educational-num      marital-status  \\\n",
       "0   25    Private  226802          11th                7       Never-married   \n",
       "1   38    Private   89814       HS-grad                9  Married-civ-spouse   \n",
       "2   28  Local-gov  336951    Assoc-acdm               12  Married-civ-spouse   \n",
       "3   44    Private  160323  Some-college               10  Married-civ-spouse   \n",
       "4   18          ?  103497  Some-college               10       Never-married   \n",
       "\n",
       "          occupation relationship   race  gender  capital-gain  capital-loss  \\\n",
       "0  Machine-op-inspct    Own-child  Black    Male             0             0   \n",
       "1    Farming-fishing      Husband  White    Male             0             0   \n",
       "2    Protective-serv      Husband  White    Male             0             0   \n",
       "3  Machine-op-inspct      Husband  Black    Male          7688             0   \n",
       "4                  ?    Own-child  White  Female             0             0   \n",
       "\n",
       "   hours-per-week native-country income  \n",
       "0              40  United-States  <=50K  \n",
       "1              50  United-States  <=50K  \n",
       "2              40  United-States   >50K  \n",
       "3              40  United-States   >50K  \n",
       "4              30  United-States  <=50K  "
      ]
     },
     "execution_count": 2,
     "metadata": {},
     "output_type": "execute_result"
    }
   ],
   "source": [
    "#Primero se lee el archivo 'income-df.csv' y se mostrarán algunos valores de ciertas series\n",
    "df = pd.read_csv('income-db.csv')\n",
    "df.head()"
   ]
  },
  {
   "cell_type": "code",
   "execution_count": 3,
   "metadata": {},
   "outputs": [
    {
     "name": "stdout",
     "output_type": "stream",
     "text": [
      "(48842, 15)\n"
     ]
    }
   ],
   "source": [
    "#Para ver el tamaño de nuestro DataFrame\n",
    "print(df.shape) "
   ]
  },
  {
   "cell_type": "code",
   "execution_count": 4,
   "metadata": {},
   "outputs": [],
   "source": [
    "#El archivo contiene 15 columnas y 48842 filas. Para reemplazar los valores perdidos,debemos utilizar el método .replace() \n",
    "#de la siguiente forma:\n",
    "\n",
    "df_subset = df.replace('?', np.nan)"
   ]
  },
  {
   "cell_type": "code",
   "execution_count": 5,
   "metadata": {},
   "outputs": [
    {
     "name": "stdout",
     "output_type": "stream",
     "text": [
      "<class 'pandas.core.frame.DataFrame'>\n",
      "RangeIndex: 48842 entries, 0 to 48841\n",
      "Data columns (total 15 columns):\n",
      "age                48842 non-null int64\n",
      "workclass          46043 non-null object\n",
      "fnlwgt             48842 non-null int64\n",
      "education          48842 non-null object\n",
      "educational-num    48842 non-null int64\n",
      "marital-status     48842 non-null object\n",
      "occupation         46033 non-null object\n",
      "relationship       48842 non-null object\n",
      "race               48842 non-null object\n",
      "gender             48842 non-null object\n",
      "capital-gain       48842 non-null int64\n",
      "capital-loss       48842 non-null int64\n",
      "hours-per-week     48842 non-null int64\n",
      "native-country     47985 non-null object\n",
      "income             48842 non-null object\n",
      "dtypes: int64(6), object(9)\n",
      "memory usage: 5.6+ MB\n"
     ]
    }
   ],
   "source": [
    "#Utilizaremos el método .info() el cual nos imprimirá información de nuestro DataFrame\n",
    "df_subset.info()"
   ]
  },
  {
   "cell_type": "code",
   "execution_count": 6,
   "metadata": {},
   "outputs": [
    {
     "data": {
      "text/plain": [
       "'\\nSegún lo reportado por el método Info del DataFrame, las columnas \"workclass\", \"occupation\", y \"native-country\" tienen valores\\nN/A\\n\\nUna forma de visualizar la cantidad de valores perdidos es mediante la incorporación de la librería missingno\\n'"
      ]
     },
     "execution_count": 6,
     "metadata": {},
     "output_type": "execute_result"
    }
   ],
   "source": [
    "\"\"\"\n",
    "Según lo reportado por el método Info del DataFrame, las columnas \"workclass\", \"occupation\", y \"native-country\" tienen valores\n",
    "N/A\n",
    "\n",
    "Una forma de visualizar la cantidad de valores perdidos es mediante la incorporación de la librería missingno\n",
    "\"\"\""
   ]
  },
  {
   "cell_type": "code",
   "execution_count": 7,
   "metadata": {},
   "outputs": [
    {
     "data": {
      "text/plain": [
       "<matplotlib.axes._subplots.AxesSubplot at 0x13714236e48>"
      ]
     },
     "execution_count": 7,
     "metadata": {},
     "output_type": "execute_result"
    },
    {
     "data": {
      "image/png": "[encoded data removed]",
      "text/plain": [
       "<Figure size 1800x720 with 2 Axes>"
      ]
     },
     "metadata": {
      "needs_background": "light"
     },
     "output_type": "display_data"
    }
   ],
   "source": [
    "msgn.matrix(df_subset)"
   ]
  },
  {
   "cell_type": "code",
   "execution_count": 8,
   "metadata": {},
   "outputs": [
    {
     "data": {
      "text/plain": [
       "'\\nEsto nos muestra un reporte gráfico sobre el cual que items, podemos encontrar una mayor cantidad de valores perdidos.\\n\\nTal como se ve en el gráfico del Out[7] la cantidad de datos perdidos se concentran en las columnas de \"Worclass\",\"occupation\" \\ny \"Native-country\". Para observar la cantidad de datos perdidos respecto a la cantidad total, hacemos lo siguiente:\\n\\n'"
      ]
     },
     "execution_count": 8,
     "metadata": {},
     "output_type": "execute_result"
    }
   ],
   "source": [
    "\"\"\"\n",
    "Esto nos muestra un reporte gráfico sobre el cual que items, podemos encontrar una mayor cantidad de valores perdidos.\n",
    "\n",
    "Tal como se ve en el gráfico del Out[7] la cantidad de datos perdidos se concentran en las columnas de \"Worclass\",\"occupation\" \n",
    "y \"Native-country\". Para observar la cantidad de datos perdidos respecto a la cantidad total, hacemos lo siguiente:\n",
    "\n",
    "\"\"\""
   ]
  },
  {
   "cell_type": "code",
   "execution_count": 9,
   "metadata": {},
   "outputs": [
    {
     "name": "stdout",
     "output_type": "stream",
     "text": [
      "El porcentaje de datos perdidos de la variable Workclass es: 5.73%\n"
     ]
    }
   ],
   "source": [
    "non_nan_workclass_rows = len(df_subset[df_subset['workclass'].isna()])\n",
    "total_rows = len(df_subset)\n",
    "print(f\"El porcentaje de datos perdidos de la variable Workclass es: {round(non_nan_workclass_rows/total_rows * 100, 2)}%\")"
   ]
  },
  {
   "cell_type": "code",
   "execution_count": 10,
   "metadata": {},
   "outputs": [
    {
     "name": "stdout",
     "output_type": "stream",
     "text": [
      "El porcentaje de datos perdidos de la variable Occupation es: 5.75%\n"
     ]
    }
   ],
   "source": [
    "non_nan_occupation_rows = len(df_subset[df_subset['occupation'].isna()])\n",
    "print(f\"El porcentaje de datos perdidos de la variable Occupation es: {round(non_nan_occupation_rows/total_rows * 100, 2)}%\")"
   ]
  },
  {
   "cell_type": "code",
   "execution_count": 11,
   "metadata": {},
   "outputs": [
    {
     "name": "stdout",
     "output_type": "stream",
     "text": [
      "El porcentaje de datos perdidos de la variable Native Country es: 1.75%\n"
     ]
    }
   ],
   "source": [
    "non_nan_native_country_rows = len(df_subset[df_subset['native-country'].isna()])\n",
    "print(f\"El porcentaje de datos perdidos de la variable Native Country es: {round(non_nan_native_country_rows/total_rows * 100, 2)}%\") "
   ]
  },
  {
   "cell_type": "code",
   "execution_count": 12,
   "metadata": {},
   "outputs": [
    {
     "name": "stdout",
     "output_type": "stream",
     "text": [
      "El porcentaje de datos perdidos si eliminamos todos los N/A es de: 92.59%\n"
     ]
    }
   ],
   "source": [
    "dropped_df = df_subset.dropna()\n",
    "print(f\"El porcentaje de datos perdidos si eliminamos todos los N/A es de: {round(len(dropped_df)/len(df_subset)*100, 2)}%\")"
   ]
  },
  {
   "cell_type": "markdown",
   "metadata": {},
   "source": [
    "#####  Como los datos perdidos representan un poco más del 7% de la muestra consideramos que eliminarlos seria un error, por lo que optamos por dejarlos como valores nulos para despues poder seguir usando la serie aunque esta tenga un valor nulo que puede ser dropeado"
   ]
  },
  {
   "cell_type": "markdown",
   "metadata": {},
   "source": [
    "* Desde la organización le sugieren que debe recodificar las siguientes variables acorde a las siguientes nomenclaturas:\n",
    "    * occupation debe recodificarse como collars siguiendo una nomenclatura similar a:\n",
    "        * white-collar $\\leftarrow$ Prof-specialty, Exec-managerial, Adm-clerical, Sales,Tech-support.\n",
    "        * blue-collar $\\leftarrow$ Craft-repair, Machine-op-inspct, Transport-moving,Handlers-cleaners, Farming-fishing, Protective-serv, Priv-house-serv.\n",
    "        * others $\\leftarrow$ Other-service, Armed-Forces.\n",
    "    * workclass debe recodificarse como workclass_recod siguiendo una nomenclatura similar a:\n",
    "        * federal-gov $\\leftarrow$ Federal-gov.\n",
    "        * state-level-gov $\\leftarrow$ State-gov, Local-gov.\n",
    "        * self-employed $\\leftarrow$ Self-emp-inc, Self-emp-not-inc\n",
    "        * unemployed $\\leftarrow$ Never-worked, Without-pay.\n",
    "    * education debe recodificarse como educ_recod siguiendo una nomenclatura similar a:\n",
    "        * preschool$\\leftarrow$ Preschool\n",
    "        * elementary-school$\\leftarrow$ 1st-4th, 5th-6th\n",
    "        * high-school$\\leftarrow$ 7th-8th, 9th, 10th,11th, 12th, HS-grad\n",
    "        * college$\\leftarrow$ Assoc-voc, Assoc-acdm, Some-college\n",
    "        * university$\\leftarrow$ Bachelors, Masters, Prof-school, Doctorate\n",
    "    * marital-status  debe recodificarse como civstatus  siguiendo una  nomenclaturasimilar a:\n",
    "        * married$\\leftarrow$ Married-civ-spouse, Married-spouse-absent, Married-AF-spouse\n",
    "        * divorced$\\leftarrow$ Divorced\n",
    "        * separated$\\leftarrow$ Separated\n",
    "        * widowed$\\leftarrow$ Widowed\n",
    "    * native-country debe recodificarse como region donde cada país debe asignarse a uno de los 5 continentes\n",
    "    * income debe recodificarse de forma binaria."
   ]
  },
  {
   "cell_type": "markdown",
   "metadata": {},
   "source": [
    "### Recodificacion de Occupation:"
   ]
  },
  {
   "cell_type": "code",
   "execution_count": 13,
   "metadata": {},
   "outputs": [
    {
     "data": {
      "text/plain": [
       "Prof-specialty       6172\n",
       "Craft-repair         6112\n",
       "Exec-managerial      6086\n",
       "Adm-clerical         5611\n",
       "Sales                5504\n",
       "Other-service        4923\n",
       "Machine-op-inspct    3022\n",
       "Transport-moving     2355\n",
       "Handlers-cleaners    2072\n",
       "Farming-fishing      1490\n",
       "Tech-support         1446\n",
       "Protective-serv       983\n",
       "Priv-house-serv       242\n",
       "Armed-Forces           15\n",
       "Name: occupation, dtype: int64"
      ]
     },
     "execution_count": 13,
     "metadata": {},
     "output_type": "execute_result"
    }
   ],
   "source": [
    "#La primera columna a recodificar es Occupation. Para ello veremos la cantidad de variables que se encuentran dentro de \n",
    "#la columna. \n",
    "df_subset['occupation'].value_counts()"
   ]
  },
  {
   "cell_type": "code",
   "execution_count": 14,
   "metadata": {},
   "outputs": [],
   "source": [
    "#Luego recodificaremos todas las variables:\n",
    "\n",
    "df_subset['occupation'] = df_subset['occupation'].replace([\n",
    "    #white-collar\n",
    "    'Prof-specialty', 'Exec-managerial', 'Adm-clerical','Sales','Tech-support',\n",
    "    #blue-collar\n",
    "    'Craft-repair','Machine-op-inspct','Transport-moving','Handlers-cleaners', 'Farming-fishing','Protective-serv','Priv-house-serv',\n",
    "    #others\n",
    "    'Other-service', 'Armed-Forces'\n",
    "],\n",
    "[   #white-collar\n",
    "    'white-collar','white-collar','white-collar','white-collar', 'white-collar',\n",
    "    #blue-collar\n",
    "    'blue-collar', 'blue-collar', 'blue-collar','blue-collar', 'blue-collar', 'blue-collar', 'blue-collar',\n",
    "    #others\n",
    "    'others', 'others'\n",
    "])\n",
    "\n"
   ]
  },
  {
   "cell_type": "code",
   "execution_count": 15,
   "metadata": {},
   "outputs": [],
   "source": [
    "#Luego para verificar la recodificación de las variables:"
   ]
  },
  {
   "cell_type": "code",
   "execution_count": 16,
   "metadata": {},
   "outputs": [
    {
     "data": {
      "text/plain": [
       "white-collar    24819\n",
       "blue-collar     16276\n",
       "others           4938\n",
       "Name: occupation, dtype: int64"
      ]
     },
     "execution_count": 16,
     "metadata": {},
     "output_type": "execute_result"
    }
   ],
   "source": [
    "df_subset['occupation'].value_counts()"
   ]
  },
  {
   "cell_type": "markdown",
   "metadata": {},
   "source": [
    "### Recodificacion de Workclass:"
   ]
  },
  {
   "cell_type": "code",
   "execution_count": 17,
   "metadata": {},
   "outputs": [
    {
     "data": {
      "text/plain": [
       "Private             33906\n",
       "Self-emp-not-inc     3862\n",
       "Local-gov            3136\n",
       "State-gov            1981\n",
       "Self-emp-inc         1695\n",
       "Federal-gov          1432\n",
       "Without-pay            21\n",
       "Never-worked           10\n",
       "Name: workclass, dtype: int64"
      ]
     },
     "execution_count": 17,
     "metadata": {},
     "output_type": "execute_result"
    }
   ],
   "source": [
    "#Para las siguiente columnas se hará el mismo procedimiento\n",
    "df_subset['workclass'].value_counts()"
   ]
  },
  {
   "cell_type": "code",
   "execution_count": 18,
   "metadata": {},
   "outputs": [],
   "source": [
    "df_subset['workclass'] = df_subset['workclass'].replace([\n",
    "    'Federal-gov',\n",
    "    'State-gov', 'Local-gov',\n",
    "    'Self-emp-inc', 'Self-emp-not-inc',\n",
    "    'Never-worked', 'Without-pay'\n",
    "],\n",
    "[\n",
    "    'federal-gov','state-level-gov', 'state-level-gov',\n",
    "    'self-employed', 'self-employed', 'unemployed', 'unemployed'\n",
    "])"
   ]
  },
  {
   "cell_type": "code",
   "execution_count": 19,
   "metadata": {},
   "outputs": [
    {
     "data": {
      "text/plain": [
       "Private            33906\n",
       "self-employed       5557\n",
       "state-level-gov     5117\n",
       "federal-gov         1432\n",
       "unemployed            31\n",
       "Name: workclass, dtype: int64"
      ]
     },
     "execution_count": 19,
     "metadata": {},
     "output_type": "execute_result"
    }
   ],
   "source": [
    "df_subset['workclass'].value_counts()"
   ]
  },
  {
   "cell_type": "markdown",
   "metadata": {},
   "source": [
    "### Recodificacion de Education:"
   ]
  },
  {
   "cell_type": "code",
   "execution_count": 20,
   "metadata": {},
   "outputs": [
    {
     "data": {
      "text/plain": [
       "HS-grad         15784\n",
       "Some-college    10878\n",
       "Bachelors        8025\n",
       "Masters          2657\n",
       "Assoc-voc        2061\n",
       "11th             1812\n",
       "Assoc-acdm       1601\n",
       "10th             1389\n",
       "7th-8th           955\n",
       "Prof-school       834\n",
       "9th               756\n",
       "12th              657\n",
       "Doctorate         594\n",
       "5th-6th           509\n",
       "1st-4th           247\n",
       "Preschool          83\n",
       "Name: education, dtype: int64"
      ]
     },
     "execution_count": 20,
     "metadata": {},
     "output_type": "execute_result"
    }
   ],
   "source": [
    "df_subset['education'].value_counts()"
   ]
  },
  {
   "cell_type": "code",
   "execution_count": 21,
   "metadata": {},
   "outputs": [],
   "source": [
    "df_subset['education'] = df_subset['education'].replace([\n",
    "    'Preschool',\n",
    "    '1st-4th', '5th-6th',\n",
    "    '7th-8th', '9th', '10th','11th', '12th', 'HS-grad',\n",
    "    'Assoc-voc', 'Assoc-acdm', 'Some-college',\n",
    "    'Bachelors', 'Masters', 'Prof-school', 'Doctorate'\n",
    "],\n",
    "[\n",
    "    'preschool', \n",
    "    'elementary-school', 'elementary-school',\n",
    "    'high-school', 'high-school', 'high-school','high-school', 'high-school', 'high-school',\n",
    "    'college', 'college', 'college',\n",
    "    'university', 'university', 'university', 'university'\n",
    "])"
   ]
  },
  {
   "cell_type": "code",
   "execution_count": 22,
   "metadata": {},
   "outputs": [
    {
     "data": {
      "text/plain": [
       "high-school          21353\n",
       "college              14540\n",
       "university           12110\n",
       "elementary-school      756\n",
       "preschool               83\n",
       "Name: education, dtype: int64"
      ]
     },
     "execution_count": 22,
     "metadata": {},
     "output_type": "execute_result"
    }
   ],
   "source": [
    "df_subset['education'].value_counts()"
   ]
  },
  {
   "cell_type": "markdown",
   "metadata": {},
   "source": [
    "### Recodificacion de Marital Status:"
   ]
  },
  {
   "cell_type": "code",
   "execution_count": 23,
   "metadata": {},
   "outputs": [
    {
     "data": {
      "text/plain": [
       "Married-civ-spouse       22379\n",
       "Never-married            16117\n",
       "Divorced                  6633\n",
       "Separated                 1530\n",
       "Widowed                   1518\n",
       "Married-spouse-absent      628\n",
       "Married-AF-spouse           37\n",
       "Name: marital-status, dtype: int64"
      ]
     },
     "execution_count": 23,
     "metadata": {},
     "output_type": "execute_result"
    }
   ],
   "source": [
    "df_subset['marital-status'].value_counts()"
   ]
  },
  {
   "cell_type": "code",
   "execution_count": 24,
   "metadata": {},
   "outputs": [],
   "source": [
    "df_subset['marital-status'] = df_subset['marital-status'].replace([\n",
    "    'Married-civ-spouse', 'Married-spouse-absent', 'Married-AF-spouse',\n",
    "    'Divorced',\n",
    "    'Separated',\n",
    "    'Widowed'\n",
    "],\n",
    "[\n",
    "    'married','married', 'married',\n",
    "    'divorced',\n",
    "    'separated',\n",
    "    'widowed'\n",
    "])"
   ]
  },
  {
   "cell_type": "code",
   "execution_count": 25,
   "metadata": {},
   "outputs": [
    {
     "data": {
      "text/plain": [
       "married          23044\n",
       "Never-married    16117\n",
       "divorced          6633\n",
       "separated         1530\n",
       "widowed           1518\n",
       "Name: marital-status, dtype: int64"
      ]
     },
     "execution_count": 25,
     "metadata": {},
     "output_type": "execute_result"
    }
   ],
   "source": [
    "df_subset['marital-status'].value_counts()"
   ]
  },
  {
   "cell_type": "markdown",
   "metadata": {},
   "source": [
    "### Recodificacion de Native Country:"
   ]
  },
  {
   "cell_type": "code",
   "execution_count": 26,
   "metadata": {},
   "outputs": [
    {
     "data": {
      "text/plain": [
       "United-States                 43832\n",
       "Mexico                          951\n",
       "Philippines                     295\n",
       "Germany                         206\n",
       "Puerto-Rico                     184\n",
       "Canada                          182\n",
       "El-Salvador                     155\n",
       "India                           151\n",
       "Cuba                            138\n",
       "England                         127\n",
       "China                           122\n",
       "South                           115\n",
       "Jamaica                         106\n",
       "Italy                           105\n",
       "Dominican-Republic              103\n",
       "Japan                            92\n",
       "Guatemala                        88\n",
       "Poland                           87\n",
       "Vietnam                          86\n",
       "Columbia                         85\n",
       "Haiti                            75\n",
       "Portugal                         67\n",
       "Taiwan                           65\n",
       "Iran                             59\n",
       "Nicaragua                        49\n",
       "Greece                           49\n",
       "Peru                             46\n",
       "Ecuador                          45\n",
       "France                           38\n",
       "Ireland                          37\n",
       "Hong                             30\n",
       "Thailand                         30\n",
       "Cambodia                         28\n",
       "Trinadad&Tobago                  27\n",
       "Yugoslavia                       23\n",
       "Laos                             23\n",
       "Outlying-US(Guam-USVI-etc)       23\n",
       "Scotland                         21\n",
       "Honduras                         20\n",
       "Hungary                          19\n",
       "Holand-Netherlands                1\n",
       "Name: native-country, dtype: int64"
      ]
     },
     "execution_count": 26,
     "metadata": {},
     "output_type": "execute_result"
    }
   ],
   "source": [
    "df_subset['native-country'].value_counts()"
   ]
  },
  {
   "cell_type": "code",
   "execution_count": 27,
   "metadata": {},
   "outputs": [],
   "source": [
    "df_subset['native-country'] = df_subset['native-country'].replace ([\n",
    "    'United-States', 'Peru', 'Guatemala', 'Mexico','Dominican-Republic',\n",
    "    'El-Salvador', 'Puerto-Rico', 'Columbia', 'Cuba', 'Canada',\n",
    "    'Nicaragua', 'Honduras','Jamaica','Ecuador', 'Haiti','Trinadad&Tobago',\n",
    "    'Outlying-US(Guam-USVI-etc)',\n",
    "    #europa\n",
    "    'Ireland', 'Germany','Poland', 'England', 'Italy', 'Portugal',\n",
    "    'Scotland', 'Yugoslavia', 'Hungary', 'Greece', 'France', 'Holand-Netherlands',\n",
    "    #asia\n",
    "    'Philippines', 'Thailand', 'Vietnam',\n",
    "    'South', 'Japan', 'India', 'Cambodia', 'Laos', 'Taiwan', 'China',\n",
    "    'Iran', 'Hong', 'Philippines'\n",
    "],\n",
    "[\n",
    "    'america', 'america','america', 'america', 'america',\n",
    "    'america', 'america', 'america', 'america', 'america',\n",
    "    'america','america','america','america', 'america', 'america',\n",
    "    'america',\n",
    "    #europa\n",
    "    'europa', 'europa', 'europa', 'europa', 'europa', 'europa',\n",
    "    'europa', 'europa', 'europa', 'europa', 'europa', 'europa',\n",
    "    #asia\n",
    "    'asia', 'asia', 'asia',\n",
    "    'asia', 'asia', 'asia', 'asia', 'asia', 'asia', 'asia',\n",
    "    'asia', 'asia', 'asia'\n",
    "])"
   ]
  },
  {
   "cell_type": "code",
   "execution_count": 28,
   "metadata": {},
   "outputs": [
    {
     "data": {
      "text/plain": [
       "america    46109\n",
       "asia        1096\n",
       "europa       780\n",
       "Name: native-country, dtype: int64"
      ]
     },
     "execution_count": 28,
     "metadata": {},
     "output_type": "execute_result"
    }
   ],
   "source": [
    "df_subset['native-country'].value_counts()"
   ]
  },
  {
   "cell_type": "markdown",
   "metadata": {},
   "source": [
    "### Recodificacion de Income:"
   ]
  },
  {
   "cell_type": "code",
   "execution_count": 29,
   "metadata": {},
   "outputs": [
    {
     "data": {
      "text/plain": [
       "<=50K    37155\n",
       ">50K     11687\n",
       "Name: income, dtype: int64"
      ]
     },
     "execution_count": 29,
     "metadata": {},
     "output_type": "execute_result"
    }
   ],
   "source": [
    "df_subset['income'].value_counts()"
   ]
  },
  {
   "cell_type": "code",
   "execution_count": 30,
   "metadata": {},
   "outputs": [],
   "source": [
    "df_subset['income'] = np.where(df_subset['income'] == '>50K', 1, 0)"
   ]
  },
  {
   "cell_type": "code",
   "execution_count": 31,
   "metadata": {},
   "outputs": [
    {
     "data": {
      "text/plain": [
       "0    37155\n",
       "1    11687\n",
       "Name: income, dtype: int64"
      ]
     },
     "execution_count": 31,
     "metadata": {},
     "output_type": "execute_result"
    }
   ],
   "source": [
    "df_subset['income'].value_counts()"
   ]
  },
  {
   "cell_type": "markdown",
   "metadata": {},
   "source": [
    "## Renombrando las columnas:"
   ]
  },
  {
   "cell_type": "code",
   "execution_count": 32,
   "metadata": {},
   "outputs": [],
   "source": [
    "#Finalmente debemos renombrar el nombre de las columnas"
   ]
  },
  {
   "cell_type": "code",
   "execution_count": 33,
   "metadata": {},
   "outputs": [
    {
     "data": {
      "text/plain": [
       "Index(['age', 'workclass', 'fnlwgt', 'education', 'educational-num',\n",
       "       'marital-status', 'occupation', 'relationship', 'race', 'gender',\n",
       "       'capital-gain', 'capital-loss', 'hours-per-week', 'native-country',\n",
       "       'income'],\n",
       "      dtype='object')"
      ]
     },
     "execution_count": 33,
     "metadata": {},
     "output_type": "execute_result"
    }
   ],
   "source": [
    "df_subset.columns"
   ]
  },
  {
   "cell_type": "code",
   "execution_count": 34,
   "metadata": {},
   "outputs": [
    {
     "data": {
      "text/plain": [
       "Index(['age', 'workclass_recod', 'fnlwgt', 'educ_recod', 'educational-num',\n",
       "       'civstatus', 'collars', 'relationship', 'race', 'gender',\n",
       "       'capital-gain', 'capital-loss', 'hours-per-week', 'region', 'income'],\n",
       "      dtype='object')"
      ]
     },
     "execution_count": 34,
     "metadata": {},
     "output_type": "execute_result"
    }
   ],
   "source": [
    "df_subset.columns = [\n",
    "    'age', 'workclass_recod', 'fnlwgt', 'educ_recod', 'educational-num',\n",
    "    'civstatus', 'collars', 'relationship', 'race', 'gender',\n",
    "    'capital-gain', 'capital-loss', 'hours-per-week', 'region',\n",
    "    'income'\n",
    "]\n",
    "df_subset.columns"
   ]
  },
  {
   "cell_type": "code",
   "execution_count": 35,
   "metadata": {},
   "outputs": [
    {
     "data": {
      "text/html": [
       "<div>\n",
       "<style scoped>\n",
       "    .dataframe tbody tr th:only-of-type {\n",
       "        vertical-align: middle;\n",
       "    }\n",
       "\n",
       "    .dataframe tbody tr th {\n",
       "        vertical-align: top;\n",
       "    }\n",
       "\n",
       "    .dataframe thead th {\n",
       "        text-align: right;\n",
       "    }\n",
       "</style>\n",
       "<table border=\"1\" class=\"dataframe\">\n",
       "  <thead>\n",
       "    <tr style=\"text-align: right;\">\n",
       "      <th></th>\n",
       "      <th>age</th>\n",
       "      <th>workclass_recod</th>\n",
       "      <th>fnlwgt</th>\n",
       "      <th>educ_recod</th>\n",
       "      <th>educational-num</th>\n",
       "      <th>civstatus</th>\n",
       "      <th>collars</th>\n",
       "      <th>relationship</th>\n",
       "      <th>race</th>\n",
       "      <th>gender</th>\n",
       "      <th>capital-gain</th>\n",
       "      <th>capital-loss</th>\n",
       "      <th>hours-per-week</th>\n",
       "      <th>region</th>\n",
       "      <th>income</th>\n",
       "    </tr>\n",
       "  </thead>\n",
       "  <tbody>\n",
       "    <tr>\n",
       "      <td>27462</td>\n",
       "      <td>47</td>\n",
       "      <td>self-employed</td>\n",
       "      <td>318593</td>\n",
       "      <td>high-school</td>\n",
       "      <td>9</td>\n",
       "      <td>married</td>\n",
       "      <td>white-collar</td>\n",
       "      <td>Husband</td>\n",
       "      <td>White</td>\n",
       "      <td>Male</td>\n",
       "      <td>0</td>\n",
       "      <td>0</td>\n",
       "      <td>25</td>\n",
       "      <td>america</td>\n",
       "      <td>0</td>\n",
       "    </tr>\n",
       "    <tr>\n",
       "      <td>14463</td>\n",
       "      <td>30</td>\n",
       "      <td>federal-gov</td>\n",
       "      <td>195337</td>\n",
       "      <td>high-school</td>\n",
       "      <td>9</td>\n",
       "      <td>Never-married</td>\n",
       "      <td>white-collar</td>\n",
       "      <td>Unmarried</td>\n",
       "      <td>Other</td>\n",
       "      <td>Female</td>\n",
       "      <td>1506</td>\n",
       "      <td>0</td>\n",
       "      <td>45</td>\n",
       "      <td>america</td>\n",
       "      <td>0</td>\n",
       "    </tr>\n",
       "    <tr>\n",
       "      <td>44371</td>\n",
       "      <td>45</td>\n",
       "      <td>Private</td>\n",
       "      <td>122195</td>\n",
       "      <td>high-school</td>\n",
       "      <td>9</td>\n",
       "      <td>widowed</td>\n",
       "      <td>blue-collar</td>\n",
       "      <td>Unmarried</td>\n",
       "      <td>Black</td>\n",
       "      <td>Female</td>\n",
       "      <td>0</td>\n",
       "      <td>0</td>\n",
       "      <td>40</td>\n",
       "      <td>america</td>\n",
       "      <td>0</td>\n",
       "    </tr>\n",
       "    <tr>\n",
       "      <td>14284</td>\n",
       "      <td>33</td>\n",
       "      <td>Private</td>\n",
       "      <td>393702</td>\n",
       "      <td>college</td>\n",
       "      <td>11</td>\n",
       "      <td>divorced</td>\n",
       "      <td>white-collar</td>\n",
       "      <td>Unmarried</td>\n",
       "      <td>White</td>\n",
       "      <td>Female</td>\n",
       "      <td>0</td>\n",
       "      <td>0</td>\n",
       "      <td>40</td>\n",
       "      <td>america</td>\n",
       "      <td>0</td>\n",
       "    </tr>\n",
       "    <tr>\n",
       "      <td>47352</td>\n",
       "      <td>42</td>\n",
       "      <td>Private</td>\n",
       "      <td>176716</td>\n",
       "      <td>university</td>\n",
       "      <td>14</td>\n",
       "      <td>Never-married</td>\n",
       "      <td>white-collar</td>\n",
       "      <td>Not-in-family</td>\n",
       "      <td>White</td>\n",
       "      <td>Male</td>\n",
       "      <td>0</td>\n",
       "      <td>0</td>\n",
       "      <td>40</td>\n",
       "      <td>america</td>\n",
       "      <td>1</td>\n",
       "    </tr>\n",
       "  </tbody>\n",
       "</table>\n",
       "</div>"
      ],
      "text/plain": [
       "       age workclass_recod  fnlwgt   educ_recod  educational-num  \\\n",
       "27462   47   self-employed  318593  high-school                9   \n",
       "14463   30     federal-gov  195337  high-school                9   \n",
       "44371   45         Private  122195  high-school                9   \n",
       "14284   33         Private  393702      college               11   \n",
       "47352   42         Private  176716   university               14   \n",
       "\n",
       "           civstatus       collars   relationship   race  gender  \\\n",
       "27462        married  white-collar        Husband  White    Male   \n",
       "14463  Never-married  white-collar      Unmarried  Other  Female   \n",
       "44371        widowed   blue-collar      Unmarried  Black  Female   \n",
       "14284       divorced  white-collar      Unmarried  White  Female   \n",
       "47352  Never-married  white-collar  Not-in-family  White    Male   \n",
       "\n",
       "       capital-gain  capital-loss  hours-per-week   region  income  \n",
       "27462             0             0              25  america       0  \n",
       "14463          1506             0              45  america       0  \n",
       "44371             0             0              40  america       0  \n",
       "14284             0             0              40  america       0  \n",
       "47352             0             0              40  america       1  "
      ]
     },
     "execution_count": 35,
     "metadata": {},
     "output_type": "execute_result"
    }
   ],
   "source": [
    "df_subset.sample(5)"
   ]
  },
  {
   "cell_type": "code",
   "execution_count": null,
   "metadata": {},
   "outputs": [],
   "source": [
    "### Hito 2: Sesión Presencial 2, Unidad 7\n",
    "Completar el punto de Descripción.\n",
    "* Elementos a considerar en éste hito:\n",
    "    * La inspección visual del vector objetivo. (2 puntos)\n",
    "    * La inspección visual de las variables. (2 punto)\n",
    "    * La inspección de datos perdidos en las variables. (1punto)\n",
    "    * De ser necesario, se puede iterar en el proceso de preprocesamiento y recodificación de las variables \n",
    "* Entregable: Dos notebooks (uno por enunciado) con todos los puntos detallados e interpretados. De ser necesario, un archivo con extensión `.py` con todas las funciones implementadas"
   ]
  },
  {
   "cell_type": "code",
   "execution_count": 36,
   "metadata": {},
   "outputs": [],
   "source": [
    "#Primeramente, importaremos las principales librerías para graficar, además, generaremos \n",
    "\n",
    "import missingno as msng\n",
    "import matplotlib.pyplot as plt\n",
    "plt.rcParams[\"figure.figsize\"] = (5, 3)"
   ]
  },
  {
   "cell_type": "code",
   "execution_count": 37,
   "metadata": {},
   "outputs": [],
   "source": [
    "#Primeramente, generaremos gráficos para conocer la cantidad de valores perdidos en las columnas de mayor interes\n",
    "#que en este caso serían las columnas \"workclass\", \"occupation\", \"native-country\""
   ]
  },
  {
   "cell_type": "code",
   "execution_count": null,
   "metadata": {},
   "outputs": [],
   "source": [
    "\n"
   ]
  },
  {
   "cell_type": "markdown",
   "metadata": {
    "scrolled": true
   },
   "source": [
    "### Hito 3: Sesión Presencial 1, Unidad 8\n",
    "Completar el punto de Modelación descriptiva.\n",
    "* Elementos a considerar en éste hito:\n",
    "    * La modelación mediante regresión de ambos problemas. (2 puntos)\n",
    "    * La interpretación de los principales regresores en cada problema. (2 punto)\n",
    "    * La definición de las estrategias de Modelación predictiva. (1punto)\n",
    "    \n",
    "* Entregable: Dos notebooks (uno por enunciado) con todos los puntos detallados e interpretados. De ser necesario, un archivo con extensión `.py` con todas las funciones implementadas"
   ]
  },
  {
   "cell_type": "code",
   "execution_count": null,
   "metadata": {},
   "outputs": [],
   "source": []
  },
  {
   "cell_type": "markdown",
   "metadata": {},
   "source": [
    "En el enunciado se pide un modelo predictivo sobre la probabilidad de que un individuo presente salarios por sobre o bajo\n",
    "los $50.000$ dolares anuales en base a una serie de atributos sociodemográficos. Es decir, buscaremos una relación entre la \n",
    "columna `income` con cada una de las siguiente columnas \n",
    "\n",
    "-`age`\n",
    "-workclass\n",
    "-education\n",
    "-capital-gains\n",
    "-capital-losses\n",
    "-fnlwgt\n",
    "-marital-status\n",
    "-occupation\n",
    "-relationship\n",
    "-race\n",
    "-sex\n",
    "-hours-per-week\n",
    "-native-country\n",
    "\n",
    "Primeramente debemos tener en consideración que la columna independiente \"income\" al ser binarizada, debemos utilizar \n",
    "la Regresión con una variable binaria. Utilizemos la columna \"age\"\n",
    "\"\"\"\n",
    "#Primero debemos importar el módulo formula.api de la librería statsmodels, el cual nos permitirá añadir\n",
    "#una constante a nuestros datos \n",
    "import statsmodels.formula.api as smf"
   ]
  },
  {
   "cell_type": "markdown",
   "metadata": {},
   "source": [
    "#### La función a grafícar será: \n",
    "\n",
    "$$\n",
    "income = \\beta_{0} + \\gamma_{1} \\times age + \\epsilon_{i}\n",
    "$$\n",
    "\n",
    "donde $\\beta_{0}$ es nuetro parámetro estimado para el intercepto, $\\gamma$ es el parámetro estimado para la pendiente\n",
    "\n"
   ]
  },
  {
   "cell_type": "code",
   "execution_count": 46,
   "metadata": {},
   "outputs": [
    {
     "data": {
      "text/plain": [
       "<matplotlib.axes._subplots.AxesSubplot at 0x137161c4518>"
      ]
     },
     "execution_count": 46,
     "metadata": {},
     "output_type": "execute_result"
    },
    {
     "data": {
      "image/png": "[encoded data removed]",
      "text/plain": [
       "<Figure size 360x216 with 1 Axes>"
      ]
     },
     "metadata": {
      "needs_background": "light"
     },
     "output_type": "display_data"
    }
   ],
   "source": [
    "#Luego grafiquemos un boxplot\n",
    "\n",
    "    sns.boxplot(x=df[\"income\"], y=df[\"age\"])"
   ]
  },
  {
   "cell_type": "markdown",
   "metadata": {},
   "source": [
    "Acá se observa que a medida de que la edad aumenta, el sueldo anual es mayor."
   ]
  },
  {
   "cell_type": "code",
   "execution_count": null,
   "metadata": {},
   "outputs": [],
   "source": [
    "#Luego, si queremos estimar el efecto de un atrbuto binario en nuestra variable objetivo. "
   ]
  }
 ],
 "metadata": {
  "kernelspec": {
   "display_name": "Python 3",
   "language": "python",
   "name": "python3"
  },
  "language_info": {
   "codemirror_mode": {
    "name": "ipython",
    "version": 3
   },
   "file_extension": ".py",
   "mimetype": "text/x-python",
   "name": "python",
   "nbconvert_exporter": "python",
   "pygments_lexer": "ipython3",
   "version": "3.7.3"
  }
 },
 "nbformat": 4,
 "nbformat_minor": 2
}
