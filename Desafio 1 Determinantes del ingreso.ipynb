{
 "cells": [
  {
   "cell_type": "markdown",
   "metadata": {},
   "source": [
    "<img style=\"margin: 0 auto;\" src=\"https://desafiolatam.com/assets/home/logo-academia-bla-790873cdf66b0e681dfbe640ace8a602f5330bec301c409744c358330e823ae3.png\">"
   ]
  },
  {
   "cell_type": "markdown",
   "metadata": {},
   "source": [
    "# Desafío 1: Determinantes del ingreso"
   ]
  },
  {
   "cell_type": "markdown",
   "metadata": {},
   "source": [
    "#### Integrantes\n",
    "* Catalina Cerda\n",
    "* José González\n",
    "* Luis Porras"
   ]
  },
  {
   "cell_type": "markdown",
   "metadata": {},
   "source": [
    "## Enunciado\n",
    "\n",
    "Usted trabaja para un  organismo no  gubernamental que está interesado en  las  dinámicas socioeconómicas que determinan la desigualdad de ingreso y la erradicación de la pobreza extrema, enmarcado dentro de los objetivos del desarrollo del nuevo milenio del Programa de las Naciones Unidas para el  Desarrollo.\n",
    "\n",
    "Le encomiendan el  desarrollo de  un  modelo predictivo  sobre la probabilidad que un individuo presente salarios por sobre o bajo los 50.000 dólares anuales, en basea una serie de atributos sociodemográficos.\n",
    "\n",
    "## Descripción de la base de datos:\n",
    "\n",
    "Las variables que componen esta base se detallan a continuación:\n",
    "\n",
    "*\t`age`: Edad del individuo.\n",
    "*\t`workclass`: Naturaleza de la organización que emplea al individuo.\n",
    "*\t`education`: Nivel educacional del individuo.\n",
    "*\t`capital-gains`: Ingresos generados por inversiones fuera del trabajo.\n",
    "*\t`capital-losses`: Pérdidas generadas por inversiones fuera del trabajo asalariado.\n",
    "*\t`fnlwgt`: Ponderador muestral.\n",
    "*\t`marital-status`: Estado civil del individuo.\n",
    "*\t`occupation`: Ocupación del individuo.\n",
    "*\t`relationship`: Relación respecto a su familia.\n",
    "*\t`race`: Raza del encuestado.\n",
    "*\t`sex`: Sexo del encuestado."
   ]
  },
  {
   "cell_type": "markdown",
   "metadata": {},
   "source": [
    "## Aspectos adicionales a considerar (1.1)\n",
    "\n",
    "* La base de datos contiene los valores perdidos como `?`."
   ]
  },
  {
   "cell_type": "code",
   "execution_count": 1,
   "metadata": {},
   "outputs": [],
   "source": [
    "# Librerias para procesamiento de Base de datos.\n",
    "import pandas as pd\n",
    "import numpy as np\n",
    "\n",
    "# Librerías de gráficos\n",
    "import seaborn as sns\n",
    "import matplotlib.pyplot as plt\n",
    "\n",
    "# Librerías para Modelos de Clasificación:\n",
    "import statsmodels.formula.api as smf\n",
    "from sklearn.linear_model import LogisticRegression\n",
    "from sklearn.metrics import roc_curve\n",
    "from sklearn.preprocessing import StandardScaler\n",
    "from sklearn.model_selection import train_test_split\n",
    "\n",
    "\n",
    "#  Librería para inspeccionar visualizar datos N/A\n",
    "import missingno as msgn\n",
    "\n",
    "# Se importa la librería para ignorar los mensajes de advertencia \n",
    "import warnings\n",
    "warnings.filterwarnings(\"ignore\")\n",
    "\n",
    "# Libreria funciones auxiliares\n",
    "import herramientas_prueba"
   ]
  },
  {
   "cell_type": "markdown",
   "metadata": {},
   "source": [
    "Primero leemos nuestra base de datos contenida en el archivo: `income-db.csv` y se revisarán algunos valores de la base de datos."
   ]
  },
  {
   "cell_type": "code",
   "execution_count": 2,
   "metadata": {},
   "outputs": [
    {
     "data": {
      "text/html": [
       "<div>\n",
       "<style scoped>\n",
       "    .dataframe tbody tr th:only-of-type {\n",
       "        vertical-align: middle;\n",
       "    }\n",
       "\n",
       "    .dataframe tbody tr th {\n",
       "        vertical-align: top;\n",
       "    }\n",
       "\n",
       "    .dataframe thead th {\n",
       "        text-align: right;\n",
       "    }\n",
       "</style>\n",
       "<table border=\"1\" class=\"dataframe\">\n",
       "  <thead>\n",
       "    <tr style=\"text-align: right;\">\n",
       "      <th></th>\n",
       "      <th>age</th>\n",
       "      <th>workclass</th>\n",
       "      <th>fnlwgt</th>\n",
       "      <th>education</th>\n",
       "      <th>educational-num</th>\n",
       "      <th>marital-status</th>\n",
       "      <th>occupation</th>\n",
       "      <th>relationship</th>\n",
       "      <th>race</th>\n",
       "      <th>gender</th>\n",
       "      <th>capital-gain</th>\n",
       "      <th>capital-loss</th>\n",
       "      <th>hours-per-week</th>\n",
       "      <th>native-country</th>\n",
       "      <th>income</th>\n",
       "    </tr>\n",
       "  </thead>\n",
       "  <tbody>\n",
       "    <tr>\n",
       "      <th>0</th>\n",
       "      <td>25</td>\n",
       "      <td>Private</td>\n",
       "      <td>226802</td>\n",
       "      <td>11th</td>\n",
       "      <td>7</td>\n",
       "      <td>Never-married</td>\n",
       "      <td>Machine-op-inspct</td>\n",
       "      <td>Own-child</td>\n",
       "      <td>Black</td>\n",
       "      <td>Male</td>\n",
       "      <td>0</td>\n",
       "      <td>0</td>\n",
       "      <td>40</td>\n",
       "      <td>United-States</td>\n",
       "      <td>&lt;=50K</td>\n",
       "    </tr>\n",
       "    <tr>\n",
       "      <th>1</th>\n",
       "      <td>38</td>\n",
       "      <td>Private</td>\n",
       "      <td>89814</td>\n",
       "      <td>HS-grad</td>\n",
       "      <td>9</td>\n",
       "      <td>Married-civ-spouse</td>\n",
       "      <td>Farming-fishing</td>\n",
       "      <td>Husband</td>\n",
       "      <td>White</td>\n",
       "      <td>Male</td>\n",
       "      <td>0</td>\n",
       "      <td>0</td>\n",
       "      <td>50</td>\n",
       "      <td>United-States</td>\n",
       "      <td>&lt;=50K</td>\n",
       "    </tr>\n",
       "    <tr>\n",
       "      <th>2</th>\n",
       "      <td>28</td>\n",
       "      <td>Local-gov</td>\n",
       "      <td>336951</td>\n",
       "      <td>Assoc-acdm</td>\n",
       "      <td>12</td>\n",
       "      <td>Married-civ-spouse</td>\n",
       "      <td>Protective-serv</td>\n",
       "      <td>Husband</td>\n",
       "      <td>White</td>\n",
       "      <td>Male</td>\n",
       "      <td>0</td>\n",
       "      <td>0</td>\n",
       "      <td>40</td>\n",
       "      <td>United-States</td>\n",
       "      <td>&gt;50K</td>\n",
       "    </tr>\n",
       "    <tr>\n",
       "      <th>3</th>\n",
       "      <td>44</td>\n",
       "      <td>Private</td>\n",
       "      <td>160323</td>\n",
       "      <td>Some-college</td>\n",
       "      <td>10</td>\n",
       "      <td>Married-civ-spouse</td>\n",
       "      <td>Machine-op-inspct</td>\n",
       "      <td>Husband</td>\n",
       "      <td>Black</td>\n",
       "      <td>Male</td>\n",
       "      <td>7688</td>\n",
       "      <td>0</td>\n",
       "      <td>40</td>\n",
       "      <td>United-States</td>\n",
       "      <td>&gt;50K</td>\n",
       "    </tr>\n",
       "    <tr>\n",
       "      <th>4</th>\n",
       "      <td>18</td>\n",
       "      <td>?</td>\n",
       "      <td>103497</td>\n",
       "      <td>Some-college</td>\n",
       "      <td>10</td>\n",
       "      <td>Never-married</td>\n",
       "      <td>?</td>\n",
       "      <td>Own-child</td>\n",
       "      <td>White</td>\n",
       "      <td>Female</td>\n",
       "      <td>0</td>\n",
       "      <td>0</td>\n",
       "      <td>30</td>\n",
       "      <td>United-States</td>\n",
       "      <td>&lt;=50K</td>\n",
       "    </tr>\n",
       "  </tbody>\n",
       "</table>\n",
       "</div>"
      ],
      "text/plain": [
       "   age  workclass  fnlwgt     education  educational-num      marital-status  \\\n",
       "0   25    Private  226802          11th                7       Never-married   \n",
       "1   38    Private   89814       HS-grad                9  Married-civ-spouse   \n",
       "2   28  Local-gov  336951    Assoc-acdm               12  Married-civ-spouse   \n",
       "3   44    Private  160323  Some-college               10  Married-civ-spouse   \n",
       "4   18          ?  103497  Some-college               10       Never-married   \n",
       "\n",
       "          occupation relationship   race  gender  capital-gain  capital-loss  \\\n",
       "0  Machine-op-inspct    Own-child  Black    Male             0             0   \n",
       "1    Farming-fishing      Husband  White    Male             0             0   \n",
       "2    Protective-serv      Husband  White    Male             0             0   \n",
       "3  Machine-op-inspct      Husband  Black    Male          7688             0   \n",
       "4                  ?    Own-child  White  Female             0             0   \n",
       "\n",
       "   hours-per-week native-country income  \n",
       "0              40  United-States  <=50K  \n",
       "1              50  United-States  <=50K  \n",
       "2              40  United-States   >50K  \n",
       "3              40  United-States   >50K  \n",
       "4              30  United-States  <=50K  "
      ]
     },
     "execution_count": 2,
     "metadata": {},
     "output_type": "execute_result"
    }
   ],
   "source": [
    "# Obtenemos la informacion de la base de datos.\n",
    "df = pd.read_csv('income-db.csv')\n",
    "# obtenemos las 5 primeras filas de nuestra base de datos:\n",
    "df.head()"
   ]
  },
  {
   "cell_type": "code",
   "execution_count": 3,
   "metadata": {},
   "outputs": [
    {
     "name": "stdout",
     "output_type": "stream",
     "text": [
      "(48842, 15)\n"
     ]
    }
   ],
   "source": [
    "# Inspeccionamos nuestra base de datos\n",
    "print(df.shape)"
   ]
  },
  {
   "cell_type": "markdown",
   "metadata": {},
   "source": [
    "Nuestra base de datos contiene 15 columnas **(Variables)** y 48842 filas **(Datos)**."
   ]
  },
  {
   "cell_type": "markdown",
   "metadata": {},
   "source": [
    "Procedemos a remplazar los valores pérdidos `?` con `N/A`. Ya que es perferible para el análisis y visualización de nuestra base de datos."
   ]
  },
  {
   "cell_type": "code",
   "execution_count": 4,
   "metadata": {},
   "outputs": [],
   "source": [
    "# Reemplazo de valores perdidos:\n",
    "df = df.replace('?', np.nan)"
   ]
  },
  {
   "cell_type": "markdown",
   "metadata": {},
   "source": [
    "Inspeccion de nuestra Data:"
   ]
  },
  {
   "cell_type": "code",
   "execution_count": 5,
   "metadata": {},
   "outputs": [
    {
     "name": "stdout",
     "output_type": "stream",
     "text": [
      "<class 'pandas.core.frame.DataFrame'>\n",
      "RangeIndex: 48842 entries, 0 to 48841\n",
      "Data columns (total 15 columns):\n",
      "age                48842 non-null int64\n",
      "workclass          46043 non-null object\n",
      "fnlwgt             48842 non-null int64\n",
      "education          48842 non-null object\n",
      "educational-num    48842 non-null int64\n",
      "marital-status     48842 non-null object\n",
      "occupation         46033 non-null object\n",
      "relationship       48842 non-null object\n",
      "race               48842 non-null object\n",
      "gender             48842 non-null object\n",
      "capital-gain       48842 non-null int64\n",
      "capital-loss       48842 non-null int64\n",
      "hours-per-week     48842 non-null int64\n",
      "native-country     47985 non-null object\n",
      "income             48842 non-null object\n",
      "dtypes: int64(6), object(9)\n",
      "memory usage: 5.6+ MB\n"
     ]
    }
   ],
   "source": [
    "## Inspeccionamos cada columna en búsqueda de datos perdidos.\n",
    "df.info()"
   ]
  },
  {
   "cell_type": "markdown",
   "metadata": {},
   "source": [
    "Según lo reportado anteriormente , las columnas **\"workclass\"**, **\"occupation\"**, y **\"native-country\"** tienen datos perdidos, ya que el número de variables es inferior a `48842`, el cual es el total de filas.\n",
    "\n",
    "Inspeccionamos de forma visual la cantidad de valores perdidos:\n"
   ]
  },
  {
   "cell_type": "code",
   "execution_count": 6,
   "metadata": {},
   "outputs": [
    {
     "data": {
      "text/plain": [
       "<matplotlib.axes._subplots.AxesSubplot at 0x1a22892748>"
      ]
     },
     "execution_count": 6,
     "metadata": {},
     "output_type": "execute_result"
    },
    {
     "data": {
      "image/png": "[encoded data removed]",
      "text/plain": [
       "<Figure size 1800x720 with 2 Axes>"
      ]
     },
     "metadata": {
      "needs_background": "light"
     },
     "output_type": "display_data"
    }
   ],
   "source": [
    "## se utiliza el método matrix de la librería missigno\n",
    "msgn.matrix(df)"
   ]
  },
  {
   "cell_type": "markdown",
   "metadata": {},
   "source": [
    "Tal como se ve en el gráfico anterior, la cantidad de datos perdidos se concentran en las columnas de **\"Worclass\"**, **\"occupation\"** y **\"native-country\"**."
   ]
  },
  {
   "cell_type": "code",
   "execution_count": 7,
   "metadata": {},
   "outputs": [
    {
     "name": "stdout",
     "output_type": "stream",
     "text": [
      "El porcentaje de datos perdidos de la variable 'workclass' es: 5.73%\n"
     ]
    }
   ],
   "source": [
    "# inspeccion cantidad de datos perdidos de la variable workclass\n",
    "print(herramientas_prueba.get_missing_percent_info(df, 'workclass'))"
   ]
  },
  {
   "cell_type": "code",
   "execution_count": 8,
   "metadata": {},
   "outputs": [
    {
     "name": "stdout",
     "output_type": "stream",
     "text": [
      "El porcentaje de datos perdidos de la variable 'occupation' es: 5.75%\n"
     ]
    }
   ],
   "source": [
    "# inspeccion cantidad de datos perdidos de la variable occupation\n",
    "print(herramientas_prueba.get_missing_percent_info(df, 'occupation'))"
   ]
  },
  {
   "cell_type": "code",
   "execution_count": 9,
   "metadata": {},
   "outputs": [
    {
     "name": "stdout",
     "output_type": "stream",
     "text": [
      "El porcentaje de datos perdidos de la variable 'native-country' es: 1.75%\n"
     ]
    }
   ],
   "source": [
    "# inspeccion cantidad de datos perdidos de la variable native-country\n",
    "print(herramientas_prueba.get_missing_percent_info(df, 'native-country'))"
   ]
  },
  {
   "cell_type": "code",
   "execution_count": 10,
   "metadata": {},
   "outputs": [
    {
     "name": "stdout",
     "output_type": "stream",
     "text": [
      "El porcentaje de datos perdidos si removemos todos los valores N/A es de: 92.59%\n"
     ]
    }
   ],
   "source": [
    "# Obtenemos el porcentaje total de datos perdidos:\n",
    "print(herramientas_prueba.get_total_percent_of_nan_rows(df))"
   ]
  },
  {
   "cell_type": "markdown",
   "metadata": {},
   "source": [
    "#####  Como los datos perdidos representan un poco más del 7% de la muestra consideramos que eliminarlos seria un error, por lo que optamos por dejarlos como valores nulos."
   ]
  },
  {
   "cell_type": "markdown",
   "metadata": {},
   "source": [
    "## Aspectos adicionales a considerar (1.2):\n",
    "\n",
    "### Recodificar Variables:"
   ]
  },
  {
   "cell_type": "markdown",
   "metadata": {},
   "source": [
    "* Desde la organización le sugieren que debe recodificar las siguientes variables acorde a las siguientes nomenclaturas:\n",
    "    * `workclass` debe recodificarse como `workclass_recod` siguiendo una nomenclatura similar a:\n",
    "        * federal-gov $\\leftarrow$ Federal-gov.\n",
    "        * state-level-gov $\\leftarrow$ State-gov, Local-gov.\n",
    "        * self-employed $\\leftarrow$ Self-emp-inc, Self-emp-not-inc\n",
    "        * unemployed $\\leftarrow$ Never-worked, Without-pay.\n",
    "    * `occupation` debe recodificarse como `collars` siguiendo una nomenclatura similar a:\n",
    "        * white-collar $\\leftarrow$ Prof-specialty, Exec-managerial, Adm-clerical, Sales,Tech-support.\n",
    "        * blue-collar $\\leftarrow$ Craft-repair, Machine-op-inspct, Transport-moving,Handlers-cleaners, Farming-fishing, Protective-serv, Priv-house-serv.\n",
    "        * others $\\leftarrow$ Other-service, Armed-Forces.\n",
    "    * `education` debe recodificarse como `educ_recod` siguiendo una nomenclatura similar a:\n",
    "        * preschool$\\leftarrow$ Preschool\n",
    "        * elementary-school$\\leftarrow$ 1st-4th, 5th-6th\n",
    "        * high-school$\\leftarrow$ 7th-8th, 9th, 10th,11th, 12th, HS-grad\n",
    "        * college$\\leftarrow$ Assoc-voc, Assoc-acdm, Some-college\n",
    "        * university$\\leftarrow$ Bachelors, Masters, Prof-school, Doctorate\n",
    "    * `marital-status`  debe recodificarse como `civstatus`  siguiendo una  nomenclatura similar a:\n",
    "        * married$\\leftarrow$ Married-civ-spouse, Married-spouse-absent, Married-AF-spouse\n",
    "        * divorced$\\leftarrow$ Divorced\n",
    "        * separated$\\leftarrow$ Separated\n",
    "        * widowed$\\leftarrow$ Widowed\n",
    "    * `native-country` debe recodificarse como `region` donde cada país debe asignarse a uno de los 5 continentes\n",
    "    * `income` debe recodificarse de forma binaria."
   ]
  },
  {
   "cell_type": "markdown",
   "metadata": {},
   "source": [
    "### Recodificacion de la variable `workclass` (Naturaleza de la organización que emplea al individuo):"
   ]
  },
  {
   "cell_type": "markdown",
   "metadata": {},
   "source": [
    "* `workclass` debe recodificarse como `workclass_recod` siguiendo una nomenclatura similar a:\n",
    "    * federal-gov $\\leftarrow$ Federal-gov.\n",
    "    * state-level-gov $\\leftarrow$ State-gov, Local-gov.\n",
    "    * self-employed $\\leftarrow$ Self-emp-inc, Self-emp-not-inc\n",
    "    * unemployed $\\leftarrow$ Never-worked, Without-pay."
   ]
  },
  {
   "cell_type": "markdown",
   "metadata": {},
   "source": [
    "Para ello veremos la cantidad de variables que se encuentran dentro de la columna."
   ]
  },
  {
   "cell_type": "code",
   "execution_count": 11,
   "metadata": {},
   "outputs": [
    {
     "data": {
      "text/plain": [
       "Private             33906\n",
       "Self-emp-not-inc     3862\n",
       "Local-gov            3136\n",
       "State-gov            1981\n",
       "Self-emp-inc         1695\n",
       "Federal-gov          1432\n",
       "Without-pay            21\n",
       "Never-worked           10\n",
       "Name: workclass, dtype: int64"
      ]
     },
     "execution_count": 11,
     "metadata": {},
     "output_type": "execute_result"
    }
   ],
   "source": [
    "df['workclass'].value_counts()"
   ]
  },
  {
   "cell_type": "markdown",
   "metadata": {},
   "source": [
    "Luego recodificaremos todas las filas de dicha columna:"
   ]
  },
  {
   "cell_type": "code",
   "execution_count": 12,
   "metadata": {},
   "outputs": [],
   "source": [
    "df['workclass'] = df['workclass'].replace([\n",
    "    'Federal-gov',\n",
    "    'State-gov', 'Local-gov',\n",
    "    'Self-emp-inc', 'Self-emp-not-inc',\n",
    "    'Never-worked', 'Without-pay'\n",
    "],\n",
    "[\n",
    "    'federal-gov','state-level-gov', 'state-level-gov',\n",
    "    'self-employed', 'self-employed', 'unemployed', 'unemployed'\n",
    "])"
   ]
  },
  {
   "cell_type": "markdown",
   "metadata": {},
   "source": [
    "Verificamos la recodificación:"
   ]
  },
  {
   "cell_type": "code",
   "execution_count": 13,
   "metadata": {},
   "outputs": [
    {
     "data": {
      "text/plain": [
       "Private            33906\n",
       "self-employed       5557\n",
       "state-level-gov     5117\n",
       "federal-gov         1432\n",
       "unemployed            31\n",
       "Name: workclass, dtype: int64"
      ]
     },
     "execution_count": 13,
     "metadata": {},
     "output_type": "execute_result"
    }
   ],
   "source": [
    "df['workclass'].value_counts()"
   ]
  },
  {
   "cell_type": "markdown",
   "metadata": {},
   "source": [
    "### Inspección visual de la variable `workclass` (Naturaleza de la organización que emplea al individuo):"
   ]
  },
  {
   "cell_type": "markdown",
   "metadata": {},
   "source": [
    "Dado que `workclass` es una variable que consideramos relevante para nuestra predicción, entonces la graficaremos:"
   ]
  },
  {
   "cell_type": "code",
   "execution_count": 14,
   "metadata": {},
   "outputs": [
    {
     "data": {
      "image/png": "[encoded data removed]",
      "text/plain": [
       "<Figure size 1440x432 with 1 Axes>"
      ]
     },
     "metadata": {
      "needs_background": "light"
     },
     "output_type": "display_data"
    }
   ],
   "source": [
    "herramientas_prueba.visualize_rows(df.filter(['workclass']), 20, 6, 'Naturaleza de la Organización que emplea al individuo')"
   ]
  },
  {
   "cell_type": "markdown",
   "metadata": {},
   "source": [
    "##### **Nota**:\n",
    "\n",
    "Para el resto de columnas se hará un procedimiento parecido al anterior."
   ]
  },
  {
   "cell_type": "markdown",
   "metadata": {},
   "source": [
    "### Recodificacion de la Variable `occupation` (Ocupación del individuo):"
   ]
  },
  {
   "cell_type": "markdown",
   "metadata": {},
   "source": [
    "* `occupation` debe recodificarse como `collars` siguiendo una nomenclatura similar a:\n",
    "    * white-collar $\\leftarrow$ Prof-specialty, Exec-managerial, Adm-clerical, Sales,Tech-support.\n",
    "    * blue-collar $\\leftarrow$ Craft-repair, Machine-op-inspct, Transport-moving,Handlers-cleaners, Farming-fishing, Protective-serv, Priv-house-serv.\n",
    "    * others $\\leftarrow$ Other-service, Armed-Forces"
   ]
  },
  {
   "cell_type": "code",
   "execution_count": 15,
   "metadata": {},
   "outputs": [
    {
     "data": {
      "text/plain": [
       "Prof-specialty       6172\n",
       "Craft-repair         6112\n",
       "Exec-managerial      6086\n",
       "Adm-clerical         5611\n",
       "Sales                5504\n",
       "Other-service        4923\n",
       "Machine-op-inspct    3022\n",
       "Transport-moving     2355\n",
       "Handlers-cleaners    2072\n",
       "Farming-fishing      1490\n",
       "Tech-support         1446\n",
       "Protective-serv       983\n",
       "Priv-house-serv       242\n",
       "Armed-Forces           15\n",
       "Name: occupation, dtype: int64"
      ]
     },
     "execution_count": 15,
     "metadata": {},
     "output_type": "execute_result"
    }
   ],
   "source": [
    "df['occupation'].value_counts()"
   ]
  },
  {
   "cell_type": "code",
   "execution_count": 16,
   "metadata": {},
   "outputs": [],
   "source": [
    "df['occupation'] = df['occupation'].replace([\n",
    "    #white-collar\n",
    "    'Prof-specialty', 'Exec-managerial', 'Adm-clerical','Sales','Tech-support',\n",
    "    #blue-collar\n",
    "    'Craft-repair','Machine-op-inspct','Transport-moving','Handlers-cleaners', 'Farming-fishing','Protective-serv','Priv-house-serv',\n",
    "    #others\n",
    "    'Other-service', 'Armed-Forces'\n",
    "],\n",
    "[   #white-collar\n",
    "    'white-collar','white-collar','white-collar','white-collar', 'white-collar',\n",
    "    #blue-collar\n",
    "    'blue-collar', 'blue-collar', 'blue-collar','blue-collar', 'blue-collar', 'blue-collar', 'blue-collar',\n",
    "    #others\n",
    "    'others', 'others'\n",
    "])"
   ]
  },
  {
   "cell_type": "markdown",
   "metadata": {},
   "source": [
    "Luego verificamos la recodificación de las variables:"
   ]
  },
  {
   "cell_type": "code",
   "execution_count": 17,
   "metadata": {},
   "outputs": [
    {
     "data": {
      "text/plain": [
       "white-collar    24819\n",
       "blue-collar     16276\n",
       "others           4938\n",
       "Name: occupation, dtype: int64"
      ]
     },
     "execution_count": 17,
     "metadata": {},
     "output_type": "execute_result"
    }
   ],
   "source": [
    "df['occupation'].value_counts()"
   ]
  },
  {
   "cell_type": "markdown",
   "metadata": {},
   "source": [
    "### Inspección visual de la variable `Occupation` (Ocupación del individuo):"
   ]
  },
  {
   "cell_type": "markdown",
   "metadata": {},
   "source": [
    "Dado que `occupation` es una variable que consideramos relevante para nuestra predicción, entonces la graficaremos:"
   ]
  },
  {
   "cell_type": "code",
   "execution_count": 18,
   "metadata": {},
   "outputs": [
    {
     "data": {
      "image/png": "[encoded data removed]",
      "text/plain": [
       "<Figure size 4320x432 with 1 Axes>"
      ]
     },
     "metadata": {
      "needs_background": "light"
     },
     "output_type": "display_data"
    }
   ],
   "source": [
    "herramientas_prueba.visualize_rows(df.filter(['occupation']), 60, 6, 'Ocupación del individuo')"
   ]
  },
  {
   "cell_type": "markdown",
   "metadata": {},
   "source": [
    "Podemos observar que la mayoria de individuos pertenecen a la categoría `white-collar`, es decir:\n",
    "\n",
    "* Prof-specialty\n",
    "* Exec-managerial\n",
    "* Adm-clerical\n",
    "* Sales\n",
    "* Tech-support\n",
    "\n",
    "El porcentaje menor en la gráfica corresponde a la categoría `others`, es decir:\n",
    "\n",
    "* Other-service\n",
    "* Armed-Forces\n",
    "\n",
    "y el resto pertenecen a la categoría `blue-collar`, es decir:\n",
    "\n",
    "* Craft-repair\n",
    "* Machine-op-inspct\n",
    "* Transport-moving\n",
    "* Handlers-cleaners\n",
    "* Farming-fishing\n",
    "* Protective-serv\n",
    "* Priv-house-serv.\n"
   ]
  },
  {
   "cell_type": "markdown",
   "metadata": {},
   "source": [
    "### Recodificacion de la variable `education` (Nivel educacional del individuo):"
   ]
  },
  {
   "cell_type": "markdown",
   "metadata": {},
   "source": [
    "* `education` debe recodificarse como `educ_recod` siguiendo una nomenclatura similar a:\n",
    "    * preschool$\\leftarrow$ Preschool\n",
    "    * elementary-school$\\leftarrow$ 1st-4th, 5th-6th\n",
    "    * high-school$\\leftarrow$ 7th-8th, 9th, 10th,11th, 12th, HS-grad\n",
    "    * college$\\leftarrow$ Assoc-voc, Assoc-acdm, Some-college\n",
    "    * university$\\leftarrow$ Bachelors, Masters, Prof-school, Doctorate"
   ]
  },
  {
   "cell_type": "code",
   "execution_count": 19,
   "metadata": {},
   "outputs": [
    {
     "data": {
      "text/plain": [
       "HS-grad         15784\n",
       "Some-college    10878\n",
       "Bachelors        8025\n",
       "Masters          2657\n",
       "Assoc-voc        2061\n",
       "11th             1812\n",
       "Assoc-acdm       1601\n",
       "10th             1389\n",
       "7th-8th           955\n",
       "Prof-school       834\n",
       "9th               756\n",
       "12th              657\n",
       "Doctorate         594\n",
       "5th-6th           509\n",
       "1st-4th           247\n",
       "Preschool          83\n",
       "Name: education, dtype: int64"
      ]
     },
     "execution_count": 19,
     "metadata": {},
     "output_type": "execute_result"
    }
   ],
   "source": [
    "df['education'].value_counts()"
   ]
  },
  {
   "cell_type": "code",
   "execution_count": 20,
   "metadata": {},
   "outputs": [],
   "source": [
    "df['education'] = df['education'].replace([\n",
    "    'Preschool',\n",
    "    '1st-4th', '5th-6th',\n",
    "    '7th-8th', '9th', '10th','11th', '12th', 'HS-grad',\n",
    "    'Assoc-voc', 'Assoc-acdm', 'Some-college',\n",
    "    'Bachelors', 'Masters', 'Prof-school', 'Doctorate'\n",
    "],\n",
    "[\n",
    "    'preschool', \n",
    "    'elementary-school', 'elementary-school',\n",
    "    'high-school', 'high-school', 'high-school','high-school', 'high-school', 'high-school',\n",
    "    'college', 'college', 'college',\n",
    "    'university', 'university', 'university', 'university'\n",
    "])"
   ]
  },
  {
   "cell_type": "markdown",
   "metadata": {},
   "source": [
    "Luego verificamos la recodificación de las variables:"
   ]
  },
  {
   "cell_type": "code",
   "execution_count": 21,
   "metadata": {},
   "outputs": [
    {
     "data": {
      "text/plain": [
       "high-school          21353\n",
       "college              14540\n",
       "university           12110\n",
       "elementary-school      756\n",
       "preschool               83\n",
       "Name: education, dtype: int64"
      ]
     },
     "execution_count": 21,
     "metadata": {},
     "output_type": "execute_result"
    }
   ],
   "source": [
    "df['education'].value_counts()"
   ]
  },
  {
   "cell_type": "markdown",
   "metadata": {},
   "source": [
    "### Inspección visual de `education` (Nivel educacional del individuo):"
   ]
  },
  {
   "cell_type": "markdown",
   "metadata": {},
   "source": [
    "Dado que `education` es una variable que consideramos relevante para nuestra predicción, entonces la graficaremos:"
   ]
  },
  {
   "cell_type": "code",
   "execution_count": 22,
   "metadata": {},
   "outputs": [
    {
     "data": {
      "image/png": "[encoded data removed]",
      "text/plain": [
       "<Figure size 4320x432 with 1 Axes>"
      ]
     },
     "metadata": {
      "needs_background": "light"
     },
     "output_type": "display_data"
    }
   ],
   "source": [
    "herramientas_prueba.visualize_rows(df.filter(['education']), 60, 6, 'Nivel educacional del individuo')"
   ]
  },
  {
   "cell_type": "markdown",
   "metadata": {},
   "source": [
    "Del gráfico anterior podemos ver que el mayor porcentaje de encuestados pertenencen a la categoría `high-school`, es decir se encuentran en `Escuela secundaria`.\n",
    "\n",
    "Además un gran porcentaje se encuentran entre las categorías `college` y `university`, es decir estan estudiando en la Universidad o ya se han graduado de una Universidad."
   ]
  },
  {
   "cell_type": "markdown",
   "metadata": {},
   "source": [
    "### Recodificacion de la variable `marital-status` (Estado civil del individuo):"
   ]
  },
  {
   "cell_type": "markdown",
   "metadata": {},
   "source": [
    "* `marital-status`  debe recodificarse como `civstatus`  siguiendo una  nomenclatura similar a:\n",
    "    * married$\\leftarrow$ Married-civ-spouse, Married-spouse-absent, Married-AF-spouse\n",
    "    * divorced$\\leftarrow$ Divorced\n",
    "    * separated$\\leftarrow$ Separated\n",
    "    * widowed$\\leftarrow$ Widowed"
   ]
  },
  {
   "cell_type": "code",
   "execution_count": 23,
   "metadata": {},
   "outputs": [
    {
     "data": {
      "text/plain": [
       "Married-civ-spouse       22379\n",
       "Never-married            16117\n",
       "Divorced                  6633\n",
       "Separated                 1530\n",
       "Widowed                   1518\n",
       "Married-spouse-absent      628\n",
       "Married-AF-spouse           37\n",
       "Name: marital-status, dtype: int64"
      ]
     },
     "execution_count": 23,
     "metadata": {},
     "output_type": "execute_result"
    }
   ],
   "source": [
    "df['marital-status'].value_counts()"
   ]
  },
  {
   "cell_type": "code",
   "execution_count": 24,
   "metadata": {},
   "outputs": [],
   "source": [
    "df['marital-status'] = df['marital-status'].replace([\n",
    "    'Married-civ-spouse', 'Married-spouse-absent', 'Married-AF-spouse',\n",
    "    'Divorced',\n",
    "    'Separated',\n",
    "    'Widowed'\n",
    "],\n",
    "[\n",
    "    'married','married', 'married',\n",
    "    'divorced',\n",
    "    'separated',\n",
    "    'widowed'\n",
    "])"
   ]
  },
  {
   "cell_type": "code",
   "execution_count": 25,
   "metadata": {},
   "outputs": [
    {
     "data": {
      "text/plain": [
       "married          23044\n",
       "Never-married    16117\n",
       "divorced          6633\n",
       "separated         1530\n",
       "widowed           1518\n",
       "Name: marital-status, dtype: int64"
      ]
     },
     "execution_count": 25,
     "metadata": {},
     "output_type": "execute_result"
    }
   ],
   "source": [
    "df['marital-status'].value_counts()"
   ]
  },
  {
   "cell_type": "markdown",
   "metadata": {},
   "source": [
    "### Inspección visual de la variable `marital-status` (Estado civil del individuo):"
   ]
  },
  {
   "cell_type": "markdown",
   "metadata": {},
   "source": [
    "Dado que `Estado civil del individuo` es una variable que consideramos relevante para nuestra predicción, entonces la graficaremos:"
   ]
  },
  {
   "cell_type": "code",
   "execution_count": 26,
   "metadata": {},
   "outputs": [
    {
     "data": {
      "image/png": "[encoded data removed]",
      "text/plain": [
       "<Figure size 4320x432 with 1 Axes>"
      ]
     },
     "metadata": {
      "needs_background": "light"
     },
     "output_type": "display_data"
    }
   ],
   "source": [
    "herramientas_prueba.visualize_rows(df.filter(['marital-status']), 60, 6, 'Estado civil del individuo')"
   ]
  },
  {
   "cell_type": "markdown",
   "metadata": {},
   "source": [
    "Del gráfico anterior, podemos ver que la mayoría de los individuos de nuestra base de datos pertenecen a la categorias\n",
    "\n",
    "`Never-married` y `Married-civ-spouse`, quiere decir que son: 'Soltero(a)s', o se han casado."
   ]
  },
  {
   "cell_type": "markdown",
   "metadata": {},
   "source": [
    "### Recodificacion de la Variable: (País de origen):"
   ]
  },
  {
   "cell_type": "markdown",
   "metadata": {},
   "source": [
    "* `native-country` debe recodificarse como `region` donde cada país debe asignarse a uno de los 5 continentes"
   ]
  },
  {
   "cell_type": "code",
   "execution_count": 27,
   "metadata": {},
   "outputs": [
    {
     "data": {
      "text/plain": [
       "United-States                 43832\n",
       "Mexico                          951\n",
       "Philippines                     295\n",
       "Germany                         206\n",
       "Puerto-Rico                     184\n",
       "Canada                          182\n",
       "El-Salvador                     155\n",
       "India                           151\n",
       "Cuba                            138\n",
       "England                         127\n",
       "China                           122\n",
       "South                           115\n",
       "Jamaica                         106\n",
       "Italy                           105\n",
       "Dominican-Republic              103\n",
       "Japan                            92\n",
       "Guatemala                        88\n",
       "Poland                           87\n",
       "Vietnam                          86\n",
       "Columbia                         85\n",
       "Haiti                            75\n",
       "Portugal                         67\n",
       "Taiwan                           65\n",
       "Iran                             59\n",
       "Greece                           49\n",
       "Nicaragua                        49\n",
       "Peru                             46\n",
       "Ecuador                          45\n",
       "France                           38\n",
       "Ireland                          37\n",
       "Hong                             30\n",
       "Thailand                         30\n",
       "Cambodia                         28\n",
       "Trinadad&Tobago                  27\n",
       "Outlying-US(Guam-USVI-etc)       23\n",
       "Laos                             23\n",
       "Yugoslavia                       23\n",
       "Scotland                         21\n",
       "Honduras                         20\n",
       "Hungary                          19\n",
       "Holand-Netherlands                1\n",
       "Name: native-country, dtype: int64"
      ]
     },
     "execution_count": 27,
     "metadata": {},
     "output_type": "execute_result"
    }
   ],
   "source": [
    "df['native-country'].value_counts()"
   ]
  },
  {
   "cell_type": "code",
   "execution_count": 28,
   "metadata": {},
   "outputs": [],
   "source": [
    "df['native-country'] = df['native-country'].replace ([\n",
    "    # america\n",
    "    'United-States', 'Peru', 'Guatemala', 'Mexico','Dominican-Republic',\n",
    "    'El-Salvador', 'Puerto-Rico', 'Columbia', 'Cuba', 'Canada',\n",
    "    'Nicaragua', 'Honduras','Jamaica','Ecuador', 'Haiti','Trinadad&Tobago',\n",
    "    'Outlying-US(Guam-USVI-etc)',\n",
    "    #europa\n",
    "    'Ireland', 'Germany','Poland', 'England', 'Italy', 'Portugal',\n",
    "    'Scotland', 'Yugoslavia', 'Hungary', 'Greece', 'France', 'Holand-Netherlands',\n",
    "    #asia\n",
    "    'Philippines', 'Thailand', 'Vietnam',\n",
    "    'South', 'Japan', 'India', 'Cambodia', 'Laos', 'Taiwan', 'China',\n",
    "    'Iran', 'Hong', 'Philippines'\n",
    "],\n",
    "[\n",
    "    # america\n",
    "    'america', 'america','america', 'america', 'america',\n",
    "    'america', 'america', 'america', 'america', 'america',\n",
    "    'america','america','america','america', 'america', 'america',\n",
    "    'america',\n",
    "    #europa\n",
    "    'europa', 'europa', 'europa', 'europa', 'europa', 'europa',\n",
    "    'europa', 'europa', 'europa', 'europa', 'europa', 'europa',\n",
    "    #asia\n",
    "    'asia', 'asia', 'asia',\n",
    "    'asia', 'asia', 'asia', 'asia', 'asia', 'asia', 'asia',\n",
    "    'asia', 'asia', 'asia'\n",
    "])"
   ]
  },
  {
   "cell_type": "markdown",
   "metadata": {},
   "source": [
    "verificamos la recodificación de las variables:"
   ]
  },
  {
   "cell_type": "code",
   "execution_count": 29,
   "metadata": {},
   "outputs": [
    {
     "data": {
      "text/plain": [
       "america    46109\n",
       "asia        1096\n",
       "europa       780\n",
       "Name: native-country, dtype: int64"
      ]
     },
     "execution_count": 29,
     "metadata": {},
     "output_type": "execute_result"
    }
   ],
   "source": [
    "df['native-country'].value_counts()"
   ]
  },
  {
   "cell_type": "markdown",
   "metadata": {},
   "source": [
    "### Inspección visual de la variable `native-country` (País de Origen):"
   ]
  },
  {
   "cell_type": "markdown",
   "metadata": {},
   "source": [
    "Dado que `País de Origen` es una variable que consideramos relevante para nuestra predicción, entonces la graficaremos:"
   ]
  },
  {
   "cell_type": "code",
   "execution_count": 30,
   "metadata": {},
   "outputs": [
    {
     "data": {
      "image/png": "[encoded data removed]",
      "text/plain": [
       "<Figure size 1080x360 with 1 Axes>"
      ]
     },
     "metadata": {
      "needs_background": "light"
     },
     "output_type": "display_data"
    }
   ],
   "source": [
    "herramientas_prueba.visualize_rows(df.filter(['native-country']), 15, 5, 'País de Origen')"
   ]
  },
  {
   "cell_type": "markdown",
   "metadata": {},
   "source": [
    "Podemos ver que la gran mayoría de los individuos de nuestra base de datos se encuentra ubicado en la region **América**."
   ]
  },
  {
   "cell_type": "markdown",
   "metadata": {},
   "source": [
    "### Recodificacion de Income (Ingresos):"
   ]
  },
  {
   "cell_type": "markdown",
   "metadata": {},
   "source": [
    " - `income`: `<=50K` Si el individuo percibe ingresos inferiores a 50.000 dólares anuales, `>50K` si el individuo percibe ingresos superiores a 50.000 dólares anuales.\n",
    " \n",
    "**Siendo este nuestro vector objetivo**, debe recodificarse de forma binaria, dado que solo contiene 2 valores posíbles."
   ]
  },
  {
   "cell_type": "code",
   "execution_count": 31,
   "metadata": {},
   "outputs": [
    {
     "data": {
      "text/plain": [
       "<=50K    0.760718\n",
       ">50K     0.239282\n",
       "Name: income, dtype: float64"
      ]
     },
     "execution_count": 31,
     "metadata": {},
     "output_type": "execute_result"
    }
   ],
   "source": [
    "# comprobamos que los datos pertenezcan a dichas categorías.\n",
    "df['income'].value_counts('%')"
   ]
  },
  {
   "cell_type": "markdown",
   "metadata": {},
   "source": [
    "### Inspeccion Visual de la variable `income` (Ingresos):"
   ]
  },
  {
   "cell_type": "code",
   "execution_count": 32,
   "metadata": {},
   "outputs": [
    {
     "data": {
      "image/png": "[encoded data removed]",
      "text/plain": [
       "<Figure size 864x360 with 1 Axes>"
      ]
     },
     "metadata": {
      "needs_background": "light"
     },
     "output_type": "display_data"
    }
   ],
   "source": [
    "herramientas_prueba.visualize_rows(df.filter(['income']), 12, 5, 'Ingresos')"
   ]
  },
  {
   "cell_type": "markdown",
   "metadata": {},
   "source": [
    "De el gráfico anterior, podemos inferir que la mayor candidad de los individuos de nuestra base de datos tiene ingresos\n",
    "menores iguales a `$50.000` anual.  **Esto sin tener encuenta otras variables.**"
   ]
  },
  {
   "cell_type": "markdown",
   "metadata": {},
   "source": [
    "Luego lo binarizamos utilizando el criterio mencionado anteriormente:"
   ]
  },
  {
   "cell_type": "code",
   "execution_count": 33,
   "metadata": {},
   "outputs": [],
   "source": [
    "df['original_income'] = df['income'].copy()\n",
    "# Haciendo uso del módulo Numpy y la función where.\n",
    "df['income'] = np.where(df['income'] == '>50K', 1, 0)\n",
    "df['income_usd'] = np.where(df['original_income'] == '>50K', 50.000, - 50.000)"
   ]
  },
  {
   "cell_type": "markdown",
   "metadata": {},
   "source": [
    "Verificamos la binarización de nuestro **vector objetivo**:"
   ]
  },
  {
   "cell_type": "code",
   "execution_count": 34,
   "metadata": {},
   "outputs": [
    {
     "data": {
      "text/plain": [
       "0    0.760718\n",
       "1    0.239282\n",
       "Name: income, dtype: float64"
      ]
     },
     "execution_count": 34,
     "metadata": {},
     "output_type": "execute_result"
    }
   ],
   "source": [
    "df['income'].value_counts('%')"
   ]
  },
  {
   "cell_type": "markdown",
   "metadata": {},
   "source": [
    "### Renombrando las columnas:"
   ]
  },
  {
   "cell_type": "markdown",
   "metadata": {},
   "source": [
    "Finalmente debemos renombrar el nombre de las columnas"
   ]
  },
  {
   "cell_type": "code",
   "execution_count": 35,
   "metadata": {},
   "outputs": [],
   "source": [
    "# Renombramos sólo las columnas que cambian.\n",
    "df = df.rename(columns={\n",
    "    'workclass': 'workclass_recod',\n",
    "    'occupation': 'collars',\n",
    "    'education': 'educ_recod',\n",
    "    'marital-status': 'civstatus',\n",
    "    'native-country': 'region'\n",
    "})"
   ]
  },
  {
   "cell_type": "markdown",
   "metadata": {},
   "source": [
    "Tomamos una muestra aleatoria de 5 individuos, para verificar las variables y datos:"
   ]
  },
  {
   "cell_type": "code",
   "execution_count": 36,
   "metadata": {
    "scrolled": true
   },
   "outputs": [
    {
     "data": {
      "text/html": [
       "<div>\n",
       "<style scoped>\n",
       "    .dataframe tbody tr th:only-of-type {\n",
       "        vertical-align: middle;\n",
       "    }\n",
       "\n",
       "    .dataframe tbody tr th {\n",
       "        vertical-align: top;\n",
       "    }\n",
       "\n",
       "    .dataframe thead th {\n",
       "        text-align: right;\n",
       "    }\n",
       "</style>\n",
       "<table border=\"1\" class=\"dataframe\">\n",
       "  <thead>\n",
       "    <tr style=\"text-align: right;\">\n",
       "      <th></th>\n",
       "      <th>age</th>\n",
       "      <th>workclass_recod</th>\n",
       "      <th>fnlwgt</th>\n",
       "      <th>educ_recod</th>\n",
       "      <th>educational-num</th>\n",
       "      <th>civstatus</th>\n",
       "      <th>collars</th>\n",
       "      <th>relationship</th>\n",
       "      <th>race</th>\n",
       "      <th>gender</th>\n",
       "      <th>capital-gain</th>\n",
       "      <th>capital-loss</th>\n",
       "      <th>hours-per-week</th>\n",
       "      <th>region</th>\n",
       "      <th>income</th>\n",
       "      <th>original_income</th>\n",
       "      <th>income_usd</th>\n",
       "    </tr>\n",
       "  </thead>\n",
       "  <tbody>\n",
       "    <tr>\n",
       "      <th>783</th>\n",
       "      <td>25</td>\n",
       "      <td>Private</td>\n",
       "      <td>189334</td>\n",
       "      <td>high-school</td>\n",
       "      <td>7</td>\n",
       "      <td>married</td>\n",
       "      <td>blue-collar</td>\n",
       "      <td>Husband</td>\n",
       "      <td>White</td>\n",
       "      <td>Male</td>\n",
       "      <td>0</td>\n",
       "      <td>0</td>\n",
       "      <td>40</td>\n",
       "      <td>america</td>\n",
       "      <td>0</td>\n",
       "      <td>&lt;=50K</td>\n",
       "      <td>-50.0</td>\n",
       "    </tr>\n",
       "    <tr>\n",
       "      <th>32328</th>\n",
       "      <td>18</td>\n",
       "      <td>Private</td>\n",
       "      <td>188241</td>\n",
       "      <td>high-school</td>\n",
       "      <td>7</td>\n",
       "      <td>Never-married</td>\n",
       "      <td>others</td>\n",
       "      <td>Own-child</td>\n",
       "      <td>White</td>\n",
       "      <td>Male</td>\n",
       "      <td>0</td>\n",
       "      <td>0</td>\n",
       "      <td>16</td>\n",
       "      <td>america</td>\n",
       "      <td>0</td>\n",
       "      <td>&lt;=50K</td>\n",
       "      <td>-50.0</td>\n",
       "    </tr>\n",
       "    <tr>\n",
       "      <th>11809</th>\n",
       "      <td>33</td>\n",
       "      <td>Private</td>\n",
       "      <td>342458</td>\n",
       "      <td>high-school</td>\n",
       "      <td>9</td>\n",
       "      <td>Never-married</td>\n",
       "      <td>blue-collar</td>\n",
       "      <td>Not-in-family</td>\n",
       "      <td>White</td>\n",
       "      <td>Male</td>\n",
       "      <td>0</td>\n",
       "      <td>0</td>\n",
       "      <td>40</td>\n",
       "      <td>america</td>\n",
       "      <td>0</td>\n",
       "      <td>&lt;=50K</td>\n",
       "      <td>-50.0</td>\n",
       "    </tr>\n",
       "    <tr>\n",
       "      <th>43530</th>\n",
       "      <td>28</td>\n",
       "      <td>Private</td>\n",
       "      <td>51961</td>\n",
       "      <td>college</td>\n",
       "      <td>10</td>\n",
       "      <td>Never-married</td>\n",
       "      <td>white-collar</td>\n",
       "      <td>Own-child</td>\n",
       "      <td>Black</td>\n",
       "      <td>Male</td>\n",
       "      <td>0</td>\n",
       "      <td>0</td>\n",
       "      <td>24</td>\n",
       "      <td>america</td>\n",
       "      <td>0</td>\n",
       "      <td>&lt;=50K</td>\n",
       "      <td>-50.0</td>\n",
       "    </tr>\n",
       "    <tr>\n",
       "      <th>15500</th>\n",
       "      <td>22</td>\n",
       "      <td>federal-gov</td>\n",
       "      <td>277700</td>\n",
       "      <td>college</td>\n",
       "      <td>10</td>\n",
       "      <td>Never-married</td>\n",
       "      <td>white-collar</td>\n",
       "      <td>Own-child</td>\n",
       "      <td>White</td>\n",
       "      <td>Male</td>\n",
       "      <td>0</td>\n",
       "      <td>0</td>\n",
       "      <td>20</td>\n",
       "      <td>america</td>\n",
       "      <td>0</td>\n",
       "      <td>&lt;=50K</td>\n",
       "      <td>-50.0</td>\n",
       "    </tr>\n",
       "  </tbody>\n",
       "</table>\n",
       "</div>"
      ],
      "text/plain": [
       "       age workclass_recod  fnlwgt   educ_recod  educational-num  \\\n",
       "783     25         Private  189334  high-school                7   \n",
       "32328   18         Private  188241  high-school                7   \n",
       "11809   33         Private  342458  high-school                9   \n",
       "43530   28         Private   51961      college               10   \n",
       "15500   22     federal-gov  277700      college               10   \n",
       "\n",
       "           civstatus       collars   relationship   race gender  capital-gain  \\\n",
       "783          married   blue-collar        Husband  White   Male             0   \n",
       "32328  Never-married        others      Own-child  White   Male             0   \n",
       "11809  Never-married   blue-collar  Not-in-family  White   Male             0   \n",
       "43530  Never-married  white-collar      Own-child  Black   Male             0   \n",
       "15500  Never-married  white-collar      Own-child  White   Male             0   \n",
       "\n",
       "       capital-loss  hours-per-week   region  income original_income  \\\n",
       "783               0              40  america       0           <=50K   \n",
       "32328             0              16  america       0           <=50K   \n",
       "11809             0              40  america       0           <=50K   \n",
       "43530             0              24  america       0           <=50K   \n",
       "15500             0              20  america       0           <=50K   \n",
       "\n",
       "       income_usd  \n",
       "783         -50.0  \n",
       "32328       -50.0  \n",
       "11809       -50.0  \n",
       "43530       -50.0  \n",
       "15500       -50.0  "
      ]
     },
     "execution_count": 36,
     "metadata": {},
     "output_type": "execute_result"
    }
   ],
   "source": [
    "# retorna 5 items de la base de datos aleatoriamente.\n",
    "df.sample(5)"
   ]
  },
  {
   "cell_type": "markdown",
   "metadata": {},
   "source": [
    "## Modelación:"
   ]
  },
  {
   "cell_type": "markdown",
   "metadata": {},
   "source": [
    "**Elementos a considerar**:\n",
    "\n",
    "* La modelación mediante regresión.\n",
    "* La interpretación de los principales regresores.\n",
    "* La definición de las estrategias de Modelación predictiva."
   ]
  },
  {
   "cell_type": "markdown",
   "metadata": {},
   "source": [
    "Debido a a que nuestro vector objetivo es la variable `income` (Ingresos) y dicha variable es binaria, entonces se opta por una clasificación.\n",
    "\n",
    "**Implementaremos Regresión Logistica**:"
   ]
  },
  {
   "cell_type": "markdown",
   "metadata": {},
   "source": [
    "Necesitamos un **modelo predictivo** sobre la probabilidad de que un individuo presente salarios por sobre o bajo los `$50.000` dolares anuales en base a los atributos **socio-demográficos**:\n",
    "\n",
    "-\t`age`:  Edad\n",
    "-   `workclass_recod`: Naturaleza de la organización que emplea al individuo\n",
    "-\t`education`: Nivel educacional del individuo.\n",
    "-\t`civstatus`: Estado civil del individuo\n",
    "-\t`collars`: Profesion.\n",
    "-\t`relationship`: Relación respecto a su familia\n",
    "-\t`race`: Raza del encuestado\n",
    "-\t`sex`: Sexo del encuestado\n",
    "-\t`hours-per-week`: Horas a la semana\n",
    "-\t`region`:  País de origen"
   ]
  },
  {
   "cell_type": "markdown",
   "metadata": {},
   "source": [
    "Primero implementaremos un **modelo saturado**:"
   ]
  },
  {
   "cell_type": "markdown",
   "metadata": {},
   "source": [
    "$$\n",
    "log\\left(\\frac{p(x)}{1-p(x)} \\right) = \\beta_{0} + \\beta_{1} \\times age + \\beta_{2} \\times region\n",
    "+ \\beta_{3} \\times collar + \\beta_{4} \\times civstatus + \\beta_{5} \\times race\n",
    "$$"
   ]
  },
  {
   "cell_type": "markdown",
   "metadata": {},
   "source": [
    "Se procede a graficar la variable independiente **age (Edad)**."
   ]
  },
  {
   "cell_type": "code",
   "execution_count": 37,
   "metadata": {},
   "outputs": [
    {
     "data": {
      "image/png": "[encoded data removed]",
      "text/plain": [
       "<Figure size 864x432 with 1 Axes>"
      ]
     },
     "metadata": {
      "needs_background": "light"
     },
     "output_type": "display_data"
    }
   ],
   "source": [
    "herramientas_prueba.visualize_rows(df.filter(['age']), 12, 6, 'Edad')"
   ]
  },
  {
   "cell_type": "markdown",
   "metadata": {},
   "source": [
    "La gráfica de nuestra variable **age (Edad)**: Sugiere un comportamiento cercano a la distribución normal."
   ]
  },
  {
   "cell_type": "markdown",
   "metadata": {},
   "source": [
    "#### Graficaremos la variable independiente `hours-per-week` (Horas por semana):"
   ]
  },
  {
   "cell_type": "code",
   "execution_count": 38,
   "metadata": {},
   "outputs": [
    {
     "data": {
      "image/png": "[encoded data removed]",
      "text/plain": [
       "<Figure size 1440x216 with 1 Axes>"
      ]
     },
     "metadata": {
      "needs_background": "light"
     },
     "output_type": "display_data"
    }
   ],
   "source": [
    "herramientas_prueba.visualize_rows(df.filter(['hours-per-week']), 20, 3, 'Horas por semana')"
   ]
  },
  {
   "cell_type": "markdown",
   "metadata": {},
   "source": [
    "Podemos análizar visualmente de la gráfica anterior que la variable **hours-per-week**:\n",
    "    * Tiene como mayor valor frecuente 40 horas a la semana.\n",
    "    * Podemos observar que el 50% de los individuos trabajan menos de 40 horas a la semana y el otro 50% trabajan más\n",
    "    de 40 horas a la semana.\n",
    "    * Además el promedio de total de horas laboradas tiende a 40 horas.\n",
    "\n",
    "Esto lo podemos corroborar calculando la Mediana, Media y Moda:"
   ]
  },
  {
   "cell_type": "code",
   "execution_count": 39,
   "metadata": {},
   "outputs": [
    {
     "name": "stdout",
     "output_type": "stream",
     "text": [
      "La mediana de la variable horas a la semana es de: 40.0\n",
      "La moda de horas a la semana es de: 40\n",
      "El valor promedio de horas a la semana es de: 40.42\n"
     ]
    }
   ],
   "source": [
    "print(f\"La mediana de la variable horas a la semana es de: {df['hours-per-week'].median()}\")\n",
    "print(f\"La moda de horas a la semana es de: {df['hours-per-week'].mode()[0]}\")\n",
    "print(f\"El valor promedio de horas a la semana es de: {round(df['hours-per-week'].mean(), 2)}\")"
   ]
  },
  {
   "cell_type": "code",
   "execution_count": 40,
   "metadata": {},
   "outputs": [
    {
     "data": {
      "text/html": [
       "<div>\n",
       "<style scoped>\n",
       "    .dataframe tbody tr th:only-of-type {\n",
       "        vertical-align: middle;\n",
       "    }\n",
       "\n",
       "    .dataframe tbody tr th {\n",
       "        vertical-align: top;\n",
       "    }\n",
       "\n",
       "    .dataframe thead th {\n",
       "        text-align: right;\n",
       "    }\n",
       "</style>\n",
       "<table border=\"1\" class=\"dataframe\">\n",
       "  <thead>\n",
       "    <tr style=\"text-align: right;\">\n",
       "      <th></th>\n",
       "      <th>age</th>\n",
       "      <th>workclass_recod</th>\n",
       "      <th>fnlwgt</th>\n",
       "      <th>educ_recod</th>\n",
       "      <th>educational-num</th>\n",
       "      <th>civstatus</th>\n",
       "      <th>collars</th>\n",
       "      <th>relationship</th>\n",
       "      <th>race</th>\n",
       "      <th>gender</th>\n",
       "      <th>capital-gain</th>\n",
       "      <th>capital-loss</th>\n",
       "      <th>hours-per-week</th>\n",
       "      <th>region</th>\n",
       "      <th>income</th>\n",
       "      <th>original_income</th>\n",
       "      <th>income_usd</th>\n",
       "    </tr>\n",
       "  </thead>\n",
       "  <tbody>\n",
       "    <tr>\n",
       "      <th>0</th>\n",
       "      <td>25</td>\n",
       "      <td>Private</td>\n",
       "      <td>226802</td>\n",
       "      <td>high-school</td>\n",
       "      <td>7</td>\n",
       "      <td>Never-married</td>\n",
       "      <td>blue-collar</td>\n",
       "      <td>Own-child</td>\n",
       "      <td>Black</td>\n",
       "      <td>Male</td>\n",
       "      <td>0</td>\n",
       "      <td>0</td>\n",
       "      <td>40</td>\n",
       "      <td>america</td>\n",
       "      <td>0</td>\n",
       "      <td>&lt;=50K</td>\n",
       "      <td>-50.0</td>\n",
       "    </tr>\n",
       "  </tbody>\n",
       "</table>\n",
       "</div>"
      ],
      "text/plain": [
       "   age workclass_recod  fnlwgt   educ_recod  educational-num      civstatus  \\\n",
       "0   25         Private  226802  high-school                7  Never-married   \n",
       "\n",
       "       collars relationship   race gender  capital-gain  capital-loss  \\\n",
       "0  blue-collar    Own-child  Black   Male             0             0   \n",
       "\n",
       "   hours-per-week   region  income original_income  income_usd  \n",
       "0              40  america       0           <=50K       -50.0  "
      ]
     },
     "execution_count": 40,
     "metadata": {},
     "output_type": "execute_result"
    }
   ],
   "source": [
    "df.head(1)"
   ]
  },
  {
   "cell_type": "code",
   "execution_count": 41,
   "metadata": {},
   "outputs": [
    {
     "name": "stdout",
     "output_type": "stream",
     "text": [
      "<class 'pandas.core.frame.DataFrame'>\n",
      "RangeIndex: 48842 entries, 0 to 48841\n",
      "Data columns (total 17 columns):\n",
      "age                48842 non-null int64\n",
      "workclass_recod    46043 non-null object\n",
      "fnlwgt             48842 non-null int64\n",
      "educ_recod         48842 non-null object\n",
      "educational-num    48842 non-null int64\n",
      "civstatus          48842 non-null object\n",
      "collars            46033 non-null object\n",
      "relationship       48842 non-null object\n",
      "race               48842 non-null object\n",
      "gender             48842 non-null object\n",
      "capital-gain       48842 non-null int64\n",
      "capital-loss       48842 non-null int64\n",
      "hours-per-week     48842 non-null int64\n",
      "region             47985 non-null object\n",
      "income             48842 non-null int64\n",
      "original_income    48842 non-null object\n",
      "income_usd         48842 non-null float64\n",
      "dtypes: float64(1), int64(7), object(9)\n",
      "memory usage: 6.3+ MB\n"
     ]
    }
   ],
   "source": [
    "df.info()"
   ]
  },
  {
   "cell_type": "code",
   "execution_count": 42,
   "metadata": {},
   "outputs": [],
   "source": [
    "# Renombramos sólo la columna hours-per-week.\n",
    "df = df.rename(columns={\n",
    "    'hours-per-week': 'hours_per_week',\n",
    "})"
   ]
  },
  {
   "cell_type": "code",
   "execution_count": 43,
   "metadata": {},
   "outputs": [
    {
     "data": {
      "text/html": [
       "<div>\n",
       "<style scoped>\n",
       "    .dataframe tbody tr th:only-of-type {\n",
       "        vertical-align: middle;\n",
       "    }\n",
       "\n",
       "    .dataframe tbody tr th {\n",
       "        vertical-align: top;\n",
       "    }\n",
       "\n",
       "    .dataframe thead th {\n",
       "        text-align: right;\n",
       "    }\n",
       "</style>\n",
       "<table border=\"1\" class=\"dataframe\">\n",
       "  <thead>\n",
       "    <tr style=\"text-align: right;\">\n",
       "      <th></th>\n",
       "      <th>age</th>\n",
       "      <th>workclass_recod</th>\n",
       "      <th>fnlwgt</th>\n",
       "      <th>educ_recod</th>\n",
       "      <th>educational-num</th>\n",
       "      <th>civstatus</th>\n",
       "      <th>collars</th>\n",
       "      <th>relationship</th>\n",
       "      <th>race</th>\n",
       "      <th>gender</th>\n",
       "      <th>capital-gain</th>\n",
       "      <th>capital-loss</th>\n",
       "      <th>hours_per_week</th>\n",
       "      <th>region</th>\n",
       "      <th>income</th>\n",
       "      <th>original_income</th>\n",
       "      <th>income_usd</th>\n",
       "    </tr>\n",
       "  </thead>\n",
       "  <tbody>\n",
       "  </tbody>\n",
       "</table>\n",
       "</div>"
      ],
      "text/plain": [
       "Empty DataFrame\n",
       "Columns: [age, workclass_recod, fnlwgt, educ_recod, educational-num, civstatus, collars, relationship, race, gender, capital-gain, capital-loss, hours_per_week, region, income, original_income, income_usd]\n",
       "Index: []"
      ]
     },
     "execution_count": 43,
     "metadata": {},
     "output_type": "execute_result"
    }
   ],
   "source": [
    "df.head(0)"
   ]
  },
  {
   "cell_type": "code",
   "execution_count": 44,
   "metadata": {},
   "outputs": [
    {
     "name": "stdout",
     "output_type": "stream",
     "text": [
      "Optimization terminated successfully.\n",
      "         Current function value: 0.402349\n",
      "         Iterations 7\n"
     ]
    }
   ],
   "source": [
    "modelo_logit = smf.logit('income ~ age + region + collars + civstatus + race + hours_per_week', df).fit()"
   ]
  },
  {
   "cell_type": "code",
   "execution_count": 45,
   "metadata": {},
   "outputs": [
    {
     "data": {
      "text/html": [
       "<table class=\"simpletable\">\n",
       "<caption>Logit Regression Results</caption>\n",
       "<tr>\n",
       "  <th>Dep. Variable:</th>      <td>income</td>      <th>  No. Observations:  </th>  <td> 45222</td> \n",
       "</tr>\n",
       "<tr>\n",
       "  <th>Model:</th>               <td>Logit</td>      <th>  Df Residuals:      </th>  <td> 45207</td> \n",
       "</tr>\n",
       "<tr>\n",
       "  <th>Method:</th>               <td>MLE</td>       <th>  Df Model:          </th>  <td>    14</td> \n",
       "</tr>\n",
       "<tr>\n",
       "  <th>Date:</th>          <td>Sat, 21 Sep 2019</td> <th>  Pseudo R-squ.:     </th>  <td>0.2815</td> \n",
       "</tr>\n",
       "<tr>\n",
       "  <th>Time:</th>              <td>14:39:42</td>     <th>  Log-Likelihood:    </th> <td> -18195.</td>\n",
       "</tr>\n",
       "<tr>\n",
       "  <th>converged:</th>           <td>True</td>       <th>  LL-Null:           </th> <td> -25322.</td>\n",
       "</tr>\n",
       "<tr>\n",
       "  <th> </th>                      <td> </td>        <th>  LLR p-value:       </th>  <td> 0.000</td> \n",
       "</tr>\n",
       "</table>\n",
       "<table class=\"simpletable\">\n",
       "<tr>\n",
       "               <td></td>                 <th>coef</th>     <th>std err</th>      <th>z</th>      <th>P>|z|</th>  <th>[0.025</th>    <th>0.975]</th>  \n",
       "</tr>\n",
       "<tr>\n",
       "  <th>Intercept</th>                  <td>   -6.7003</td> <td>    0.182</td> <td>  -36.817</td> <td> 0.000</td> <td>   -7.057</td> <td>   -6.344</td>\n",
       "</tr>\n",
       "<tr>\n",
       "  <th>region[T.asia]</th>             <td>   -0.1561</td> <td>    0.134</td> <td>   -1.168</td> <td> 0.243</td> <td>   -0.418</td> <td>    0.106</td>\n",
       "</tr>\n",
       "<tr>\n",
       "  <th>region[T.europa]</th>           <td>    0.1434</td> <td>    0.096</td> <td>    1.491</td> <td> 0.136</td> <td>   -0.045</td> <td>    0.332</td>\n",
       "</tr>\n",
       "<tr>\n",
       "  <th>collars[T.others]</th>          <td>   -0.7774</td> <td>    0.080</td> <td>   -9.713</td> <td> 0.000</td> <td>   -0.934</td> <td>   -0.621</td>\n",
       "</tr>\n",
       "<tr>\n",
       "  <th>collars[T.white-collar]</th>    <td>    1.3186</td> <td>    0.029</td> <td>   45.874</td> <td> 0.000</td> <td>    1.262</td> <td>    1.375</td>\n",
       "</tr>\n",
       "<tr>\n",
       "  <th>civstatus[T.divorced]</th>      <td>    0.3197</td> <td>    0.060</td> <td>    5.324</td> <td> 0.000</td> <td>    0.202</td> <td>    0.437</td>\n",
       "</tr>\n",
       "<tr>\n",
       "  <th>civstatus[T.married]</th>       <td>    2.4587</td> <td>    0.045</td> <td>   54.949</td> <td> 0.000</td> <td>    2.371</td> <td>    2.546</td>\n",
       "</tr>\n",
       "<tr>\n",
       "  <th>civstatus[T.separated]</th>     <td>    0.2058</td> <td>    0.115</td> <td>    1.790</td> <td> 0.073</td> <td>   -0.019</td> <td>    0.431</td>\n",
       "</tr>\n",
       "<tr>\n",
       "  <th>civstatus[T.widowed]</th>       <td>    0.0707</td> <td>    0.111</td> <td>    0.637</td> <td> 0.524</td> <td>   -0.147</td> <td>    0.289</td>\n",
       "</tr>\n",
       "<tr>\n",
       "  <th>race[T.Asian-Pac-Islander]</th> <td>    0.8410</td> <td>    0.203</td> <td>    4.141</td> <td> 0.000</td> <td>    0.443</td> <td>    1.239</td>\n",
       "</tr>\n",
       "<tr>\n",
       "  <th>race[T.Black]</th>              <td>    0.3859</td> <td>    0.172</td> <td>    2.240</td> <td> 0.025</td> <td>    0.048</td> <td>    0.724</td>\n",
       "</tr>\n",
       "<tr>\n",
       "  <th>race[T.Other]</th>              <td>    0.2149</td> <td>    0.243</td> <td>    0.885</td> <td> 0.376</td> <td>   -0.261</td> <td>    0.691</td>\n",
       "</tr>\n",
       "<tr>\n",
       "  <th>race[T.White]</th>              <td>    0.6887</td> <td>    0.164</td> <td>    4.189</td> <td> 0.000</td> <td>    0.366</td> <td>    1.011</td>\n",
       "</tr>\n",
       "<tr>\n",
       "  <th>age</th>                        <td>    0.0264</td> <td>    0.001</td> <td>   22.905</td> <td> 0.000</td> <td>    0.024</td> <td>    0.029</td>\n",
       "</tr>\n",
       "<tr>\n",
       "  <th>hours_per_week</th>             <td>    0.0348</td> <td>    0.001</td> <td>   29.845</td> <td> 0.000</td> <td>    0.033</td> <td>    0.037</td>\n",
       "</tr>\n",
       "</table>"
      ],
      "text/plain": [
       "<class 'statsmodels.iolib.summary.Summary'>\n",
       "\"\"\"\n",
       "                           Logit Regression Results                           \n",
       "==============================================================================\n",
       "Dep. Variable:                 income   No. Observations:                45222\n",
       "Model:                          Logit   Df Residuals:                    45207\n",
       "Method:                           MLE   Df Model:                           14\n",
       "Date:                Sat, 21 Sep 2019   Pseudo R-squ.:                  0.2815\n",
       "Time:                        14:39:42   Log-Likelihood:                -18195.\n",
       "converged:                       True   LL-Null:                       -25322.\n",
       "                                        LLR p-value:                     0.000\n",
       "==============================================================================================\n",
       "                                 coef    std err          z      P>|z|      [0.025      0.975]\n",
       "----------------------------------------------------------------------------------------------\n",
       "Intercept                     -6.7003      0.182    -36.817      0.000      -7.057      -6.344\n",
       "region[T.asia]                -0.1561      0.134     -1.168      0.243      -0.418       0.106\n",
       "region[T.europa]               0.1434      0.096      1.491      0.136      -0.045       0.332\n",
       "collars[T.others]             -0.7774      0.080     -9.713      0.000      -0.934      -0.621\n",
       "collars[T.white-collar]        1.3186      0.029     45.874      0.000       1.262       1.375\n",
       "civstatus[T.divorced]          0.3197      0.060      5.324      0.000       0.202       0.437\n",
       "civstatus[T.married]           2.4587      0.045     54.949      0.000       2.371       2.546\n",
       "civstatus[T.separated]         0.2058      0.115      1.790      0.073      -0.019       0.431\n",
       "civstatus[T.widowed]           0.0707      0.111      0.637      0.524      -0.147       0.289\n",
       "race[T.Asian-Pac-Islander]     0.8410      0.203      4.141      0.000       0.443       1.239\n",
       "race[T.Black]                  0.3859      0.172      2.240      0.025       0.048       0.724\n",
       "race[T.Other]                  0.2149      0.243      0.885      0.376      -0.261       0.691\n",
       "race[T.White]                  0.6887      0.164      4.189      0.000       0.366       1.011\n",
       "age                            0.0264      0.001     22.905      0.000       0.024       0.029\n",
       "hours_per_week                 0.0348      0.001     29.845      0.000       0.033       0.037\n",
       "==============================================================================================\n",
       "\"\"\""
      ]
     },
     "execution_count": 45,
     "metadata": {},
     "output_type": "execute_result"
    }
   ],
   "source": [
    "modelo_logit.summary()"
   ]
  },
  {
   "cell_type": "markdown",
   "metadata": {},
   "source": [
    "Segun lo reportado por nuestro modelo, las variables con significancia estadística al 95% son: `age`, `collars`, `civstatus`, `race`, `hours_per_week`"
   ]
  },
  {
   "cell_type": "markdown",
   "metadata": {},
   "source": [
    "Nuestro modelo podría ser depurado a:"
   ]
  },
  {
   "cell_type": "code",
   "execution_count": 46,
   "metadata": {},
   "outputs": [
    {
     "name": "stdout",
     "output_type": "stream",
     "text": [
      "Optimization terminated successfully.\n",
      "         Current function value: 0.402908\n",
      "         Iterations 7\n"
     ]
    }
   ],
   "source": [
    "modelo_logit = smf.logit('income ~ age + collars + civstatus + race + hours_per_week', df).fit()"
   ]
  },
  {
   "cell_type": "code",
   "execution_count": 47,
   "metadata": {},
   "outputs": [
    {
     "data": {
      "text/html": [
       "<table class=\"simpletable\">\n",
       "<caption>Logit Regression Results</caption>\n",
       "<tr>\n",
       "  <th>Dep. Variable:</th>      <td>income</td>      <th>  No. Observations:  </th>  <td> 46033</td> \n",
       "</tr>\n",
       "<tr>\n",
       "  <th>Model:</th>               <td>Logit</td>      <th>  Df Residuals:      </th>  <td> 46020</td> \n",
       "</tr>\n",
       "<tr>\n",
       "  <th>Method:</th>               <td>MLE</td>       <th>  Df Model:          </th>  <td>    12</td> \n",
       "</tr>\n",
       "<tr>\n",
       "  <th>Date:</th>          <td>Sat, 21 Sep 2019</td> <th>  Pseudo R-squ.:     </th>  <td>0.2809</td> \n",
       "</tr>\n",
       "<tr>\n",
       "  <th>Time:</th>              <td>14:39:43</td>     <th>  Log-Likelihood:    </th> <td> -18547.</td>\n",
       "</tr>\n",
       "<tr>\n",
       "  <th>converged:</th>           <td>True</td>       <th>  LL-Null:           </th> <td> -25791.</td>\n",
       "</tr>\n",
       "<tr>\n",
       "  <th> </th>                      <td> </td>        <th>  LLR p-value:       </th>  <td> 0.000</td> \n",
       "</tr>\n",
       "</table>\n",
       "<table class=\"simpletable\">\n",
       "<tr>\n",
       "               <td></td>                 <th>coef</th>     <th>std err</th>      <th>z</th>      <th>P>|z|</th>  <th>[0.025</th>    <th>0.975]</th>  \n",
       "</tr>\n",
       "<tr>\n",
       "  <th>Intercept</th>                  <td>   -6.6914</td> <td>    0.182</td> <td>  -36.850</td> <td> 0.000</td> <td>   -7.047</td> <td>   -6.336</td>\n",
       "</tr>\n",
       "<tr>\n",
       "  <th>collars[T.others]</th>          <td>   -0.7672</td> <td>    0.078</td> <td>   -9.788</td> <td> 0.000</td> <td>   -0.921</td> <td>   -0.614</td>\n",
       "</tr>\n",
       "<tr>\n",
       "  <th>collars[T.white-collar]</th>    <td>    1.3154</td> <td>    0.028</td> <td>   46.184</td> <td> 0.000</td> <td>    1.260</td> <td>    1.371</td>\n",
       "</tr>\n",
       "<tr>\n",
       "  <th>civstatus[T.divorced]</th>      <td>    0.3091</td> <td>    0.059</td> <td>    5.198</td> <td> 0.000</td> <td>    0.193</td> <td>    0.426</td>\n",
       "</tr>\n",
       "<tr>\n",
       "  <th>civstatus[T.married]</th>       <td>    2.4445</td> <td>    0.044</td> <td>   55.416</td> <td> 0.000</td> <td>    2.358</td> <td>    2.531</td>\n",
       "</tr>\n",
       "<tr>\n",
       "  <th>civstatus[T.separated]</th>     <td>    0.1741</td> <td>    0.115</td> <td>    1.518</td> <td> 0.129</td> <td>   -0.051</td> <td>    0.399</td>\n",
       "</tr>\n",
       "<tr>\n",
       "  <th>civstatus[T.widowed]</th>       <td>    0.0498</td> <td>    0.111</td> <td>    0.451</td> <td> 0.652</td> <td>   -0.167</td> <td>    0.266</td>\n",
       "</tr>\n",
       "<tr>\n",
       "  <th>race[T.Asian-Pac-Islander]</th> <td>    0.7116</td> <td>    0.179</td> <td>    3.986</td> <td> 0.000</td> <td>    0.362</td> <td>    1.061</td>\n",
       "</tr>\n",
       "<tr>\n",
       "  <th>race[T.Black]</th>              <td>    0.3839</td> <td>    0.172</td> <td>    2.232</td> <td> 0.026</td> <td>    0.047</td> <td>    0.721</td>\n",
       "</tr>\n",
       "<tr>\n",
       "  <th>race[T.Other]</th>              <td>    0.1699</td> <td>    0.240</td> <td>    0.709</td> <td> 0.478</td> <td>   -0.300</td> <td>    0.640</td>\n",
       "</tr>\n",
       "<tr>\n",
       "  <th>race[T.White]</th>              <td>    0.6932</td> <td>    0.164</td> <td>    4.217</td> <td> 0.000</td> <td>    0.371</td> <td>    1.015</td>\n",
       "</tr>\n",
       "<tr>\n",
       "  <th>age</th>                        <td>    0.0266</td> <td>    0.001</td> <td>   23.296</td> <td> 0.000</td> <td>    0.024</td> <td>    0.029</td>\n",
       "</tr>\n",
       "<tr>\n",
       "  <th>hours_per_week</th>             <td>    0.0347</td> <td>    0.001</td> <td>   30.101</td> <td> 0.000</td> <td>    0.032</td> <td>    0.037</td>\n",
       "</tr>\n",
       "</table>"
      ],
      "text/plain": [
       "<class 'statsmodels.iolib.summary.Summary'>\n",
       "\"\"\"\n",
       "                           Logit Regression Results                           \n",
       "==============================================================================\n",
       "Dep. Variable:                 income   No. Observations:                46033\n",
       "Model:                          Logit   Df Residuals:                    46020\n",
       "Method:                           MLE   Df Model:                           12\n",
       "Date:                Sat, 21 Sep 2019   Pseudo R-squ.:                  0.2809\n",
       "Time:                        14:39:43   Log-Likelihood:                -18547.\n",
       "converged:                       True   LL-Null:                       -25791.\n",
       "                                        LLR p-value:                     0.000\n",
       "==============================================================================================\n",
       "                                 coef    std err          z      P>|z|      [0.025      0.975]\n",
       "----------------------------------------------------------------------------------------------\n",
       "Intercept                     -6.6914      0.182    -36.850      0.000      -7.047      -6.336\n",
       "collars[T.others]             -0.7672      0.078     -9.788      0.000      -0.921      -0.614\n",
       "collars[T.white-collar]        1.3154      0.028     46.184      0.000       1.260       1.371\n",
       "civstatus[T.divorced]          0.3091      0.059      5.198      0.000       0.193       0.426\n",
       "civstatus[T.married]           2.4445      0.044     55.416      0.000       2.358       2.531\n",
       "civstatus[T.separated]         0.1741      0.115      1.518      0.129      -0.051       0.399\n",
       "civstatus[T.widowed]           0.0498      0.111      0.451      0.652      -0.167       0.266\n",
       "race[T.Asian-Pac-Islander]     0.7116      0.179      3.986      0.000       0.362       1.061\n",
       "race[T.Black]                  0.3839      0.172      2.232      0.026       0.047       0.721\n",
       "race[T.Other]                  0.1699      0.240      0.709      0.478      -0.300       0.640\n",
       "race[T.White]                  0.6932      0.164      4.217      0.000       0.371       1.015\n",
       "age                            0.0266      0.001     23.296      0.000       0.024       0.029\n",
       "hours_per_week                 0.0347      0.001     30.101      0.000       0.032       0.037\n",
       "==============================================================================================\n",
       "\"\"\""
      ]
     },
     "execution_count": 47,
     "metadata": {},
     "output_type": "execute_result"
    }
   ],
   "source": [
    "modelo_logit.summary()"
   ]
  },
  {
   "cell_type": "code",
   "execution_count": 48,
   "metadata": {},
   "outputs": [
    {
     "name": "stdout",
     "output_type": "stream",
     "text": [
      "Estimate_odds: -1.1458718349891037\n",
      "La probabilidad para un individuo con las variables suministradas en el modelo de tener un ingreso superior o igual a $50.0000 dólares anual es de: 24.124%\n"
     ]
    }
   ],
   "source": [
    "# Imprimiendo log_odds y probabilidad:\n",
    "herramientas_prueba.print_logit_estimations(modelo_logit, 'ingreso superior o igual a $50.0000 dólares anual')"
   ]
  },
  {
   "cell_type": "markdown",
   "metadata": {},
   "source": [
    "**Nota**:  Podemos seguir depurando el modelo si binarizamos algúnas variables como `collars`, `civstatus`, y `race`"
   ]
  },
  {
   "cell_type": "code",
   "execution_count": 49,
   "metadata": {},
   "outputs": [
    {
     "name": "stdout",
     "output_type": "stream",
     "text": [
      "Analizando Datos de la variable: collars\n",
      "white-collar    24819\n",
      "blue-collar     16276\n",
      "others           4938\n",
      "Name: collars, dtype: int64\n",
      "El valor más frecuente tiene: 24819 registros\n",
      "El valor más frecuente es: white-collar\n",
      "Analizando Datos Binarizados de la variable: collars\n",
      "0    24819\n",
      "1    24023\n",
      "Name: b_collars, dtype: int64\n",
      "Analizando Datos de la variable: civstatus\n",
      "married          23044\n",
      "Never-married    16117\n",
      "divorced          6633\n",
      "separated         1530\n",
      "widowed           1518\n",
      "Name: civstatus, dtype: int64\n",
      "El valor más frecuente tiene: 23044 registros\n",
      "El valor más frecuente es: married\n",
      "Analizando Datos Binarizados de la variable: civstatus\n",
      "1    25798\n",
      "0    23044\n",
      "Name: b_civstatus, dtype: int64\n",
      "Analizando Datos de la variable: race\n",
      "White                 41762\n",
      "Black                  4685\n",
      "Asian-Pac-Islander     1519\n",
      "Amer-Indian-Eskimo      470\n",
      "Other                   406\n",
      "Name: race, dtype: int64\n",
      "El valor más frecuente tiene: 41762 registros\n",
      "El valor más frecuente es: White\n",
      "Analizando Datos Binarizados de la variable: race\n",
      "0    41762\n",
      "1     7080\n",
      "Name: b_race, dtype: int64\n"
     ]
    }
   ],
   "source": [
    "df_copy = herramientas_prueba.binarize_columns(df, ['collars', 'civstatus', 'race'])"
   ]
  },
  {
   "cell_type": "code",
   "execution_count": 50,
   "metadata": {},
   "outputs": [
    {
     "data": {
      "text/html": [
       "<div>\n",
       "<style scoped>\n",
       "    .dataframe tbody tr th:only-of-type {\n",
       "        vertical-align: middle;\n",
       "    }\n",
       "\n",
       "    .dataframe tbody tr th {\n",
       "        vertical-align: top;\n",
       "    }\n",
       "\n",
       "    .dataframe thead th {\n",
       "        text-align: right;\n",
       "    }\n",
       "</style>\n",
       "<table border=\"1\" class=\"dataframe\">\n",
       "  <thead>\n",
       "    <tr style=\"text-align: right;\">\n",
       "      <th></th>\n",
       "      <th>age</th>\n",
       "      <th>workclass_recod</th>\n",
       "      <th>fnlwgt</th>\n",
       "      <th>educ_recod</th>\n",
       "      <th>educational-num</th>\n",
       "      <th>civstatus</th>\n",
       "      <th>collars</th>\n",
       "      <th>relationship</th>\n",
       "      <th>race</th>\n",
       "      <th>gender</th>\n",
       "      <th>capital-gain</th>\n",
       "      <th>capital-loss</th>\n",
       "      <th>hours_per_week</th>\n",
       "      <th>region</th>\n",
       "      <th>income</th>\n",
       "      <th>original_income</th>\n",
       "      <th>income_usd</th>\n",
       "      <th>b_collars</th>\n",
       "      <th>b_civstatus</th>\n",
       "      <th>b_race</th>\n",
       "    </tr>\n",
       "  </thead>\n",
       "  <tbody>\n",
       "    <tr>\n",
       "      <th>39463</th>\n",
       "      <td>59</td>\n",
       "      <td>self-employed</td>\n",
       "      <td>128105</td>\n",
       "      <td>high-school</td>\n",
       "      <td>9</td>\n",
       "      <td>married</td>\n",
       "      <td>blue-collar</td>\n",
       "      <td>Husband</td>\n",
       "      <td>White</td>\n",
       "      <td>Male</td>\n",
       "      <td>0</td>\n",
       "      <td>0</td>\n",
       "      <td>35</td>\n",
       "      <td>america</td>\n",
       "      <td>0</td>\n",
       "      <td>&lt;=50K</td>\n",
       "      <td>-50.0</td>\n",
       "      <td>1</td>\n",
       "      <td>0</td>\n",
       "      <td>0</td>\n",
       "    </tr>\n",
       "    <tr>\n",
       "      <th>9434</th>\n",
       "      <td>17</td>\n",
       "      <td>Private</td>\n",
       "      <td>86019</td>\n",
       "      <td>high-school</td>\n",
       "      <td>7</td>\n",
       "      <td>Never-married</td>\n",
       "      <td>white-collar</td>\n",
       "      <td>Not-in-family</td>\n",
       "      <td>White</td>\n",
       "      <td>Female</td>\n",
       "      <td>0</td>\n",
       "      <td>0</td>\n",
       "      <td>36</td>\n",
       "      <td>america</td>\n",
       "      <td>0</td>\n",
       "      <td>&lt;=50K</td>\n",
       "      <td>-50.0</td>\n",
       "      <td>0</td>\n",
       "      <td>1</td>\n",
       "      <td>0</td>\n",
       "    </tr>\n",
       "    <tr>\n",
       "      <th>278</th>\n",
       "      <td>58</td>\n",
       "      <td>self-employed</td>\n",
       "      <td>204021</td>\n",
       "      <td>university</td>\n",
       "      <td>13</td>\n",
       "      <td>married</td>\n",
       "      <td>blue-collar</td>\n",
       "      <td>Husband</td>\n",
       "      <td>White</td>\n",
       "      <td>Male</td>\n",
       "      <td>15024</td>\n",
       "      <td>0</td>\n",
       "      <td>50</td>\n",
       "      <td>america</td>\n",
       "      <td>1</td>\n",
       "      <td>&gt;50K</td>\n",
       "      <td>50.0</td>\n",
       "      <td>1</td>\n",
       "      <td>0</td>\n",
       "      <td>0</td>\n",
       "    </tr>\n",
       "    <tr>\n",
       "      <th>20196</th>\n",
       "      <td>51</td>\n",
       "      <td>Private</td>\n",
       "      <td>186338</td>\n",
       "      <td>high-school</td>\n",
       "      <td>9</td>\n",
       "      <td>married</td>\n",
       "      <td>blue-collar</td>\n",
       "      <td>Husband</td>\n",
       "      <td>White</td>\n",
       "      <td>Male</td>\n",
       "      <td>0</td>\n",
       "      <td>0</td>\n",
       "      <td>40</td>\n",
       "      <td>america</td>\n",
       "      <td>1</td>\n",
       "      <td>&gt;50K</td>\n",
       "      <td>50.0</td>\n",
       "      <td>1</td>\n",
       "      <td>0</td>\n",
       "      <td>0</td>\n",
       "    </tr>\n",
       "    <tr>\n",
       "      <th>16152</th>\n",
       "      <td>47</td>\n",
       "      <td>state-level-gov</td>\n",
       "      <td>244813</td>\n",
       "      <td>high-school</td>\n",
       "      <td>9</td>\n",
       "      <td>married</td>\n",
       "      <td>white-collar</td>\n",
       "      <td>Husband</td>\n",
       "      <td>White</td>\n",
       "      <td>Male</td>\n",
       "      <td>0</td>\n",
       "      <td>0</td>\n",
       "      <td>40</td>\n",
       "      <td>america</td>\n",
       "      <td>0</td>\n",
       "      <td>&lt;=50K</td>\n",
       "      <td>-50.0</td>\n",
       "      <td>0</td>\n",
       "      <td>0</td>\n",
       "      <td>0</td>\n",
       "    </tr>\n",
       "  </tbody>\n",
       "</table>\n",
       "</div>"
      ],
      "text/plain": [
       "       age  workclass_recod  fnlwgt   educ_recod  educational-num  \\\n",
       "39463   59    self-employed  128105  high-school                9   \n",
       "9434    17          Private   86019  high-school                7   \n",
       "278     58    self-employed  204021   university               13   \n",
       "20196   51          Private  186338  high-school                9   \n",
       "16152   47  state-level-gov  244813  high-school                9   \n",
       "\n",
       "           civstatus       collars   relationship   race  gender  \\\n",
       "39463        married   blue-collar        Husband  White    Male   \n",
       "9434   Never-married  white-collar  Not-in-family  White  Female   \n",
       "278          married   blue-collar        Husband  White    Male   \n",
       "20196        married   blue-collar        Husband  White    Male   \n",
       "16152        married  white-collar        Husband  White    Male   \n",
       "\n",
       "       capital-gain  capital-loss  hours_per_week   region  income  \\\n",
       "39463             0             0              35  america       0   \n",
       "9434              0             0              36  america       0   \n",
       "278           15024             0              50  america       1   \n",
       "20196             0             0              40  america       1   \n",
       "16152             0             0              40  america       0   \n",
       "\n",
       "      original_income  income_usd  b_collars  b_civstatus  b_race  \n",
       "39463           <=50K       -50.0          1            0       0  \n",
       "9434            <=50K       -50.0          0            1       0  \n",
       "278              >50K        50.0          1            0       0  \n",
       "20196            >50K        50.0          1            0       0  \n",
       "16152           <=50K       -50.0          0            0       0  "
      ]
     },
     "execution_count": 50,
     "metadata": {},
     "output_type": "execute_result"
    }
   ],
   "source": [
    "# revisamos una muestra aleatoria de 5.\n",
    "df_copy.sample(5)"
   ]
  },
  {
   "cell_type": "code",
   "execution_count": 51,
   "metadata": {},
   "outputs": [
    {
     "name": "stdout",
     "output_type": "stream",
     "text": [
      "Optimization terminated successfully.\n",
      "         Current function value: 0.394988\n",
      "         Iterations 7\n"
     ]
    }
   ],
   "source": [
    "modelo_logit = smf.logit('income ~ age + b_collars + b_civstatus + b_race + hours_per_week', df_copy).fit()"
   ]
  },
  {
   "cell_type": "code",
   "execution_count": 52,
   "metadata": {},
   "outputs": [
    {
     "data": {
      "text/html": [
       "<table class=\"simpletable\">\n",
       "<caption>Logit Regression Results</caption>\n",
       "<tr>\n",
       "  <th>Dep. Variable:</th>      <td>income</td>      <th>  No. Observations:  </th>  <td> 48842</td> \n",
       "</tr>\n",
       "<tr>\n",
       "  <th>Model:</th>               <td>Logit</td>      <th>  Df Residuals:      </th>  <td> 48836</td> \n",
       "</tr>\n",
       "<tr>\n",
       "  <th>Method:</th>               <td>MLE</td>       <th>  Df Model:          </th>  <td>     5</td> \n",
       "</tr>\n",
       "<tr>\n",
       "  <th>Date:</th>          <td>Sat, 21 Sep 2019</td> <th>  Pseudo R-squ.:     </th>  <td>0.2822</td> \n",
       "</tr>\n",
       "<tr>\n",
       "  <th>Time:</th>              <td>14:39:43</td>     <th>  Log-Likelihood:    </th> <td> -19292.</td>\n",
       "</tr>\n",
       "<tr>\n",
       "  <th>converged:</th>           <td>True</td>       <th>  LL-Null:           </th> <td> -26875.</td>\n",
       "</tr>\n",
       "<tr>\n",
       "  <th> </th>                      <td> </td>        <th>  LLR p-value:       </th>  <td> 0.000</td> \n",
       "</tr>\n",
       "</table>\n",
       "<table class=\"simpletable\">\n",
       "<tr>\n",
       "         <td></td>           <th>coef</th>     <th>std err</th>      <th>z</th>      <th>P>|z|</th>  <th>[0.025</th>    <th>0.975]</th>  \n",
       "</tr>\n",
       "<tr>\n",
       "  <th>Intercept</th>      <td>   -2.2745</td> <td>    0.072</td> <td>  -31.701</td> <td> 0.000</td> <td>   -2.415</td> <td>   -2.134</td>\n",
       "</tr>\n",
       "<tr>\n",
       "  <th>age</th>            <td>    0.0273</td> <td>    0.001</td> <td>   26.599</td> <td> 0.000</td> <td>    0.025</td> <td>    0.029</td>\n",
       "</tr>\n",
       "<tr>\n",
       "  <th>b_collars</th>      <td>   -1.4221</td> <td>    0.027</td> <td>  -53.221</td> <td> 0.000</td> <td>   -1.474</td> <td>   -1.370</td>\n",
       "</tr>\n",
       "<tr>\n",
       "  <th>b_civstatus</th>    <td>   -2.3513</td> <td>    0.031</td> <td>  -75.857</td> <td> 0.000</td> <td>   -2.412</td> <td>   -2.291</td>\n",
       "</tr>\n",
       "<tr>\n",
       "  <th>b_race</th>         <td>   -0.2794</td> <td>    0.041</td> <td>   -6.846</td> <td> 0.000</td> <td>   -0.359</td> <td>   -0.199</td>\n",
       "</tr>\n",
       "<tr>\n",
       "  <th>hours_per_week</th> <td>    0.0352</td> <td>    0.001</td> <td>   32.110</td> <td> 0.000</td> <td>    0.033</td> <td>    0.037</td>\n",
       "</tr>\n",
       "</table>"
      ],
      "text/plain": [
       "<class 'statsmodels.iolib.summary.Summary'>\n",
       "\"\"\"\n",
       "                           Logit Regression Results                           \n",
       "==============================================================================\n",
       "Dep. Variable:                 income   No. Observations:                48842\n",
       "Model:                          Logit   Df Residuals:                    48836\n",
       "Method:                           MLE   Df Model:                            5\n",
       "Date:                Sat, 21 Sep 2019   Pseudo R-squ.:                  0.2822\n",
       "Time:                        14:39:43   Log-Likelihood:                -19292.\n",
       "converged:                       True   LL-Null:                       -26875.\n",
       "                                        LLR p-value:                     0.000\n",
       "==================================================================================\n",
       "                     coef    std err          z      P>|z|      [0.025      0.975]\n",
       "----------------------------------------------------------------------------------\n",
       "Intercept         -2.2745      0.072    -31.701      0.000      -2.415      -2.134\n",
       "age                0.0273      0.001     26.599      0.000       0.025       0.029\n",
       "b_collars         -1.4221      0.027    -53.221      0.000      -1.474      -1.370\n",
       "b_civstatus       -2.3513      0.031    -75.857      0.000      -2.412      -2.291\n",
       "b_race            -0.2794      0.041     -6.846      0.000      -0.359      -0.199\n",
       "hours_per_week     0.0352      0.001     32.110      0.000       0.033       0.037\n",
       "==================================================================================\n",
       "\"\"\""
      ]
     },
     "execution_count": 52,
     "metadata": {},
     "output_type": "execute_result"
    }
   ],
   "source": [
    "modelo_logit.summary()"
   ]
  },
  {
   "cell_type": "code",
   "execution_count": 53,
   "metadata": {},
   "outputs": [
    {
     "name": "stdout",
     "output_type": "stream",
     "text": [
      "Estimate_odds: -6.264696637558743\n",
      "La probabilidad para un individuo con las variables suministradas en el modelo de tener un ingreso superior o igual a $50.0000 dólares anual es de: 0.19%\n"
     ]
    }
   ],
   "source": [
    "# Imprimiendo log_odds y probabilidad:\n",
    "herramientas_prueba.print_logit_estimations(modelo_logit, 'ingreso superior o igual a $50.0000 dólares anual')"
   ]
  },
  {
   "cell_type": "code",
   "execution_count": 54,
   "metadata": {
    "scrolled": false
   },
   "outputs": [
    {
     "data": {
      "text/plain": [
       "<matplotlib.axes._subplots.AxesSubplot at 0x1a23725f98>"
      ]
     },
     "execution_count": 54,
     "metadata": {},
     "output_type": "execute_result"
    },
    {
     "data": {
      "image/png": "[encoded data removed]",
      "text/plain": [
       "<Figure size 720x360 with 1 Axes>"
      ]
     },
     "metadata": {
      "needs_background": "light"
     },
     "output_type": "display_data"
    }
   ],
   "source": [
    "plt.rcParams['figure.figsize'] = (10, 5)\n",
    "sns.boxplot(x=df['original_income'], y=df['age'])"
   ]
  },
  {
   "cell_type": "markdown",
   "metadata": {},
   "source": [
    "En el gráfico anterior podemos corroborar el efecto que tiene la variable `age` sobre la variable `income`."
   ]
  },
  {
   "cell_type": "code",
   "execution_count": 55,
   "metadata": {},
   "outputs": [
    {
     "data": {
      "text/html": [
       "<table class=\"simpletable\">\n",
       "<tr>\n",
       "        <td>Model:</td>              <td>Logit</td>      <td>Pseudo R-squared:</td>    <td>0.282</td>  \n",
       "</tr>\n",
       "<tr>\n",
       "  <td>Dependent Variable:</td>      <td>income</td>            <td>AIC:</td>        <td>38596.0289</td>\n",
       "</tr>\n",
       "<tr>\n",
       "         <td>Date:</td>        <td>2019-09-21 14:39</td>       <td>BIC:</td>        <td>38648.8070</td>\n",
       "</tr>\n",
       "<tr>\n",
       "   <td>No. Observations:</td>        <td>48842</td>       <td>Log-Likelihood:</td>    <td>-19292.</td> \n",
       "</tr>\n",
       "<tr>\n",
       "       <td>Df Model:</td>              <td>5</td>            <td>LL-Null:</td>        <td>-26875.</td> \n",
       "</tr>\n",
       "<tr>\n",
       "     <td>Df Residuals:</td>          <td>48836</td>        <td>LLR p-value:</td>      <td>0.0000</td>  \n",
       "</tr>\n",
       "<tr>\n",
       "      <td>Converged:</td>           <td>1.0000</td>           <td>Scale:</td>         <td>1.0000</td>  \n",
       "</tr>\n",
       "<tr>\n",
       "    <td>No. Iterations:</td>        <td>7.0000</td>              <td></td>               <td></td>     \n",
       "</tr>\n",
       "</table>\n",
       "<table class=\"simpletable\">\n",
       "<tr>\n",
       "         <td></td>         <th>Coef.</th>  <th>Std.Err.</th>     <th>z</th>     <th>P>|z|</th> <th>[0.025</th>  <th>0.975]</th> \n",
       "</tr>\n",
       "<tr>\n",
       "  <th>Intercept</th>      <td>-2.2745</td>  <td>0.0717</td>  <td>-31.7014</td> <td>0.0000</td> <td>-2.4151</td> <td>-2.1338</td>\n",
       "</tr>\n",
       "<tr>\n",
       "  <th>age</th>            <td>0.0273</td>   <td>0.0010</td>   <td>26.5989</td> <td>0.0000</td> <td>0.0253</td>  <td>0.0294</td> \n",
       "</tr>\n",
       "<tr>\n",
       "  <th>b_collars</th>      <td>-1.4221</td>  <td>0.0267</td>  <td>-53.2213</td> <td>0.0000</td> <td>-1.4744</td> <td>-1.3697</td>\n",
       "</tr>\n",
       "<tr>\n",
       "  <th>b_civstatus</th>    <td>-2.3513</td>  <td>0.0310</td>  <td>-75.8568</td> <td>0.0000</td> <td>-2.4120</td> <td>-2.2905</td>\n",
       "</tr>\n",
       "<tr>\n",
       "  <th>b_race</th>         <td>-0.2794</td>  <td>0.0408</td>   <td>-6.8459</td> <td>0.0000</td> <td>-0.3594</td> <td>-0.1994</td>\n",
       "</tr>\n",
       "<tr>\n",
       "  <th>hours_per_week</th> <td>0.0352</td>   <td>0.0011</td>   <td>32.1101</td> <td>0.0000</td> <td>0.0330</td>  <td>0.0373</td> \n",
       "</tr>\n",
       "</table>"
      ],
      "text/plain": [
       "<class 'statsmodels.iolib.summary2.Summary'>\n",
       "\"\"\"\n",
       "                         Results: Logit\n",
       "=================================================================\n",
       "Model:              Logit            Pseudo R-squared: 0.282     \n",
       "Dependent Variable: income           AIC:              38596.0289\n",
       "Date:               2019-09-21 14:39 BIC:              38648.8070\n",
       "No. Observations:   48842            Log-Likelihood:   -19292.   \n",
       "Df Model:           5                LL-Null:          -26875.   \n",
       "Df Residuals:       48836            LLR p-value:      0.0000    \n",
       "Converged:          1.0000           Scale:            1.0000    \n",
       "No. Iterations:     7.0000                                       \n",
       "-----------------------------------------------------------------\n",
       "                  Coef.  Std.Err.    z     P>|z|   [0.025  0.975]\n",
       "-----------------------------------------------------------------\n",
       "Intercept        -2.2745   0.0717 -31.7014 0.0000 -2.4151 -2.1338\n",
       "age               0.0273   0.0010  26.5989 0.0000  0.0253  0.0294\n",
       "b_collars        -1.4221   0.0267 -53.2213 0.0000 -1.4744 -1.3697\n",
       "b_civstatus      -2.3513   0.0310 -75.8568 0.0000 -2.4120 -2.2905\n",
       "b_race           -0.2794   0.0408  -6.8459 0.0000 -0.3594 -0.1994\n",
       "hours_per_week    0.0352   0.0011  32.1101 0.0000  0.0330  0.0373\n",
       "=================================================================\n",
       "\n",
       "\"\"\""
      ]
     },
     "execution_count": 55,
     "metadata": {},
     "output_type": "execute_result"
    }
   ],
   "source": [
    "modelo_logit.summary2()"
   ]
  },
  {
   "cell_type": "markdown",
   "metadata": {},
   "source": [
    "### Graficaremos la Curva ROC"
   ]
  },
  {
   "cell_type": "markdown",
   "metadata": {},
   "source": [
    "La gráfica de Curva ROC nos ayudará para saber el desempeño de nuestro modelo y además poder visualizar\n",
    "los verdaderos positivos y los falsos positivos"
   ]
  },
  {
   "cell_type": "code",
   "execution_count": 56,
   "metadata": {},
   "outputs": [],
   "source": [
    "# matriz de variables independiente de nuestro modelo\n",
    "independent_vars = df_copy.loc[:, ['age', 'b_collars', 'b_civstatus', 'b_race', 'hours_per_week']]"
   ]
  },
  {
   "cell_type": "code",
   "execution_count": 57,
   "metadata": {},
   "outputs": [],
   "source": [
    "# realizamos una separación de nuestra data para predecir valores de nuestro modelo\n",
    "X_train, X_test, y_train, y_test = train_test_split(\n",
    "    independent_vars,\n",
    "    df_copy['income'],\n",
    "    test_size=0.33,\n",
    "    random_state=21092019\n",
    ")"
   ]
  },
  {
   "cell_type": "code",
   "execution_count": 58,
   "metadata": {},
   "outputs": [],
   "source": [
    "# estandarizamos la matriz de entrenamiento\n",
    "X_train_std = StandardScaler().fit_transform(X_train)\n",
    "\n",
    "# estandarizamos la matriz de validación\n",
    "X_test_std = StandardScaler().fit_transform(X_test)"
   ]
  },
  {
   "cell_type": "code",
   "execution_count": 59,
   "metadata": {},
   "outputs": [],
   "source": [
    "# Iniciamos un modelo de regresion logistica y le pasamos los datos en fit\n",
    "default_model = LogisticRegression().fit(X_train_std, y_train)"
   ]
  },
  {
   "cell_type": "code",
   "execution_count": 60,
   "metadata": {},
   "outputs": [
    {
     "data": {
      "text/plain": [
       "array([[ 0.3701322 , -0.71659272, -1.1702195 , -0.10041315,  0.42837051]])"
      ]
     },
     "execution_count": 60,
     "metadata": {},
     "output_type": "execute_result"
    }
   ],
   "source": [
    "default_model.coef_"
   ]
  },
  {
   "cell_type": "markdown",
   "metadata": {},
   "source": [
    "Podemos ver que los coeficientes se asemejan a los coeficientes de nuestro modelo inicial de clasificación."
   ]
  },
  {
   "cell_type": "code",
   "execution_count": 61,
   "metadata": {},
   "outputs": [
    {
     "data": {
      "text/html": [
       "<table class=\"simpletable\">\n",
       "<tr>\n",
       "        <td>Model:</td>              <td>Logit</td>      <td>Pseudo R-squared:</td>    <td>0.282</td>  \n",
       "</tr>\n",
       "<tr>\n",
       "  <td>Dependent Variable:</td>      <td>income</td>            <td>AIC:</td>        <td>38596.0289</td>\n",
       "</tr>\n",
       "<tr>\n",
       "         <td>Date:</td>        <td>2019-09-21 14:39</td>       <td>BIC:</td>        <td>38648.8070</td>\n",
       "</tr>\n",
       "<tr>\n",
       "   <td>No. Observations:</td>        <td>48842</td>       <td>Log-Likelihood:</td>    <td>-19292.</td> \n",
       "</tr>\n",
       "<tr>\n",
       "       <td>Df Model:</td>              <td>5</td>            <td>LL-Null:</td>        <td>-26875.</td> \n",
       "</tr>\n",
       "<tr>\n",
       "     <td>Df Residuals:</td>          <td>48836</td>        <td>LLR p-value:</td>      <td>0.0000</td>  \n",
       "</tr>\n",
       "<tr>\n",
       "      <td>Converged:</td>           <td>1.0000</td>           <td>Scale:</td>         <td>1.0000</td>  \n",
       "</tr>\n",
       "<tr>\n",
       "    <td>No. Iterations:</td>        <td>7.0000</td>              <td></td>               <td></td>     \n",
       "</tr>\n",
       "</table>\n",
       "<table class=\"simpletable\">\n",
       "<tr>\n",
       "         <td></td>         <th>Coef.</th>  <th>Std.Err.</th>     <th>z</th>     <th>P>|z|</th> <th>[0.025</th>  <th>0.975]</th> \n",
       "</tr>\n",
       "<tr>\n",
       "  <th>Intercept</th>      <td>-2.2745</td>  <td>0.0717</td>  <td>-31.7014</td> <td>0.0000</td> <td>-2.4151</td> <td>-2.1338</td>\n",
       "</tr>\n",
       "<tr>\n",
       "  <th>age</th>            <td>0.0273</td>   <td>0.0010</td>   <td>26.5989</td> <td>0.0000</td> <td>0.0253</td>  <td>0.0294</td> \n",
       "</tr>\n",
       "<tr>\n",
       "  <th>b_collars</th>      <td>-1.4221</td>  <td>0.0267</td>  <td>-53.2213</td> <td>0.0000</td> <td>-1.4744</td> <td>-1.3697</td>\n",
       "</tr>\n",
       "<tr>\n",
       "  <th>b_civstatus</th>    <td>-2.3513</td>  <td>0.0310</td>  <td>-75.8568</td> <td>0.0000</td> <td>-2.4120</td> <td>-2.2905</td>\n",
       "</tr>\n",
       "<tr>\n",
       "  <th>b_race</th>         <td>-0.2794</td>  <td>0.0408</td>   <td>-6.8459</td> <td>0.0000</td> <td>-0.3594</td> <td>-0.1994</td>\n",
       "</tr>\n",
       "<tr>\n",
       "  <th>hours_per_week</th> <td>0.0352</td>   <td>0.0011</td>   <td>32.1101</td> <td>0.0000</td> <td>0.0330</td>  <td>0.0373</td> \n",
       "</tr>\n",
       "</table>"
      ],
      "text/plain": [
       "<class 'statsmodels.iolib.summary2.Summary'>\n",
       "\"\"\"\n",
       "                         Results: Logit\n",
       "=================================================================\n",
       "Model:              Logit            Pseudo R-squared: 0.282     \n",
       "Dependent Variable: income           AIC:              38596.0289\n",
       "Date:               2019-09-21 14:39 BIC:              38648.8070\n",
       "No. Observations:   48842            Log-Likelihood:   -19292.   \n",
       "Df Model:           5                LL-Null:          -26875.   \n",
       "Df Residuals:       48836            LLR p-value:      0.0000    \n",
       "Converged:          1.0000           Scale:            1.0000    \n",
       "No. Iterations:     7.0000                                       \n",
       "-----------------------------------------------------------------\n",
       "                  Coef.  Std.Err.    z     P>|z|   [0.025  0.975]\n",
       "-----------------------------------------------------------------\n",
       "Intercept        -2.2745   0.0717 -31.7014 0.0000 -2.4151 -2.1338\n",
       "age               0.0273   0.0010  26.5989 0.0000  0.0253  0.0294\n",
       "b_collars        -1.4221   0.0267 -53.2213 0.0000 -1.4744 -1.3697\n",
       "b_civstatus      -2.3513   0.0310 -75.8568 0.0000 -2.4120 -2.2905\n",
       "b_race           -0.2794   0.0408  -6.8459 0.0000 -0.3594 -0.1994\n",
       "hours_per_week    0.0352   0.0011  32.1101 0.0000  0.0330  0.0373\n",
       "=================================================================\n",
       "\n",
       "\"\"\""
      ]
     },
     "execution_count": 61,
     "metadata": {},
     "output_type": "execute_result"
    }
   ],
   "source": [
    "modelo_logit.summary2()"
   ]
  },
  {
   "cell_type": "markdown",
   "metadata": {},
   "source": [
    "En la tabla anterior podemos visualizar con mayor detalle las metricas de nuestro modelo, como lo son\n",
    "el Pseudo R-squared."
   ]
  },
  {
   "cell_type": "markdown",
   "metadata": {},
   "source": [
    "Ahora reestimamos los valores predichos de nuestro modelo para obtener la probabilidad entre 0 y 1."
   ]
  },
  {
   "cell_type": "code",
   "execution_count": 62,
   "metadata": {},
   "outputs": [
    {
     "name": "stdout",
     "output_type": "stream",
     "text": [
      "[1. 1. 1. ... 1. 1. 1.]\n"
     ]
    }
   ],
   "source": [
    "yhat = default_model.predict_proba(X_test)[:, 1]\n",
    "print(yhat)"
   ]
  },
  {
   "cell_type": "markdown",
   "metadata": {},
   "source": [
    "#### generamos los objetos de roc_curve:"
   ]
  },
  {
   "cell_type": "code",
   "execution_count": 63,
   "metadata": {},
   "outputs": [],
   "source": [
    "false_positive, true_positive, threshold = roc_curve(y_test, yhat)"
   ]
  },
  {
   "cell_type": "markdown",
   "metadata": {},
   "source": [
    "#### Por útimo graficamos la Curva ROC del modelo:"
   ]
  },
  {
   "cell_type": "code",
   "execution_count": 64,
   "metadata": {},
   "outputs": [
    {
     "data": {
      "text/plain": [
       "Text(0.5, 0, 'Falsos Positivos')"
      ]
     },
     "execution_count": 64,
     "metadata": {},
     "output_type": "execute_result"
    },
    {
     "data": {
      "image/png": "[encoded data removed]",
      "text/plain": [
       "<Figure size 720x360 with 1 Axes>"
      ]
     },
     "metadata": {
      "needs_background": "light"
     },
     "output_type": "display_data"
    }
   ],
   "source": [
    "plt.title('Curva ROC')\n",
    "plt.plot(false_positive, true_positive, lw=1)\n",
    "plt.plot([0, 1], ls=\"--\", lw=1)\n",
    "plt.plot([0, 0], [1, 0] , c='limegreen', lw=3), plt.plot([1, 1] , c='limegreen', lw=3)\n",
    "plt.ylabel('Verdaderos Positivos')\n",
    "plt.xlabel('Falsos Positivos')"
   ]
  },
  {
   "cell_type": "markdown",
   "metadata": {},
   "source": [
    "En el gráfico anterior podemos ver que nuestro modelo predictivo está por encima de la bisectriz, por lo tanto,\n",
    "podemos decir que tiene un buen desempeño."
   ]
  }
 ],
 "metadata": {
  "kernelspec": {
   "display_name": "Python 3",
   "language": "python",
   "name": "python3"
  },
  "language_info": {
   "codemirror_mode": {
    "name": "ipython",
    "version": 3
   },
   "file_extension": ".py",
   "mimetype": "text/x-python",
   "name": "python",
   "nbconvert_exporter": "python",
   "pygments_lexer": "ipython3",
   "version": "3.7.3"
  }
 },
 "nbformat": 4,
 "nbformat_minor": 2
}
