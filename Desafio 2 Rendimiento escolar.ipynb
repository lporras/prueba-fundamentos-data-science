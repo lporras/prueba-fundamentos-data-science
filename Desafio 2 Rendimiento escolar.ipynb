{
 "cells": [
  {
   "cell_type": "markdown",
   "metadata": {},
   "source": [
    "<img style=\"margin: 0 auto;\" src=\"https://desafiolatam.com/assets/home/logo-academia-bla-790873cdf66b0e681dfbe640ace8a602f5330bec301c409744c358330e823ae3.png\">"
   ]
  },
  {
   "cell_type": "markdown",
   "metadata": {},
   "source": [
    "# Desafio 2 Rendimiento escolar"
   ]
  },
  {
   "cell_type": "markdown",
   "metadata": {},
   "source": [
    "#### Integrantes\n",
    "* Catalina Cerda\n",
    "* José González\n",
    "* Luis Porras"
   ]
  },
  {
   "cell_type": "code",
   "execution_count": 1,
   "metadata": {},
   "outputs": [],
   "source": [
    "#Importar librerias\n",
    "#Manejo de base de datos\n",
    "import pandas as pd\n",
    "#Funciones numéricas\n",
    "import numpy as np\n",
    "#Librerias de gráficos\n",
    "import matplotlib.pyplot as plt\n",
    "import seaborn as sns\n",
    "#Importe de modulos estadisticos\n",
    "import scipy.stats as stats\n",
    "#Analiza los datos perdidos por columna\n",
    "import missingno\n",
    "\n",
    "#Importe de statsmodels para la regresión lineal.\n",
    "import statsmodels.api as sm\n",
    "\n",
    "#Al importar esta libreria ya no es necesario asignarle valores numéricos a las categorías.\n",
    "import statsmodels.formula.api as smf\n",
    "\n",
    "#Ignorar Avisos\n",
    "import warnings\n",
    "warnings.filterwarnings(\"ignore\")\n",
    "\n",
    "#Libreria funciones auxiliares\n",
    "import utils\n",
    "#\n",
    "plt.rcParams[\"figure.figsize\"] = (10,6)"
   ]
  },
  {
   "cell_type": "markdown",
   "metadata": {},
   "source": [
    "# Hito 1: Sesión Presencial 1, Unidad 7\n",
    "Completar el punto de Preliminares, así como Aspectos computacionales."
   ]
  },
  {
   "cell_type": "markdown",
   "metadata": {},
   "source": [
    "### Desafío 2: Rendimiento escolar\n",
    "#### Enunciado\n",
    "Lo contactan de una escuela Portuguesa para generar un modelo que identifique aquellos alumnos\n",
    "que presentan un bajo desempeño académico, medido en el promedio final del año escolar. Para ello\n",
    "le envían un archivo con registros sociodemográficos y conductuales de los alumnos dos escuelas\n",
    "para perfilar a los estudiantes.\n",
    "De manera adicional la psicopedagoga sugiere inspeccionar una batería de preguntas asociadas a\n",
    "aspectos ambientales del alumno (de famrel a health ) y ver si éstas se pueden abstraer en\n",
    "categorías latentes.\n",
    "### Aspectos adicionales a considerar\n",
    "* La base de datos presenta una serie de anomalías. En la escuela no tienen buenas prácticas sobre cómo ingresar datos, por lo que existen datos perdidos que están registrados bajo tres categorías: nulidade, sem validade, zero. De manera adicional, hay 3 variables numéricas que se registraron como strings, cuya interpretación en pandas devuelve una estructura de datos genérica. Finalmente, la base está con un encoding distinto al normal y los delimitadores son distintos.\n",
    "<br>\n",
    "* Para simplficar el análisis y su posterior inclusión en un modelo predictivo, se sugiere recodificar las variables binarias como 0 y 1. Se recomienda seguir en criterio de asignarle 1 a aquellas categorías minoritarias.\n",
    "<br>\n",
    "* El procedimiento también debe aplicarse para aquelas variables nominales con más de 2 categorías siguiendo la misma lógica.\n",
    "<br>\n",
    "* En la parte de modelación descriptiva, se deben generar modelos saturados por cada una de las notas registradas en G1 , G2 y G3.\n",
    "<br>\n",
    "* Para la parte de modelación predictiva, se debe generar un modelo para predecir las notas en G3 ."
   ]
  },
  {
   "cell_type": "code",
   "execution_count": 2,
   "metadata": {},
   "outputs": [
    {
     "data": {
      "text/html": [
       "<div>\n",
       "<style scoped>\n",
       "    .dataframe tbody tr th:only-of-type {\n",
       "        vertical-align: middle;\n",
       "    }\n",
       "\n",
       "    .dataframe tbody tr th {\n",
       "        vertical-align: top;\n",
       "    }\n",
       "\n",
       "    .dataframe thead th {\n",
       "        text-align: right;\n",
       "    }\n",
       "</style>\n",
       "<table border=\"1\" class=\"dataframe\">\n",
       "  <thead>\n",
       "    <tr style=\"text-align: right;\">\n",
       "      <th></th>\n",
       "      <th>Unnamed: 0</th>\n",
       "      <th>school</th>\n",
       "      <th>sex</th>\n",
       "      <th>age</th>\n",
       "      <th>address</th>\n",
       "      <th>famsize</th>\n",
       "      <th>Pstatus</th>\n",
       "      <th>Medu</th>\n",
       "      <th>Fedu</th>\n",
       "      <th>Mjob</th>\n",
       "      <th>...</th>\n",
       "      <th>famrel</th>\n",
       "      <th>freetime</th>\n",
       "      <th>goout</th>\n",
       "      <th>Dalc</th>\n",
       "      <th>Walc</th>\n",
       "      <th>health</th>\n",
       "      <th>absences</th>\n",
       "      <th>G1</th>\n",
       "      <th>G2</th>\n",
       "      <th>G3</th>\n",
       "    </tr>\n",
       "  </thead>\n",
       "  <tbody>\n",
       "    <tr>\n",
       "      <th>0</th>\n",
       "      <td>0</td>\n",
       "      <td>GP</td>\n",
       "      <td>F</td>\n",
       "      <td>nulidade</td>\n",
       "      <td>U</td>\n",
       "      <td>GT3</td>\n",
       "      <td>A</td>\n",
       "      <td>4</td>\n",
       "      <td>4</td>\n",
       "      <td>at_home</td>\n",
       "      <td>...</td>\n",
       "      <td>4</td>\n",
       "      <td>3</td>\n",
       "      <td>\"4\"</td>\n",
       "      <td>1</td>\n",
       "      <td>1</td>\n",
       "      <td>\"3\"</td>\n",
       "      <td>6</td>\n",
       "      <td>5</td>\n",
       "      <td>6</td>\n",
       "      <td>6</td>\n",
       "    </tr>\n",
       "    <tr>\n",
       "      <th>1</th>\n",
       "      <td>1</td>\n",
       "      <td>GP</td>\n",
       "      <td>F</td>\n",
       "      <td>\"17\"</td>\n",
       "      <td>U</td>\n",
       "      <td>GT3</td>\n",
       "      <td>T</td>\n",
       "      <td>1</td>\n",
       "      <td>1</td>\n",
       "      <td>at_home</td>\n",
       "      <td>...</td>\n",
       "      <td>5</td>\n",
       "      <td>3</td>\n",
       "      <td>\"3\"</td>\n",
       "      <td>1</td>\n",
       "      <td>1</td>\n",
       "      <td>\"3\"</td>\n",
       "      <td>4</td>\n",
       "      <td>5</td>\n",
       "      <td>5</td>\n",
       "      <td>6</td>\n",
       "    </tr>\n",
       "    <tr>\n",
       "      <th>2</th>\n",
       "      <td>2</td>\n",
       "      <td>GP</td>\n",
       "      <td>F</td>\n",
       "      <td>\"15\"</td>\n",
       "      <td>U</td>\n",
       "      <td>LE3</td>\n",
       "      <td>T</td>\n",
       "      <td>1</td>\n",
       "      <td>1</td>\n",
       "      <td>at_home</td>\n",
       "      <td>...</td>\n",
       "      <td>4</td>\n",
       "      <td>3</td>\n",
       "      <td>\"2\"</td>\n",
       "      <td>2</td>\n",
       "      <td>3</td>\n",
       "      <td>\"3\"</td>\n",
       "      <td>10</td>\n",
       "      <td>zero</td>\n",
       "      <td>8</td>\n",
       "      <td>10</td>\n",
       "    </tr>\n",
       "    <tr>\n",
       "      <th>3</th>\n",
       "      <td>3</td>\n",
       "      <td>GP</td>\n",
       "      <td>F</td>\n",
       "      <td>\"15\"</td>\n",
       "      <td>U</td>\n",
       "      <td>GT3</td>\n",
       "      <td>T</td>\n",
       "      <td>4</td>\n",
       "      <td>2</td>\n",
       "      <td>health</td>\n",
       "      <td>...</td>\n",
       "      <td>3</td>\n",
       "      <td>2</td>\n",
       "      <td>\"2\"</td>\n",
       "      <td>1</td>\n",
       "      <td>1</td>\n",
       "      <td>\"5\"</td>\n",
       "      <td>2</td>\n",
       "      <td>15</td>\n",
       "      <td>14</td>\n",
       "      <td>15</td>\n",
       "    </tr>\n",
       "    <tr>\n",
       "      <th>4</th>\n",
       "      <td>4</td>\n",
       "      <td>GP</td>\n",
       "      <td>F</td>\n",
       "      <td>sem validade</td>\n",
       "      <td>U</td>\n",
       "      <td>GT3</td>\n",
       "      <td>T</td>\n",
       "      <td>3</td>\n",
       "      <td>3</td>\n",
       "      <td>other</td>\n",
       "      <td>...</td>\n",
       "      <td>4</td>\n",
       "      <td>3</td>\n",
       "      <td>\"2\"</td>\n",
       "      <td>1</td>\n",
       "      <td>2</td>\n",
       "      <td>\"5\"</td>\n",
       "      <td>4</td>\n",
       "      <td>6</td>\n",
       "      <td>10</td>\n",
       "      <td>10</td>\n",
       "    </tr>\n",
       "  </tbody>\n",
       "</table>\n",
       "<p>5 rows × 34 columns</p>\n",
       "</div>"
      ],
      "text/plain": [
       "   Unnamed: 0 school sex           age address famsize Pstatus Medu Fedu  \\\n",
       "0           0     GP   F      nulidade       U     GT3       A    4    4   \n",
       "1           1     GP   F          \"17\"       U     GT3       T    1    1   \n",
       "2           2     GP   F          \"15\"       U     LE3       T    1    1   \n",
       "3           3     GP   F          \"15\"       U     GT3       T    4    2   \n",
       "4           4     GP   F  sem validade       U     GT3       T    3    3   \n",
       "\n",
       "      Mjob  ... famrel freetime goout Dalc Walc health absences    G1  G2  G3  \n",
       "0  at_home  ...      4        3   \"4\"    1    1    \"3\"        6     5   6   6  \n",
       "1  at_home  ...      5        3   \"3\"    1    1    \"3\"        4     5   5   6  \n",
       "2  at_home  ...      4        3   \"2\"    2    3    \"3\"       10  zero   8  10  \n",
       "3   health  ...      3        2   \"2\"    1    1    \"5\"        2    15  14  15  \n",
       "4    other  ...      4        3   \"2\"    1    2    \"5\"        4     6  10  10  \n",
       "\n",
       "[5 rows x 34 columns]"
      ]
     },
     "execution_count": 2,
     "metadata": {},
     "output_type": "execute_result"
    }
   ],
   "source": [
    "#Cargamos el dataframe y lo asignamos al valor 'df_student'\n",
    "#Con el argumento sep separamos las celdas de la base de dato que vienen con separado con ' ,'\n",
    "df_student = pd.read_csv('students.csv', sep='|', encoding='iso-8859-1') \n",
    "df_student.head()"
   ]
  },
  {
   "cell_type": "markdown",
   "metadata": {},
   "source": [
    "Primero dropeamos la columna `Unnamed: 0`"
   ]
  },
  {
   "cell_type": "code",
   "execution_count": 3,
   "metadata": {},
   "outputs": [
    {
     "data": {
      "text/html": [
       "<div>\n",
       "<style scoped>\n",
       "    .dataframe tbody tr th:only-of-type {\n",
       "        vertical-align: middle;\n",
       "    }\n",
       "\n",
       "    .dataframe tbody tr th {\n",
       "        vertical-align: top;\n",
       "    }\n",
       "\n",
       "    .dataframe thead th {\n",
       "        text-align: right;\n",
       "    }\n",
       "</style>\n",
       "<table border=\"1\" class=\"dataframe\">\n",
       "  <thead>\n",
       "    <tr style=\"text-align: right;\">\n",
       "      <th></th>\n",
       "      <th>school</th>\n",
       "      <th>sex</th>\n",
       "      <th>age</th>\n",
       "      <th>address</th>\n",
       "      <th>famsize</th>\n",
       "      <th>Pstatus</th>\n",
       "      <th>Medu</th>\n",
       "      <th>Fedu</th>\n",
       "      <th>Mjob</th>\n",
       "      <th>Fjob</th>\n",
       "      <th>...</th>\n",
       "      <th>famrel</th>\n",
       "      <th>freetime</th>\n",
       "      <th>goout</th>\n",
       "      <th>Dalc</th>\n",
       "      <th>Walc</th>\n",
       "      <th>health</th>\n",
       "      <th>absences</th>\n",
       "      <th>G1</th>\n",
       "      <th>G2</th>\n",
       "      <th>G3</th>\n",
       "    </tr>\n",
       "  </thead>\n",
       "  <tbody>\n",
       "    <tr>\n",
       "      <th>0</th>\n",
       "      <td>GP</td>\n",
       "      <td>F</td>\n",
       "      <td>nulidade</td>\n",
       "      <td>U</td>\n",
       "      <td>GT3</td>\n",
       "      <td>A</td>\n",
       "      <td>4</td>\n",
       "      <td>4</td>\n",
       "      <td>at_home</td>\n",
       "      <td>teacher</td>\n",
       "      <td>...</td>\n",
       "      <td>4</td>\n",
       "      <td>3</td>\n",
       "      <td>\"4\"</td>\n",
       "      <td>1</td>\n",
       "      <td>1</td>\n",
       "      <td>\"3\"</td>\n",
       "      <td>6</td>\n",
       "      <td>5</td>\n",
       "      <td>6</td>\n",
       "      <td>6</td>\n",
       "    </tr>\n",
       "    <tr>\n",
       "      <th>1</th>\n",
       "      <td>GP</td>\n",
       "      <td>F</td>\n",
       "      <td>\"17\"</td>\n",
       "      <td>U</td>\n",
       "      <td>GT3</td>\n",
       "      <td>T</td>\n",
       "      <td>1</td>\n",
       "      <td>1</td>\n",
       "      <td>at_home</td>\n",
       "      <td>other</td>\n",
       "      <td>...</td>\n",
       "      <td>5</td>\n",
       "      <td>3</td>\n",
       "      <td>\"3\"</td>\n",
       "      <td>1</td>\n",
       "      <td>1</td>\n",
       "      <td>\"3\"</td>\n",
       "      <td>4</td>\n",
       "      <td>5</td>\n",
       "      <td>5</td>\n",
       "      <td>6</td>\n",
       "    </tr>\n",
       "    <tr>\n",
       "      <th>2</th>\n",
       "      <td>GP</td>\n",
       "      <td>F</td>\n",
       "      <td>\"15\"</td>\n",
       "      <td>U</td>\n",
       "      <td>LE3</td>\n",
       "      <td>T</td>\n",
       "      <td>1</td>\n",
       "      <td>1</td>\n",
       "      <td>at_home</td>\n",
       "      <td>other</td>\n",
       "      <td>...</td>\n",
       "      <td>4</td>\n",
       "      <td>3</td>\n",
       "      <td>\"2\"</td>\n",
       "      <td>2</td>\n",
       "      <td>3</td>\n",
       "      <td>\"3\"</td>\n",
       "      <td>10</td>\n",
       "      <td>zero</td>\n",
       "      <td>8</td>\n",
       "      <td>10</td>\n",
       "    </tr>\n",
       "    <tr>\n",
       "      <th>3</th>\n",
       "      <td>GP</td>\n",
       "      <td>F</td>\n",
       "      <td>\"15\"</td>\n",
       "      <td>U</td>\n",
       "      <td>GT3</td>\n",
       "      <td>T</td>\n",
       "      <td>4</td>\n",
       "      <td>2</td>\n",
       "      <td>health</td>\n",
       "      <td>services</td>\n",
       "      <td>...</td>\n",
       "      <td>3</td>\n",
       "      <td>2</td>\n",
       "      <td>\"2\"</td>\n",
       "      <td>1</td>\n",
       "      <td>1</td>\n",
       "      <td>\"5\"</td>\n",
       "      <td>2</td>\n",
       "      <td>15</td>\n",
       "      <td>14</td>\n",
       "      <td>15</td>\n",
       "    </tr>\n",
       "    <tr>\n",
       "      <th>4</th>\n",
       "      <td>GP</td>\n",
       "      <td>F</td>\n",
       "      <td>sem validade</td>\n",
       "      <td>U</td>\n",
       "      <td>GT3</td>\n",
       "      <td>T</td>\n",
       "      <td>3</td>\n",
       "      <td>3</td>\n",
       "      <td>other</td>\n",
       "      <td>other</td>\n",
       "      <td>...</td>\n",
       "      <td>4</td>\n",
       "      <td>3</td>\n",
       "      <td>\"2\"</td>\n",
       "      <td>1</td>\n",
       "      <td>2</td>\n",
       "      <td>\"5\"</td>\n",
       "      <td>4</td>\n",
       "      <td>6</td>\n",
       "      <td>10</td>\n",
       "      <td>10</td>\n",
       "    </tr>\n",
       "  </tbody>\n",
       "</table>\n",
       "<p>5 rows × 33 columns</p>\n",
       "</div>"
      ],
      "text/plain": [
       "  school sex           age address famsize Pstatus Medu Fedu     Mjob  \\\n",
       "0     GP   F      nulidade       U     GT3       A    4    4  at_home   \n",
       "1     GP   F          \"17\"       U     GT3       T    1    1  at_home   \n",
       "2     GP   F          \"15\"       U     LE3       T    1    1  at_home   \n",
       "3     GP   F          \"15\"       U     GT3       T    4    2   health   \n",
       "4     GP   F  sem validade       U     GT3       T    3    3    other   \n",
       "\n",
       "       Fjob  ... famrel freetime goout Dalc Walc health absences    G1  G2  G3  \n",
       "0   teacher  ...      4        3   \"4\"    1    1    \"3\"        6     5   6   6  \n",
       "1     other  ...      5        3   \"3\"    1    1    \"3\"        4     5   5   6  \n",
       "2     other  ...      4        3   \"2\"    2    3    \"3\"       10  zero   8  10  \n",
       "3  services  ...      3        2   \"2\"    1    1    \"5\"        2    15  14  15  \n",
       "4     other  ...      4        3   \"2\"    1    2    \"5\"        4     6  10  10  \n",
       "\n",
       "[5 rows x 33 columns]"
      ]
     },
     "execution_count": 3,
     "metadata": {},
     "output_type": "execute_result"
    }
   ],
   "source": [
    "df = df_student.drop(columns = 'Unnamed: 0', axis = 1)\n",
    "df.head(5)"
   ]
  },
  {
   "cell_type": "markdown",
   "metadata": {},
   "source": [
    "Reemplazamos todos los datos mal ingresados (`nulidade`, `sem validade`, `zero`) por `NaN`"
   ]
  },
  {
   "cell_type": "code",
   "execution_count": 4,
   "metadata": {},
   "outputs": [
    {
     "data": {
      "text/html": [
       "<div>\n",
       "<style scoped>\n",
       "    .dataframe tbody tr th:only-of-type {\n",
       "        vertical-align: middle;\n",
       "    }\n",
       "\n",
       "    .dataframe tbody tr th {\n",
       "        vertical-align: top;\n",
       "    }\n",
       "\n",
       "    .dataframe thead th {\n",
       "        text-align: right;\n",
       "    }\n",
       "</style>\n",
       "<table border=\"1\" class=\"dataframe\">\n",
       "  <thead>\n",
       "    <tr style=\"text-align: right;\">\n",
       "      <th></th>\n",
       "      <th>school</th>\n",
       "      <th>sex</th>\n",
       "      <th>age</th>\n",
       "      <th>address</th>\n",
       "      <th>famsize</th>\n",
       "      <th>Pstatus</th>\n",
       "      <th>Medu</th>\n",
       "      <th>Fedu</th>\n",
       "      <th>Mjob</th>\n",
       "      <th>Fjob</th>\n",
       "      <th>...</th>\n",
       "      <th>famrel</th>\n",
       "      <th>freetime</th>\n",
       "      <th>goout</th>\n",
       "      <th>Dalc</th>\n",
       "      <th>Walc</th>\n",
       "      <th>health</th>\n",
       "      <th>absences</th>\n",
       "      <th>G1</th>\n",
       "      <th>G2</th>\n",
       "      <th>G3</th>\n",
       "    </tr>\n",
       "  </thead>\n",
       "  <tbody>\n",
       "    <tr>\n",
       "      <th>0</th>\n",
       "      <td>GP</td>\n",
       "      <td>F</td>\n",
       "      <td>NaN</td>\n",
       "      <td>U</td>\n",
       "      <td>GT3</td>\n",
       "      <td>A</td>\n",
       "      <td>4</td>\n",
       "      <td>4</td>\n",
       "      <td>at_home</td>\n",
       "      <td>teacher</td>\n",
       "      <td>...</td>\n",
       "      <td>4</td>\n",
       "      <td>3</td>\n",
       "      <td>\"4\"</td>\n",
       "      <td>1</td>\n",
       "      <td>1</td>\n",
       "      <td>\"3\"</td>\n",
       "      <td>6</td>\n",
       "      <td>5</td>\n",
       "      <td>6</td>\n",
       "      <td>6</td>\n",
       "    </tr>\n",
       "    <tr>\n",
       "      <th>1</th>\n",
       "      <td>GP</td>\n",
       "      <td>F</td>\n",
       "      <td>\"17\"</td>\n",
       "      <td>U</td>\n",
       "      <td>GT3</td>\n",
       "      <td>T</td>\n",
       "      <td>1</td>\n",
       "      <td>1</td>\n",
       "      <td>at_home</td>\n",
       "      <td>other</td>\n",
       "      <td>...</td>\n",
       "      <td>5</td>\n",
       "      <td>3</td>\n",
       "      <td>\"3\"</td>\n",
       "      <td>1</td>\n",
       "      <td>1</td>\n",
       "      <td>\"3\"</td>\n",
       "      <td>4</td>\n",
       "      <td>5</td>\n",
       "      <td>5</td>\n",
       "      <td>6</td>\n",
       "    </tr>\n",
       "    <tr>\n",
       "      <th>2</th>\n",
       "      <td>GP</td>\n",
       "      <td>F</td>\n",
       "      <td>\"15\"</td>\n",
       "      <td>U</td>\n",
       "      <td>LE3</td>\n",
       "      <td>T</td>\n",
       "      <td>1</td>\n",
       "      <td>1</td>\n",
       "      <td>at_home</td>\n",
       "      <td>other</td>\n",
       "      <td>...</td>\n",
       "      <td>4</td>\n",
       "      <td>3</td>\n",
       "      <td>\"2\"</td>\n",
       "      <td>2</td>\n",
       "      <td>3</td>\n",
       "      <td>\"3\"</td>\n",
       "      <td>10</td>\n",
       "      <td>NaN</td>\n",
       "      <td>8</td>\n",
       "      <td>10</td>\n",
       "    </tr>\n",
       "    <tr>\n",
       "      <th>3</th>\n",
       "      <td>GP</td>\n",
       "      <td>F</td>\n",
       "      <td>\"15\"</td>\n",
       "      <td>U</td>\n",
       "      <td>GT3</td>\n",
       "      <td>T</td>\n",
       "      <td>4</td>\n",
       "      <td>2</td>\n",
       "      <td>health</td>\n",
       "      <td>services</td>\n",
       "      <td>...</td>\n",
       "      <td>3</td>\n",
       "      <td>2</td>\n",
       "      <td>\"2\"</td>\n",
       "      <td>1</td>\n",
       "      <td>1</td>\n",
       "      <td>\"5\"</td>\n",
       "      <td>2</td>\n",
       "      <td>15</td>\n",
       "      <td>14</td>\n",
       "      <td>15</td>\n",
       "    </tr>\n",
       "    <tr>\n",
       "      <th>4</th>\n",
       "      <td>GP</td>\n",
       "      <td>F</td>\n",
       "      <td>NaN</td>\n",
       "      <td>U</td>\n",
       "      <td>GT3</td>\n",
       "      <td>T</td>\n",
       "      <td>3</td>\n",
       "      <td>3</td>\n",
       "      <td>other</td>\n",
       "      <td>other</td>\n",
       "      <td>...</td>\n",
       "      <td>4</td>\n",
       "      <td>3</td>\n",
       "      <td>\"2\"</td>\n",
       "      <td>1</td>\n",
       "      <td>2</td>\n",
       "      <td>\"5\"</td>\n",
       "      <td>4</td>\n",
       "      <td>6</td>\n",
       "      <td>10</td>\n",
       "      <td>10</td>\n",
       "    </tr>\n",
       "  </tbody>\n",
       "</table>\n",
       "<p>5 rows × 33 columns</p>\n",
       "</div>"
      ],
      "text/plain": [
       "  school sex   age address famsize Pstatus Medu Fedu     Mjob      Fjob  ...  \\\n",
       "0     GP   F   NaN       U     GT3       A    4    4  at_home   teacher  ...   \n",
       "1     GP   F  \"17\"       U     GT3       T    1    1  at_home     other  ...   \n",
       "2     GP   F  \"15\"       U     LE3       T    1    1  at_home     other  ...   \n",
       "3     GP   F  \"15\"       U     GT3       T    4    2   health  services  ...   \n",
       "4     GP   F   NaN       U     GT3       T    3    3    other     other  ...   \n",
       "\n",
       "  famrel freetime goout Dalc Walc health absences   G1  G2  G3  \n",
       "0      4        3   \"4\"    1    1    \"3\"        6    5   6   6  \n",
       "1      5        3   \"3\"    1    1    \"3\"        4    5   5   6  \n",
       "2      4        3   \"2\"    2    3    \"3\"       10  NaN   8  10  \n",
       "3      3        2   \"2\"    1    1    \"5\"        2   15  14  15  \n",
       "4      4        3   \"2\"    1    2    \"5\"        4    6  10  10  \n",
       "\n",
       "[5 rows x 33 columns]"
      ]
     },
     "execution_count": 4,
     "metadata": {},
     "output_type": "execute_result"
    }
   ],
   "source": [
    "df = df.replace('nulidade', np.nan)\n",
    "df = df.replace('sem validade', np.nan)\n",
    "df = df.replace('zero',np.nan)\n",
    "df.head()"
   ]
  },
  {
   "cell_type": "code",
   "execution_count": 5,
   "metadata": {},
   "outputs": [
    {
     "data": {
      "text/plain": [
       "10    0.140306\n",
       "11    0.119898\n",
       "0     0.094388\n",
       "15    0.084184\n",
       "8     0.081633\n",
       "13    0.079082\n",
       "12    0.079082\n",
       "9     0.068878\n",
       "14    0.068878\n",
       "16    0.040816\n",
       "6     0.038265\n",
       "18    0.030612\n",
       "7     0.022959\n",
       "5     0.017857\n",
       "17    0.015306\n",
       "19    0.012755\n",
       "20    0.002551\n",
       "4     0.002551\n",
       "Name: G3, dtype: float64"
      ]
     },
     "execution_count": 5,
     "metadata": {},
     "output_type": "execute_result"
    }
   ],
   "source": [
    "df['G3'].value_counts('%')"
   ]
  },
  {
   "cell_type": "markdown",
   "metadata": {},
   "source": [
    "Reemplazamos los valores `string-numericos` a `Float`"
   ]
  },
  {
   "cell_type": "code",
   "execution_count": 6,
   "metadata": {},
   "outputs": [
    {
     "name": "stdout",
     "output_type": "stream",
     "text": [
      "<class 'pandas.core.frame.DataFrame'>\n",
      "RangeIndex: 395 entries, 0 to 394\n",
      "Data columns (total 33 columns):\n",
      "school        390 non-null object\n",
      "sex           392 non-null object\n",
      "age           391 non-null object\n",
      "address       393 non-null object\n",
      "famsize       391 non-null object\n",
      "Pstatus       389 non-null object\n",
      "Medu          392 non-null object\n",
      "Fedu          390 non-null object\n",
      "Mjob          389 non-null object\n",
      "Fjob          395 non-null object\n",
      "reason        391 non-null object\n",
      "guardian      391 non-null object\n",
      "traveltime    392 non-null object\n",
      "studytime     390 non-null object\n",
      "failures      390 non-null object\n",
      "schoolsup     387 non-null object\n",
      "famsup        390 non-null object\n",
      "paid          394 non-null object\n",
      "activities    390 non-null object\n",
      "nursery       389 non-null object\n",
      "higher        389 non-null object\n",
      "internet      392 non-null object\n",
      "romantic      393 non-null object\n",
      "famrel        390 non-null object\n",
      "freetime      393 non-null object\n",
      "goout         390 non-null object\n",
      "Dalc          392 non-null object\n",
      "Walc          390 non-null object\n",
      "health        391 non-null object\n",
      "absences      391 non-null object\n",
      "G1            391 non-null object\n",
      "G2            395 non-null int64\n",
      "G3            392 non-null object\n",
      "dtypes: int64(1), object(32)\n",
      "memory usage: 101.9+ KB\n"
     ]
    }
   ],
   "source": [
    "df.info()"
   ]
  },
  {
   "cell_type": "code",
   "execution_count": 7,
   "metadata": {},
   "outputs": [
    {
     "data": {
      "text/plain": [
       "<matplotlib.axes._subplots.AxesSubplot at 0x7f8f8eea15f8>"
      ]
     },
     "execution_count": 7,
     "metadata": {},
     "output_type": "execute_result"
    },
    {
     "data": {
      "image/png": "[encoded data removed]",
      "text/plain": [
       "<Figure size 1800x720 with 2 Axes>"
      ]
     },
     "metadata": {
      "needs_background": "light"
     },
     "output_type": "display_data"
    }
   ],
   "source": [
    "missingno.matrix(df)"
   ]
  },
  {
   "cell_type": "code",
   "execution_count": 8,
   "metadata": {},
   "outputs": [],
   "source": [
    "df_dropped = df.dropna()"
   ]
  },
  {
   "cell_type": "code",
   "execution_count": 9,
   "metadata": {},
   "outputs": [
    {
     "name": "stdout",
     "output_type": "stream",
     "text": [
      "El porcentaje de datos perdidos si eliminamos todos los N/A es de: 71.9%\n"
     ]
    }
   ],
   "source": [
    "print(f\"El porcentaje de datos perdidos si eliminamos todos los N/A es de: {round(len(df_dropped)/len(df)*100, 2)}%\")"
   ]
  },
  {
   "cell_type": "markdown",
   "metadata": {},
   "source": [
    "Recodificando columna `age` de `String` a `Float`:"
   ]
  },
  {
   "cell_type": "code",
   "execution_count": 10,
   "metadata": {},
   "outputs": [
    {
     "data": {
      "text/plain": [
       "\"16\"    101\n",
       "\"17\"     98\n",
       "\"15\"     82\n",
       "\"18\"     81\n",
       "\"19\"     24\n",
       "\"20\"      3\n",
       "\"22\"      1\n",
       "\"21\"      1\n",
       "Name: age, dtype: int64"
      ]
     },
     "execution_count": 10,
     "metadata": {},
     "output_type": "execute_result"
    }
   ],
   "source": [
    "df['age'].value_counts()"
   ]
  },
  {
   "cell_type": "code",
   "execution_count": 11,
   "metadata": {},
   "outputs": [
    {
     "data": {
      "text/plain": [
       "16    101\n",
       "17     98\n",
       "15     82\n",
       "18     81\n",
       "19     24\n",
       "20      3\n",
       "22      1\n",
       "21      1\n",
       "Name: age, dtype: int64"
      ]
     },
     "execution_count": 11,
     "metadata": {},
     "output_type": "execute_result"
    }
   ],
   "source": [
    "df['age'] = df['age'].str.replace('\\\"','')\n",
    "df['age'].value_counts()"
   ]
  },
  {
   "cell_type": "code",
   "execution_count": 12,
   "metadata": {},
   "outputs": [],
   "source": [
    "df['age'] = df['age'].astype('float')"
   ]
  },
  {
   "cell_type": "markdown",
   "metadata": {},
   "source": [
    "Recodificando columna `absences` de `String` a `Float`:"
   ]
  },
  {
   "cell_type": "code",
   "execution_count": 13,
   "metadata": {},
   "outputs": [
    {
     "data": {
      "text/plain": [
       "0      113\n",
       "2       64\n",
       "4       53\n",
       "6       31\n",
       "8       22\n",
       "10      17\n",
       "14      12\n",
       "12      11\n",
       "3        8\n",
       "16       7\n",
       "7        7\n",
       "18       5\n",
       "5        5\n",
       "20       4\n",
       "NaN      4\n",
       "9        3\n",
       "15       3\n",
       "13       3\n",
       "22       3\n",
       "11       3\n",
       "1        3\n",
       "19       1\n",
       "26       1\n",
       "25       1\n",
       "30       1\n",
       "17       1\n",
       "28       1\n",
       "56       1\n",
       "38       1\n",
       "40       1\n",
       "21       1\n",
       "54       1\n",
       "75       1\n",
       "23       1\n",
       "24       1\n",
       "Name: absences, dtype: int64"
      ]
     },
     "execution_count": 13,
     "metadata": {},
     "output_type": "execute_result"
    }
   ],
   "source": [
    "df['absences'].value_counts(dropna=False)"
   ]
  },
  {
   "cell_type": "code",
   "execution_count": 14,
   "metadata": {},
   "outputs": [
    {
     "name": "stdout",
     "output_type": "stream",
     "text": [
      "<class 'pandas.core.frame.DataFrame'>\n",
      "RangeIndex: 395 entries, 0 to 394\n",
      "Data columns (total 33 columns):\n",
      "school        390 non-null object\n",
      "sex           392 non-null object\n",
      "age           391 non-null float64\n",
      "address       393 non-null object\n",
      "famsize       391 non-null object\n",
      "Pstatus       389 non-null object\n",
      "Medu          392 non-null object\n",
      "Fedu          390 non-null object\n",
      "Mjob          389 non-null object\n",
      "Fjob          395 non-null object\n",
      "reason        391 non-null object\n",
      "guardian      391 non-null object\n",
      "traveltime    392 non-null object\n",
      "studytime     390 non-null object\n",
      "failures      390 non-null object\n",
      "schoolsup     387 non-null object\n",
      "famsup        390 non-null object\n",
      "paid          394 non-null object\n",
      "activities    390 non-null object\n",
      "nursery       389 non-null object\n",
      "higher        389 non-null object\n",
      "internet      392 non-null object\n",
      "romantic      393 non-null object\n",
      "famrel        390 non-null object\n",
      "freetime      393 non-null object\n",
      "goout         390 non-null object\n",
      "Dalc          392 non-null object\n",
      "Walc          390 non-null object\n",
      "health        391 non-null object\n",
      "absences      391 non-null float64\n",
      "G1            391 non-null object\n",
      "G2            395 non-null int64\n",
      "G3            392 non-null object\n",
      "dtypes: float64(2), int64(1), object(30)\n",
      "memory usage: 101.9+ KB\n"
     ]
    }
   ],
   "source": [
    "df['absences'] = df['absences'].astype('float')\n",
    "df.info()"
   ]
  },
  {
   "cell_type": "code",
   "execution_count": 15,
   "metadata": {
    "scrolled": true
   },
   "outputs": [
    {
     "name": "stdout",
     "output_type": "stream",
     "text": [
      "<class 'pandas.core.frame.DataFrame'>\n",
      "RangeIndex: 395 entries, 0 to 394\n",
      "Data columns (total 33 columns):\n",
      "school        390 non-null object\n",
      "sex           392 non-null object\n",
      "age           391 non-null float64\n",
      "address       393 non-null object\n",
      "famsize       391 non-null object\n",
      "Pstatus       389 non-null object\n",
      "Medu          392 non-null float64\n",
      "Fedu          390 non-null object\n",
      "Mjob          389 non-null object\n",
      "Fjob          395 non-null object\n",
      "reason        391 non-null object\n",
      "guardian      391 non-null object\n",
      "traveltime    392 non-null object\n",
      "studytime     390 non-null object\n",
      "failures      390 non-null object\n",
      "schoolsup     387 non-null object\n",
      "famsup        390 non-null object\n",
      "paid          394 non-null object\n",
      "activities    390 non-null object\n",
      "nursery       389 non-null object\n",
      "higher        389 non-null object\n",
      "internet      392 non-null object\n",
      "romantic      393 non-null object\n",
      "famrel        390 non-null object\n",
      "freetime      393 non-null object\n",
      "goout         390 non-null object\n",
      "Dalc          392 non-null object\n",
      "Walc          390 non-null object\n",
      "health        391 non-null object\n",
      "absences      391 non-null float64\n",
      "G1            391 non-null object\n",
      "G2            395 non-null int64\n",
      "G3            392 non-null object\n",
      "dtypes: float64(3), int64(1), object(29)\n",
      "memory usage: 101.9+ KB\n"
     ]
    }
   ],
   "source": [
    "df['Medu'] = df['Medu'].astype('float')\n",
    "df.info()"
   ]
  },
  {
   "cell_type": "code",
   "execution_count": 16,
   "metadata": {},
   "outputs": [
    {
     "name": "stdout",
     "output_type": "stream",
     "text": [
      "<class 'pandas.core.frame.DataFrame'>\n",
      "RangeIndex: 395 entries, 0 to 394\n",
      "Data columns (total 33 columns):\n",
      "school        390 non-null object\n",
      "sex           392 non-null object\n",
      "age           391 non-null float64\n",
      "address       393 non-null object\n",
      "famsize       391 non-null object\n",
      "Pstatus       389 non-null object\n",
      "Medu          392 non-null float64\n",
      "Fedu          390 non-null float64\n",
      "Mjob          389 non-null object\n",
      "Fjob          395 non-null object\n",
      "reason        391 non-null object\n",
      "guardian      391 non-null object\n",
      "traveltime    392 non-null object\n",
      "studytime     390 non-null object\n",
      "failures      390 non-null object\n",
      "schoolsup     387 non-null object\n",
      "famsup        390 non-null object\n",
      "paid          394 non-null object\n",
      "activities    390 non-null object\n",
      "nursery       389 non-null object\n",
      "higher        389 non-null object\n",
      "internet      392 non-null object\n",
      "romantic      393 non-null object\n",
      "famrel        390 non-null object\n",
      "freetime      393 non-null object\n",
      "goout         390 non-null object\n",
      "Dalc          392 non-null object\n",
      "Walc          390 non-null object\n",
      "health        391 non-null object\n",
      "absences      391 non-null float64\n",
      "G1            391 non-null object\n",
      "G2            395 non-null int64\n",
      "G3            392 non-null object\n",
      "dtypes: float64(4), int64(1), object(28)\n",
      "memory usage: 101.9+ KB\n"
     ]
    }
   ],
   "source": [
    "df['Fedu'] = df['Fedu'].astype('float')\n",
    "df.info()"
   ]
  },
  {
   "cell_type": "code",
   "execution_count": 17,
   "metadata": {},
   "outputs": [
    {
     "name": "stdout",
     "output_type": "stream",
     "text": [
      "<class 'pandas.core.frame.DataFrame'>\n",
      "RangeIndex: 395 entries, 0 to 394\n",
      "Data columns (total 33 columns):\n",
      "school        390 non-null object\n",
      "sex           392 non-null object\n",
      "age           391 non-null float64\n",
      "address       393 non-null object\n",
      "famsize       391 non-null object\n",
      "Pstatus       389 non-null object\n",
      "Medu          392 non-null float64\n",
      "Fedu          390 non-null float64\n",
      "Mjob          389 non-null object\n",
      "Fjob          395 non-null object\n",
      "reason        391 non-null object\n",
      "guardian      391 non-null object\n",
      "traveltime    392 non-null float64\n",
      "studytime     390 non-null object\n",
      "failures      390 non-null object\n",
      "schoolsup     387 non-null object\n",
      "famsup        390 non-null object\n",
      "paid          394 non-null object\n",
      "activities    390 non-null object\n",
      "nursery       389 non-null object\n",
      "higher        389 non-null object\n",
      "internet      392 non-null object\n",
      "romantic      393 non-null object\n",
      "famrel        390 non-null object\n",
      "freetime      393 non-null object\n",
      "goout         390 non-null object\n",
      "Dalc          392 non-null object\n",
      "Walc          390 non-null object\n",
      "health        391 non-null object\n",
      "absences      391 non-null float64\n",
      "G1            391 non-null object\n",
      "G2            395 non-null int64\n",
      "G3            392 non-null object\n",
      "dtypes: float64(5), int64(1), object(27)\n",
      "memory usage: 101.9+ KB\n"
     ]
    }
   ],
   "source": [
    "df['traveltime'] = df['traveltime'].astype('float')\n",
    "df.info()"
   ]
  },
  {
   "cell_type": "code",
   "execution_count": 18,
   "metadata": {},
   "outputs": [
    {
     "name": "stdout",
     "output_type": "stream",
     "text": [
      "<class 'pandas.core.frame.DataFrame'>\n",
      "RangeIndex: 395 entries, 0 to 394\n",
      "Data columns (total 33 columns):\n",
      "school        390 non-null object\n",
      "sex           392 non-null object\n",
      "age           391 non-null float64\n",
      "address       393 non-null object\n",
      "famsize       391 non-null object\n",
      "Pstatus       389 non-null object\n",
      "Medu          392 non-null float64\n",
      "Fedu          390 non-null float64\n",
      "Mjob          389 non-null object\n",
      "Fjob          395 non-null object\n",
      "reason        391 non-null object\n",
      "guardian      391 non-null object\n",
      "traveltime    392 non-null float64\n",
      "studytime     390 non-null float64\n",
      "failures      390 non-null object\n",
      "schoolsup     387 non-null object\n",
      "famsup        390 non-null object\n",
      "paid          394 non-null object\n",
      "activities    390 non-null object\n",
      "nursery       389 non-null object\n",
      "higher        389 non-null object\n",
      "internet      392 non-null object\n",
      "romantic      393 non-null object\n",
      "famrel        390 non-null object\n",
      "freetime      393 non-null object\n",
      "goout         390 non-null object\n",
      "Dalc          392 non-null object\n",
      "Walc          390 non-null object\n",
      "health        391 non-null object\n",
      "absences      391 non-null float64\n",
      "G1            391 non-null object\n",
      "G2            395 non-null int64\n",
      "G3            392 non-null object\n",
      "dtypes: float64(6), int64(1), object(26)\n",
      "memory usage: 101.9+ KB\n"
     ]
    }
   ],
   "source": [
    "df['studytime'] = df['studytime'].astype('float')\n",
    "df.info()"
   ]
  },
  {
   "cell_type": "code",
   "execution_count": 19,
   "metadata": {},
   "outputs": [
    {
     "name": "stdout",
     "output_type": "stream",
     "text": [
      "<class 'pandas.core.frame.DataFrame'>\n",
      "RangeIndex: 395 entries, 0 to 394\n",
      "Data columns (total 33 columns):\n",
      "school        390 non-null object\n",
      "sex           392 non-null object\n",
      "age           391 non-null float64\n",
      "address       393 non-null object\n",
      "famsize       391 non-null object\n",
      "Pstatus       389 non-null object\n",
      "Medu          392 non-null float64\n",
      "Fedu          390 non-null float64\n",
      "Mjob          389 non-null object\n",
      "Fjob          395 non-null object\n",
      "reason        391 non-null object\n",
      "guardian      391 non-null object\n",
      "traveltime    392 non-null float64\n",
      "studytime     390 non-null float64\n",
      "failures      390 non-null float64\n",
      "schoolsup     387 non-null object\n",
      "famsup        390 non-null object\n",
      "paid          394 non-null object\n",
      "activities    390 non-null object\n",
      "nursery       389 non-null object\n",
      "higher        389 non-null object\n",
      "internet      392 non-null object\n",
      "romantic      393 non-null object\n",
      "famrel        390 non-null object\n",
      "freetime      393 non-null object\n",
      "goout         390 non-null object\n",
      "Dalc          392 non-null object\n",
      "Walc          390 non-null object\n",
      "health        391 non-null object\n",
      "absences      391 non-null float64\n",
      "G1            391 non-null object\n",
      "G2            395 non-null int64\n",
      "G3            392 non-null object\n",
      "dtypes: float64(7), int64(1), object(25)\n",
      "memory usage: 101.9+ KB\n"
     ]
    }
   ],
   "source": [
    "df['failures'] = df['failures'].astype('float')\n",
    "df.info()"
   ]
  },
  {
   "cell_type": "code",
   "execution_count": 20,
   "metadata": {},
   "outputs": [
    {
     "name": "stdout",
     "output_type": "stream",
     "text": [
      "<class 'pandas.core.frame.DataFrame'>\n",
      "RangeIndex: 395 entries, 0 to 394\n",
      "Data columns (total 33 columns):\n",
      "school        390 non-null object\n",
      "sex           392 non-null object\n",
      "age           391 non-null float64\n",
      "address       393 non-null object\n",
      "famsize       391 non-null object\n",
      "Pstatus       389 non-null object\n",
      "Medu          392 non-null float64\n",
      "Fedu          390 non-null float64\n",
      "Mjob          389 non-null object\n",
      "Fjob          395 non-null object\n",
      "reason        391 non-null object\n",
      "guardian      391 non-null object\n",
      "traveltime    392 non-null float64\n",
      "studytime     390 non-null float64\n",
      "failures      390 non-null float64\n",
      "schoolsup     387 non-null object\n",
      "famsup        390 non-null object\n",
      "paid          394 non-null object\n",
      "activities    390 non-null object\n",
      "nursery       389 non-null object\n",
      "higher        389 non-null object\n",
      "internet      392 non-null object\n",
      "romantic      393 non-null object\n",
      "famrel        390 non-null float64\n",
      "freetime      393 non-null object\n",
      "goout         390 non-null object\n",
      "Dalc          392 non-null object\n",
      "Walc          390 non-null object\n",
      "health        391 non-null object\n",
      "absences      391 non-null float64\n",
      "G1            391 non-null object\n",
      "G2            395 non-null int64\n",
      "G3            392 non-null object\n",
      "dtypes: float64(8), int64(1), object(24)\n",
      "memory usage: 101.9+ KB\n"
     ]
    }
   ],
   "source": [
    "df['famrel'] = df['famrel'].astype('float')\n",
    "df.info()"
   ]
  },
  {
   "cell_type": "code",
   "execution_count": 21,
   "metadata": {},
   "outputs": [
    {
     "name": "stdout",
     "output_type": "stream",
     "text": [
      "<class 'pandas.core.frame.DataFrame'>\n",
      "RangeIndex: 395 entries, 0 to 394\n",
      "Data columns (total 33 columns):\n",
      "school        390 non-null object\n",
      "sex           392 non-null object\n",
      "age           391 non-null float64\n",
      "address       393 non-null object\n",
      "famsize       391 non-null object\n",
      "Pstatus       389 non-null object\n",
      "Medu          392 non-null float64\n",
      "Fedu          390 non-null float64\n",
      "Mjob          389 non-null object\n",
      "Fjob          395 non-null object\n",
      "reason        391 non-null object\n",
      "guardian      391 non-null object\n",
      "traveltime    392 non-null float64\n",
      "studytime     390 non-null float64\n",
      "failures      390 non-null float64\n",
      "schoolsup     387 non-null object\n",
      "famsup        390 non-null object\n",
      "paid          394 non-null object\n",
      "activities    390 non-null object\n",
      "nursery       389 non-null object\n",
      "higher        389 non-null object\n",
      "internet      392 non-null object\n",
      "romantic      393 non-null object\n",
      "famrel        390 non-null float64\n",
      "freetime      393 non-null float64\n",
      "goout         390 non-null object\n",
      "Dalc          392 non-null object\n",
      "Walc          390 non-null object\n",
      "health        391 non-null object\n",
      "absences      391 non-null float64\n",
      "G1            391 non-null object\n",
      "G2            395 non-null int64\n",
      "G3            392 non-null object\n",
      "dtypes: float64(9), int64(1), object(23)\n",
      "memory usage: 101.9+ KB\n"
     ]
    }
   ],
   "source": [
    "df['freetime'] = df['freetime'].astype('float')\n",
    "df.info()"
   ]
  },
  {
   "cell_type": "code",
   "execution_count": 22,
   "metadata": {},
   "outputs": [
    {
     "name": "stdout",
     "output_type": "stream",
     "text": [
      "<class 'pandas.core.frame.DataFrame'>\n",
      "RangeIndex: 395 entries, 0 to 394\n",
      "Data columns (total 33 columns):\n",
      "school        390 non-null object\n",
      "sex           392 non-null object\n",
      "age           391 non-null float64\n",
      "address       393 non-null object\n",
      "famsize       391 non-null object\n",
      "Pstatus       389 non-null object\n",
      "Medu          392 non-null float64\n",
      "Fedu          390 non-null float64\n",
      "Mjob          389 non-null object\n",
      "Fjob          395 non-null object\n",
      "reason        391 non-null object\n",
      "guardian      391 non-null object\n",
      "traveltime    392 non-null float64\n",
      "studytime     390 non-null float64\n",
      "failures      390 non-null float64\n",
      "schoolsup     387 non-null object\n",
      "famsup        390 non-null object\n",
      "paid          394 non-null object\n",
      "activities    390 non-null object\n",
      "nursery       389 non-null object\n",
      "higher        389 non-null object\n",
      "internet      392 non-null object\n",
      "romantic      393 non-null object\n",
      "famrel        390 non-null float64\n",
      "freetime      393 non-null float64\n",
      "goout         390 non-null object\n",
      "Dalc          392 non-null float64\n",
      "Walc          390 non-null object\n",
      "health        391 non-null object\n",
      "absences      391 non-null float64\n",
      "G1            391 non-null object\n",
      "G2            395 non-null int64\n",
      "G3            392 non-null object\n",
      "dtypes: float64(10), int64(1), object(22)\n",
      "memory usage: 101.9+ KB\n"
     ]
    }
   ],
   "source": [
    "df['Dalc'] = df['Dalc'].astype('float')\n",
    "df.info()"
   ]
  },
  {
   "cell_type": "code",
   "execution_count": 23,
   "metadata": {},
   "outputs": [
    {
     "name": "stdout",
     "output_type": "stream",
     "text": [
      "<class 'pandas.core.frame.DataFrame'>\n",
      "RangeIndex: 395 entries, 0 to 394\n",
      "Data columns (total 33 columns):\n",
      "school        390 non-null object\n",
      "sex           392 non-null object\n",
      "age           391 non-null float64\n",
      "address       393 non-null object\n",
      "famsize       391 non-null object\n",
      "Pstatus       389 non-null object\n",
      "Medu          392 non-null float64\n",
      "Fedu          390 non-null float64\n",
      "Mjob          389 non-null object\n",
      "Fjob          395 non-null object\n",
      "reason        391 non-null object\n",
      "guardian      391 non-null object\n",
      "traveltime    392 non-null float64\n",
      "studytime     390 non-null float64\n",
      "failures      390 non-null float64\n",
      "schoolsup     387 non-null object\n",
      "famsup        390 non-null object\n",
      "paid          394 non-null object\n",
      "activities    390 non-null object\n",
      "nursery       389 non-null object\n",
      "higher        389 non-null object\n",
      "internet      392 non-null object\n",
      "romantic      393 non-null object\n",
      "famrel        390 non-null float64\n",
      "freetime      393 non-null float64\n",
      "goout         390 non-null object\n",
      "Dalc          392 non-null float64\n",
      "Walc          390 non-null float64\n",
      "health        391 non-null object\n",
      "absences      391 non-null float64\n",
      "G1            391 non-null object\n",
      "G2            395 non-null int64\n",
      "G3            392 non-null object\n",
      "dtypes: float64(11), int64(1), object(21)\n",
      "memory usage: 101.9+ KB\n"
     ]
    }
   ],
   "source": [
    "df['Walc'] = df['Walc'].astype('float')\n",
    "df.info()"
   ]
  },
  {
   "cell_type": "code",
   "execution_count": 24,
   "metadata": {},
   "outputs": [
    {
     "data": {
      "text/plain": [
       "3.0    128\n",
       "2.0    103\n",
       "4.0     83\n",
       "5.0     53\n",
       "1.0     23\n",
       "Name: goout, dtype: int64"
      ]
     },
     "execution_count": 24,
     "metadata": {},
     "output_type": "execute_result"
    }
   ],
   "source": [
    "df['goout'] = df['goout'].str.replace('\\\"','')\n",
    "df['goout'] = df['goout'].astype('float')\n",
    "df['goout'].value_counts()"
   ]
  },
  {
   "cell_type": "code",
   "execution_count": 25,
   "metadata": {},
   "outputs": [
    {
     "data": {
      "text/plain": [
       "5.0    145\n",
       "3.0     91\n",
       "4.0     66\n",
       "2.0     45\n",
       "1.0     44\n",
       "Name: health, dtype: int64"
      ]
     },
     "execution_count": 25,
     "metadata": {},
     "output_type": "execute_result"
    }
   ],
   "source": [
    "df['health'] = df['health'].str.replace('\\\"','')\n",
    "df['health'] = df['health'].astype('float')\n",
    "df['health'].value_counts()"
   ]
  },
  {
   "cell_type": "markdown",
   "metadata": {},
   "source": [
    "Recodificando columna `G1` de `String` a `Float`:"
   ]
  },
  {
   "cell_type": "code",
   "execution_count": 26,
   "metadata": {},
   "outputs": [
    {
     "data": {
      "text/plain": [
       "10     50\n",
       "8      41\n",
       "11     38\n",
       "7      36\n",
       "12     35\n",
       "13     33\n",
       "9      31\n",
       "14     30\n",
       "15     24\n",
       "6      23\n",
       "16     22\n",
       "17      8\n",
       "18      8\n",
       "5       7\n",
       "NaN     4\n",
       "19      3\n",
       "4       1\n",
       "3       1\n",
       "Name: G1, dtype: int64"
      ]
     },
     "execution_count": 26,
     "metadata": {},
     "output_type": "execute_result"
    }
   ],
   "source": [
    "df['G1'].value_counts(dropna=False)"
   ]
  },
  {
   "cell_type": "code",
   "execution_count": 27,
   "metadata": {},
   "outputs": [
    {
     "name": "stdout",
     "output_type": "stream",
     "text": [
      "<class 'pandas.core.frame.DataFrame'>\n",
      "RangeIndex: 395 entries, 0 to 394\n",
      "Data columns (total 33 columns):\n",
      "school        390 non-null object\n",
      "sex           392 non-null object\n",
      "age           391 non-null float64\n",
      "address       393 non-null object\n",
      "famsize       391 non-null object\n",
      "Pstatus       389 non-null object\n",
      "Medu          392 non-null float64\n",
      "Fedu          390 non-null float64\n",
      "Mjob          389 non-null object\n",
      "Fjob          395 non-null object\n",
      "reason        391 non-null object\n",
      "guardian      391 non-null object\n",
      "traveltime    392 non-null float64\n",
      "studytime     390 non-null float64\n",
      "failures      390 non-null float64\n",
      "schoolsup     387 non-null object\n",
      "famsup        390 non-null object\n",
      "paid          394 non-null object\n",
      "activities    390 non-null object\n",
      "nursery       389 non-null object\n",
      "higher        389 non-null object\n",
      "internet      392 non-null object\n",
      "romantic      393 non-null object\n",
      "famrel        390 non-null float64\n",
      "freetime      393 non-null float64\n",
      "goout         390 non-null float64\n",
      "Dalc          392 non-null float64\n",
      "Walc          390 non-null float64\n",
      "health        391 non-null float64\n",
      "absences      391 non-null float64\n",
      "G1            391 non-null float64\n",
      "G2            395 non-null int64\n",
      "G3            392 non-null object\n",
      "dtypes: float64(14), int64(1), object(18)\n",
      "memory usage: 101.9+ KB\n"
     ]
    }
   ],
   "source": [
    "df['G1'] = df['G1'].astype('float')\n",
    "df.info()"
   ]
  },
  {
   "cell_type": "markdown",
   "metadata": {},
   "source": [
    "Recodificando columna `G2` de `Int` a `Float`:"
   ]
  },
  {
   "cell_type": "code",
   "execution_count": 28,
   "metadata": {},
   "outputs": [
    {
     "name": "stdout",
     "output_type": "stream",
     "text": [
      "<class 'pandas.core.frame.DataFrame'>\n",
      "RangeIndex: 395 entries, 0 to 394\n",
      "Data columns (total 33 columns):\n",
      "school        390 non-null object\n",
      "sex           392 non-null object\n",
      "age           391 non-null float64\n",
      "address       393 non-null object\n",
      "famsize       391 non-null object\n",
      "Pstatus       389 non-null object\n",
      "Medu          392 non-null float64\n",
      "Fedu          390 non-null float64\n",
      "Mjob          389 non-null object\n",
      "Fjob          395 non-null object\n",
      "reason        391 non-null object\n",
      "guardian      391 non-null object\n",
      "traveltime    392 non-null float64\n",
      "studytime     390 non-null float64\n",
      "failures      390 non-null float64\n",
      "schoolsup     387 non-null object\n",
      "famsup        390 non-null object\n",
      "paid          394 non-null object\n",
      "activities    390 non-null object\n",
      "nursery       389 non-null object\n",
      "higher        389 non-null object\n",
      "internet      392 non-null object\n",
      "romantic      393 non-null object\n",
      "famrel        390 non-null float64\n",
      "freetime      393 non-null float64\n",
      "goout         390 non-null float64\n",
      "Dalc          392 non-null float64\n",
      "Walc          390 non-null float64\n",
      "health        391 non-null float64\n",
      "absences      391 non-null float64\n",
      "G1            391 non-null float64\n",
      "G2            395 non-null float64\n",
      "G3            392 non-null object\n",
      "dtypes: float64(15), object(18)\n",
      "memory usage: 101.9+ KB\n"
     ]
    }
   ],
   "source": [
    "df['G2'] = df['G2'].astype('float')\n",
    "df.info()"
   ]
  },
  {
   "cell_type": "markdown",
   "metadata": {},
   "source": [
    "Recodificando columna `G3` de `String` a `Float`:"
   ]
  },
  {
   "cell_type": "code",
   "execution_count": 29,
   "metadata": {},
   "outputs": [
    {
     "name": "stdout",
     "output_type": "stream",
     "text": [
      "<class 'pandas.core.frame.DataFrame'>\n",
      "RangeIndex: 395 entries, 0 to 394\n",
      "Data columns (total 33 columns):\n",
      "school        390 non-null object\n",
      "sex           392 non-null object\n",
      "age           391 non-null float64\n",
      "address       393 non-null object\n",
      "famsize       391 non-null object\n",
      "Pstatus       389 non-null object\n",
      "Medu          392 non-null float64\n",
      "Fedu          390 non-null float64\n",
      "Mjob          389 non-null object\n",
      "Fjob          395 non-null object\n",
      "reason        391 non-null object\n",
      "guardian      391 non-null object\n",
      "traveltime    392 non-null float64\n",
      "studytime     390 non-null float64\n",
      "failures      390 non-null float64\n",
      "schoolsup     387 non-null object\n",
      "famsup        390 non-null object\n",
      "paid          394 non-null object\n",
      "activities    390 non-null object\n",
      "nursery       389 non-null object\n",
      "higher        389 non-null object\n",
      "internet      392 non-null object\n",
      "romantic      393 non-null object\n",
      "famrel        390 non-null float64\n",
      "freetime      393 non-null float64\n",
      "goout         390 non-null float64\n",
      "Dalc          392 non-null float64\n",
      "Walc          390 non-null float64\n",
      "health        391 non-null float64\n",
      "absences      391 non-null float64\n",
      "G1            391 non-null float64\n",
      "G2            395 non-null float64\n",
      "G3            355 non-null float64\n",
      "dtypes: float64(16), object(17)\n",
      "memory usage: 101.9+ KB\n"
     ]
    }
   ],
   "source": [
    "df['G3'] = df['G3'].astype('float')\n",
    "#G3 como tiene muchos promedios 0 por la perdida de datos estos seran remplazados por 0\n",
    "df['G3'] = df['G3'].replace(0, np.nan)\n",
    "df.info()"
   ]
  },
  {
   "cell_type": "markdown",
   "metadata": {},
   "source": [
    "* Para simplficar el análisis y su posterior inclusión en un modelo predictivo, se sugiere recodificarlas variables binarias como 0 y 1. Se recomienda seguir en criterio de asignarle 1 a aquellas categorías minoritarias."
   ]
  },
  {
   "cell_type": "markdown",
   "metadata": {},
   "source": [
    "Reemplazamos las variables  binarias ('school', 'sex', 'address', 'famsize', 'Pstatus', 'schoolsup', 'famsup', 'paid', 'activities', 'nursery', 'higher', 'internet', 'romantic')"
   ]
  },
  {
   "cell_type": "code",
   "execution_count": 30,
   "metadata": {
    "scrolled": true
   },
   "outputs": [
    {
     "name": "stdout",
     "output_type": "stream",
     "text": [
      "Analizando Datos de la variable: school\n",
      "GP    345\n",
      "MS     45\n",
      "Name: school, dtype: int64\n",
      "El valor más frecuente tiene: 345 registros\n",
      "El valor más frecuente es: GP\n",
      "Analizando Datos Binarizados de la variable: school\n",
      "0    345\n",
      "1     50\n",
      "Name: b_school, dtype: int64\n",
      "Analizando Datos de la variable: sex\n",
      "F    206\n",
      "M    186\n",
      "Name: sex, dtype: int64\n",
      "El valor más frecuente tiene: 206 registros\n",
      "El valor más frecuente es: F\n",
      "Analizando Datos Binarizados de la variable: sex\n",
      "0    206\n",
      "1    189\n",
      "Name: b_sex, dtype: int64\n",
      "Analizando Datos de la variable: address\n",
      "U    305\n",
      "R     88\n",
      "Name: address, dtype: int64\n",
      "El valor más frecuente tiene: 305 registros\n",
      "El valor más frecuente es: U\n",
      "Analizando Datos Binarizados de la variable: address\n",
      "0    305\n",
      "1     90\n",
      "Name: b_address, dtype: int64\n",
      "Analizando Datos de la variable: famsize\n",
      "GT3    278\n",
      "LE3    113\n",
      "Name: famsize, dtype: int64\n",
      "El valor más frecuente tiene: 278 registros\n",
      "El valor más frecuente es: GT3\n",
      "Analizando Datos Binarizados de la variable: famsize\n",
      "0    278\n",
      "1    117\n",
      "Name: b_famsize, dtype: int64\n",
      "Analizando Datos de la variable: Pstatus\n",
      "T    349\n",
      "A     40\n",
      "Name: Pstatus, dtype: int64\n",
      "El valor más frecuente tiene: 349 registros\n",
      "El valor más frecuente es: T\n",
      "Analizando Datos Binarizados de la variable: Pstatus\n",
      "0    349\n",
      "1     46\n",
      "Name: b_Pstatus, dtype: int64\n",
      "Analizando Datos de la variable: schoolsup\n",
      "no     337\n",
      "yes     50\n",
      "Name: schoolsup, dtype: int64\n",
      "El valor más frecuente tiene: 337 registros\n",
      "El valor más frecuente es: no\n",
      "Analizando Datos Binarizados de la variable: schoolsup\n",
      "0    337\n",
      "1     58\n",
      "Name: b_schoolsup, dtype: int64\n",
      "Analizando Datos de la variable: famsup\n",
      "yes    239\n",
      "no     151\n",
      "Name: famsup, dtype: int64\n",
      "El valor más frecuente tiene: 239 registros\n",
      "El valor más frecuente es: yes\n",
      "Analizando Datos Binarizados de la variable: famsup\n",
      "0    239\n",
      "1    156\n",
      "Name: b_famsup, dtype: int64\n",
      "Analizando Datos de la variable: paid\n",
      "no     214\n",
      "yes    180\n",
      "Name: paid, dtype: int64\n",
      "El valor más frecuente tiene: 214 registros\n",
      "El valor más frecuente es: no\n",
      "Analizando Datos Binarizados de la variable: paid\n",
      "0    214\n",
      "1    181\n",
      "Name: b_paid, dtype: int64\n",
      "Analizando Datos de la variable: activities\n",
      "yes    199\n",
      "no     191\n",
      "Name: activities, dtype: int64\n",
      "El valor más frecuente tiene: 199 registros\n",
      "El valor más frecuente es: yes\n",
      "Analizando Datos Binarizados de la variable: activities\n",
      "0    199\n",
      "1    196\n",
      "Name: b_activities, dtype: int64\n",
      "Analizando Datos de la variable: nursery\n",
      "yes    309\n",
      "no      80\n",
      "Name: nursery, dtype: int64\n",
      "El valor más frecuente tiene: 309 registros\n",
      "El valor más frecuente es: yes\n",
      "Analizando Datos Binarizados de la variable: nursery\n",
      "0    309\n",
      "1     86\n",
      "Name: b_nursery, dtype: int64\n",
      "Analizando Datos de la variable: higher\n",
      "yes    369\n",
      "no      20\n",
      "Name: higher, dtype: int64\n",
      "El valor más frecuente tiene: 369 registros\n",
      "El valor más frecuente es: yes\n",
      "Analizando Datos Binarizados de la variable: higher\n",
      "0    369\n",
      "1     26\n",
      "Name: b_higher, dtype: int64\n",
      "Analizando Datos de la variable: internet\n",
      "yes    327\n",
      "no      65\n",
      "Name: internet, dtype: int64\n",
      "El valor más frecuente tiene: 327 registros\n",
      "El valor más frecuente es: yes\n",
      "Analizando Datos Binarizados de la variable: internet\n",
      "0    327\n",
      "1     68\n",
      "Name: b_internet, dtype: int64\n",
      "Analizando Datos de la variable: romantic\n",
      "no     262\n",
      "yes    131\n",
      "Name: romantic, dtype: int64\n",
      "El valor más frecuente tiene: 262 registros\n",
      "El valor más frecuente es: no\n",
      "Analizando Datos Binarizados de la variable: romantic\n",
      "0    262\n",
      "1    133\n",
      "Name: b_romantic, dtype: int64\n"
     ]
    }
   ],
   "source": [
    "df = utils.binarize_columns(df, ['school', 'sex', 'address', 'famsize', 'Pstatus', 'schoolsup', 'famsup', 'paid', 'activities', 'nursery', 'higher', 'internet', 'romantic'])"
   ]
  },
  {
   "cell_type": "code",
   "execution_count": 31,
   "metadata": {},
   "outputs": [
    {
     "data": {
      "text/plain": [
       "Index(['school', 'sex', 'age', 'address', 'famsize', 'Pstatus', 'Medu', 'Fedu',\n",
       "       'Mjob', 'Fjob', 'reason', 'guardian', 'traveltime', 'studytime',\n",
       "       'failures', 'schoolsup', 'famsup', 'paid', 'activities', 'nursery',\n",
       "       'higher', 'internet', 'romantic', 'famrel', 'freetime', 'goout', 'Dalc',\n",
       "       'Walc', 'health', 'absences', 'G1', 'G2', 'G3', 'b_school', 'b_sex',\n",
       "       'b_address', 'b_famsize', 'b_Pstatus', 'b_schoolsup', 'b_famsup',\n",
       "       'b_paid', 'b_activities', 'b_nursery', 'b_higher', 'b_internet',\n",
       "       'b_romantic'],\n",
       "      dtype='object')"
      ]
     },
     "execution_count": 31,
     "metadata": {},
     "output_type": "execute_result"
    }
   ],
   "source": [
    "df.columns"
   ]
  },
  {
   "cell_type": "markdown",
   "metadata": {},
   "source": [
    "* Revisamos los valores que pueden tomar las variables categoricas y le asignamos un valor"
   ]
  },
  {
   "cell_type": "code",
   "execution_count": 32,
   "metadata": {},
   "outputs": [
    {
     "data": {
      "text/plain": [
       "course        144\n",
       "home          108\n",
       "reputation    103\n",
       "other          36\n",
       "Name: reason, dtype: int64"
      ]
     },
     "execution_count": 32,
     "metadata": {},
     "output_type": "execute_result"
    }
   ],
   "source": [
    "df['reason'].value_counts()"
   ]
  },
  {
   "cell_type": "code",
   "execution_count": 33,
   "metadata": {},
   "outputs": [
    {
     "data": {
      "text/plain": [
       "mother    270\n",
       "father     89\n",
       "other      32\n",
       "Name: guardian, dtype: int64"
      ]
     },
     "execution_count": 33,
     "metadata": {},
     "output_type": "execute_result"
    }
   ],
   "source": [
    "df['guardian'].value_counts()"
   ]
  },
  {
   "cell_type": "code",
   "execution_count": 34,
   "metadata": {},
   "outputs": [
    {
     "data": {
      "text/plain": [
       "other       138\n",
       "services    102\n",
       "at_home      59\n",
       "teacher      57\n",
       "health       33\n",
       "Name: Mjob, dtype: int64"
      ]
     },
     "execution_count": 34,
     "metadata": {},
     "output_type": "execute_result"
    }
   ],
   "source": [
    "df['Mjob'].value_counts()"
   ]
  },
  {
   "cell_type": "code",
   "execution_count": 35,
   "metadata": {},
   "outputs": [
    {
     "data": {
      "text/plain": [
       "other       217\n",
       "services    111\n",
       "teacher      29\n",
       "at_home      20\n",
       "health       18\n",
       "Name: Fjob, dtype: int64"
      ]
     },
     "execution_count": 35,
     "metadata": {},
     "output_type": "execute_result"
    }
   ],
   "source": [
    "df['Fjob'].value_counts()"
   ]
  },
  {
   "cell_type": "code",
   "execution_count": 36,
   "metadata": {},
   "outputs": [],
   "source": [
    "df['c_reason'] = df['reason'].replace(['course', 'home', 'reputation', 'other'],\n",
    "                                           [0, 1, 2, 3])"
   ]
  },
  {
   "cell_type": "code",
   "execution_count": 37,
   "metadata": {},
   "outputs": [],
   "source": [
    "df['c_guardian'] = df['guardian'].replace(['mother', 'father', 'other'],\n",
    "                                           [0, 1, 2])"
   ]
  },
  {
   "cell_type": "code",
   "execution_count": 38,
   "metadata": {},
   "outputs": [],
   "source": [
    "df['c_Mjob'] = df['Mjob'].replace(['other', 'services', 'at_home', 'teacher', 'health'],\n",
    "                                           [0, 1, 2,3,4])"
   ]
  },
  {
   "cell_type": "code",
   "execution_count": 39,
   "metadata": {},
   "outputs": [],
   "source": [
    "df['c_Fjob'] = df['Fjob'].replace(['other', 'services', 'teacher', 'at_home', 'health'],\n",
    "                                           [0, 1, 2,3,4])"
   ]
  },
  {
   "cell_type": "code",
   "execution_count": 40,
   "metadata": {},
   "outputs": [],
   "source": [
    "#Para simplificar el analisis futuro eliminaremos las columnas que tengan valores string\n",
    "df = df.drop('school', axis = 1)\n",
    "df = df.drop('famsize', axis = 1)\n",
    "df = df.drop('sex', axis = 1)\n",
    "df = df.drop('paid', axis = 1)\n",
    "df = df.drop('activities', axis = 1)\n",
    "df = df.drop('address', axis = 1)\n",
    "df = df.drop('Pstatus', axis = 1)\n",
    "df = df.drop('schoolsup', axis = 1)\n",
    "df = df.drop('famsup', axis = 1)\n",
    "df = df.drop('nursery', axis = 1)\n",
    "df = df.drop('higher', axis = 1)\n",
    "df = df.drop('internet', axis = 1)\n",
    "df = df.drop('romantic', axis = 1)\n",
    "df = df.drop('reason', axis = 1)\n",
    "df = df.drop('guardian', axis = 1)\n",
    "df = df.drop('Mjob', axis = 1)\n",
    "df = df.drop('Fjob', axis = 1)"
   ]
  },
  {
   "cell_type": "code",
   "execution_count": 41,
   "metadata": {},
   "outputs": [
    {
     "data": {
      "text/plain": [
       "Index(['age', 'Medu', 'Fedu', 'traveltime', 'studytime', 'failures', 'famrel',\n",
       "       'freetime', 'goout', 'Dalc', 'Walc', 'health', 'absences', 'G1', 'G2',\n",
       "       'G3', 'b_school', 'b_sex', 'b_address', 'b_famsize', 'b_Pstatus',\n",
       "       'b_schoolsup', 'b_famsup', 'b_paid', 'b_activities', 'b_nursery',\n",
       "       'b_higher', 'b_internet', 'b_romantic', 'c_reason', 'c_guardian',\n",
       "       'c_Mjob', 'c_Fjob'],\n",
       "      dtype='object')"
      ]
     },
     "execution_count": 41,
     "metadata": {},
     "output_type": "execute_result"
    }
   ],
   "source": [
    "df.columns"
   ]
  },
  {
   "cell_type": "code",
   "execution_count": 42,
   "metadata": {},
   "outputs": [
    {
     "data": {
      "text/html": [
       "<div>\n",
       "<style scoped>\n",
       "    .dataframe tbody tr th:only-of-type {\n",
       "        vertical-align: middle;\n",
       "    }\n",
       "\n",
       "    .dataframe tbody tr th {\n",
       "        vertical-align: top;\n",
       "    }\n",
       "\n",
       "    .dataframe thead th {\n",
       "        text-align: right;\n",
       "    }\n",
       "</style>\n",
       "<table border=\"1\" class=\"dataframe\">\n",
       "  <thead>\n",
       "    <tr style=\"text-align: right;\">\n",
       "      <th></th>\n",
       "      <th>age</th>\n",
       "      <th>Medu</th>\n",
       "      <th>Fedu</th>\n",
       "      <th>traveltime</th>\n",
       "      <th>studytime</th>\n",
       "      <th>failures</th>\n",
       "      <th>famrel</th>\n",
       "      <th>freetime</th>\n",
       "      <th>goout</th>\n",
       "      <th>Dalc</th>\n",
       "      <th>...</th>\n",
       "      <th>b_paid</th>\n",
       "      <th>b_activities</th>\n",
       "      <th>b_nursery</th>\n",
       "      <th>b_higher</th>\n",
       "      <th>b_internet</th>\n",
       "      <th>b_romantic</th>\n",
       "      <th>c_reason</th>\n",
       "      <th>c_guardian</th>\n",
       "      <th>c_Mjob</th>\n",
       "      <th>c_Fjob</th>\n",
       "    </tr>\n",
       "  </thead>\n",
       "  <tbody>\n",
       "    <tr>\n",
       "      <th>92</th>\n",
       "      <td>16.0</td>\n",
       "      <td>3.0</td>\n",
       "      <td>1.0</td>\n",
       "      <td>1.0</td>\n",
       "      <td>2.0</td>\n",
       "      <td>0.0</td>\n",
       "      <td>3.0</td>\n",
       "      <td>3.0</td>\n",
       "      <td>3.0</td>\n",
       "      <td>2.0</td>\n",
       "      <td>...</td>\n",
       "      <td>0</td>\n",
       "      <td>1</td>\n",
       "      <td>0</td>\n",
       "      <td>0</td>\n",
       "      <td>1</td>\n",
       "      <td>0</td>\n",
       "      <td>1.0</td>\n",
       "      <td>1.0</td>\n",
       "      <td>NaN</td>\n",
       "      <td>0</td>\n",
       "    </tr>\n",
       "    <tr>\n",
       "      <th>344</th>\n",
       "      <td>18.0</td>\n",
       "      <td>2.0</td>\n",
       "      <td>3.0</td>\n",
       "      <td>1.0</td>\n",
       "      <td>3.0</td>\n",
       "      <td>0.0</td>\n",
       "      <td>4.0</td>\n",
       "      <td>3.0</td>\n",
       "      <td>3.0</td>\n",
       "      <td>1.0</td>\n",
       "      <td>...</td>\n",
       "      <td>0</td>\n",
       "      <td>1</td>\n",
       "      <td>0</td>\n",
       "      <td>0</td>\n",
       "      <td>0</td>\n",
       "      <td>0</td>\n",
       "      <td>0.0</td>\n",
       "      <td>NaN</td>\n",
       "      <td>2.0</td>\n",
       "      <td>0</td>\n",
       "    </tr>\n",
       "    <tr>\n",
       "      <th>296</th>\n",
       "      <td>19.0</td>\n",
       "      <td>4.0</td>\n",
       "      <td>4.0</td>\n",
       "      <td>2.0</td>\n",
       "      <td>2.0</td>\n",
       "      <td>0.0</td>\n",
       "      <td>2.0</td>\n",
       "      <td>3.0</td>\n",
       "      <td>4.0</td>\n",
       "      <td>2.0</td>\n",
       "      <td>...</td>\n",
       "      <td>1</td>\n",
       "      <td>0</td>\n",
       "      <td>0</td>\n",
       "      <td>0</td>\n",
       "      <td>0</td>\n",
       "      <td>0</td>\n",
       "      <td>2.0</td>\n",
       "      <td>2.0</td>\n",
       "      <td>4.0</td>\n",
       "      <td>0</td>\n",
       "    </tr>\n",
       "    <tr>\n",
       "      <th>197</th>\n",
       "      <td>16.0</td>\n",
       "      <td>3.0</td>\n",
       "      <td>3.0</td>\n",
       "      <td>3.0</td>\n",
       "      <td>1.0</td>\n",
       "      <td>0.0</td>\n",
       "      <td>3.0</td>\n",
       "      <td>3.0</td>\n",
       "      <td>4.0</td>\n",
       "      <td>3.0</td>\n",
       "      <td>...</td>\n",
       "      <td>1</td>\n",
       "      <td>0</td>\n",
       "      <td>0</td>\n",
       "      <td>0</td>\n",
       "      <td>0</td>\n",
       "      <td>0</td>\n",
       "      <td>1.0</td>\n",
       "      <td>1.0</td>\n",
       "      <td>3.0</td>\n",
       "      <td>0</td>\n",
       "    </tr>\n",
       "    <tr>\n",
       "      <th>8</th>\n",
       "      <td>15.0</td>\n",
       "      <td>3.0</td>\n",
       "      <td>2.0</td>\n",
       "      <td>1.0</td>\n",
       "      <td>2.0</td>\n",
       "      <td>0.0</td>\n",
       "      <td>4.0</td>\n",
       "      <td>2.0</td>\n",
       "      <td>2.0</td>\n",
       "      <td>1.0</td>\n",
       "      <td>...</td>\n",
       "      <td>1</td>\n",
       "      <td>1</td>\n",
       "      <td>0</td>\n",
       "      <td>0</td>\n",
       "      <td>0</td>\n",
       "      <td>0</td>\n",
       "      <td>1.0</td>\n",
       "      <td>0.0</td>\n",
       "      <td>1.0</td>\n",
       "      <td>0</td>\n",
       "    </tr>\n",
       "  </tbody>\n",
       "</table>\n",
       "<p>5 rows × 33 columns</p>\n",
       "</div>"
      ],
      "text/plain": [
       "      age  Medu  Fedu  traveltime  studytime  failures  famrel  freetime  \\\n",
       "92   16.0   3.0   1.0         1.0        2.0       0.0     3.0       3.0   \n",
       "344  18.0   2.0   3.0         1.0        3.0       0.0     4.0       3.0   \n",
       "296  19.0   4.0   4.0         2.0        2.0       0.0     2.0       3.0   \n",
       "197  16.0   3.0   3.0         3.0        1.0       0.0     3.0       3.0   \n",
       "8    15.0   3.0   2.0         1.0        2.0       0.0     4.0       2.0   \n",
       "\n",
       "     goout  Dalc  ...  b_paid  b_activities  b_nursery  b_higher  b_internet  \\\n",
       "92     3.0   2.0  ...       0             1          0         0           1   \n",
       "344    3.0   1.0  ...       0             1          0         0           0   \n",
       "296    4.0   2.0  ...       1             0          0         0           0   \n",
       "197    4.0   3.0  ...       1             0          0         0           0   \n",
       "8      2.0   1.0  ...       1             1          0         0           0   \n",
       "\n",
       "     b_romantic  c_reason  c_guardian  c_Mjob  c_Fjob  \n",
       "92            0       1.0         1.0     NaN       0  \n",
       "344           0       0.0         NaN     2.0       0  \n",
       "296           0       2.0         2.0     4.0       0  \n",
       "197           0       1.0         1.0     3.0       0  \n",
       "8             0       1.0         0.0     1.0       0  \n",
       "\n",
       "[5 rows x 33 columns]"
      ]
     },
     "execution_count": 42,
     "metadata": {},
     "output_type": "execute_result"
    }
   ],
   "source": [
    "#Revisamos que todo este en orden\n",
    "df.sample(5)"
   ]
  },
  {
   "cell_type": "markdown",
   "metadata": {},
   "source": [
    "# Hito 2\n",
    "Completar el punto de Descripción.\n",
    "* Elementos a considerar en éste hito:\n",
    "    * La inspección visual del vector objetivo. (2 puntos)\n",
    "    * La inspección visual de las variables. (2 puntos)\n",
    "    * La inspección de datos perdidos en las variables. (1 punto)\n",
    "    * De ser necesario, se puede iterar en el proceso de preprocesamiento y recodificación de las variables\n",
    "* Entregable:  Dos notebooks (uno  por  enunciado) con todos los  puntos detallados einterpretados. De  ser  necesario, un  archivo con  extensión .py  con  todas las  funcionesimplementadas."
   ]
  },
  {
   "cell_type": "markdown",
   "metadata": {},
   "source": [
    "# Variable de los vectores objetivos"
   ]
  },
  {
   "cell_type": "code",
   "execution_count": 43,
   "metadata": {},
   "outputs": [
    {
     "data": {
      "image/png": "[encoded data removed]",
      "text/plain": [
       "<Figure size 720x432 with 3 Axes>"
      ]
     },
     "metadata": {
      "needs_background": "light"
     },
     "output_type": "display_data"
    }
   ],
   "source": [
    "utils.visualize_rows(df.filter(['G1', 'G2', 'G3']))"
   ]
  },
  {
   "cell_type": "markdown",
   "metadata": {},
   "source": [
    "**conclusiones:** \n",
    "Utilizamos los gráficos de histograma porque tenemos que los vectores son variables continuas.\n",
    "* En el gráfico de `G1` nos muestra que tiene una tendecia a la normal.\n",
    "* En el gráfico de `G2` nos muestra que el tiene una forma que se que parece a la normal, esto se debe a que hubo muchos 0 en la segunda prueba.\n",
    "* En el gráfico de `G2` nos muestra que tiene una forma bimodal."
   ]
  },
  {
   "cell_type": "markdown",
   "metadata": {},
   "source": [
    "## Variables binarias\n",
    "**conclusiones:** Para el análisis de variables binariaz usamos histogramas, esto se debe a que las variables binarias son discretas. <br>\n",
    "También revisamos con 'missigno.matrix(df_escolar)' para ver si eliminar los elementos 'Nan' son significativos, pero revisando la matriz no consideramos que sea significativa la perdida de los valores 'Nan'. "
   ]
  },
  {
   "cell_type": "code",
   "execution_count": 44,
   "metadata": {},
   "outputs": [
    {
     "data": {
      "text/plain": [
       "<matplotlib.axes._subplots.AxesSubplot at 0x7f8f8eb7e0b8>"
      ]
     },
     "execution_count": 44,
     "metadata": {},
     "output_type": "execute_result"
    },
    {
     "data": {
      "image/png": "[encoded data removed]",
      "text/plain": [
       "<Figure size 1800x720 with 2 Axes>"
      ]
     },
     "metadata": {
      "needs_background": "light"
     },
     "output_type": "display_data"
    }
   ],
   "source": [
    "missingno.matrix(df)"
   ]
  },
  {
   "cell_type": "code",
   "execution_count": 45,
   "metadata": {},
   "outputs": [
    {
     "data": {
      "text/plain": [
       "<Figure size 720x432 with 0 Axes>"
      ]
     },
     "metadata": {},
     "output_type": "display_data"
    }
   ],
   "source": [
    "utils.visualize_rows(df.filter(['school', 'sex', 'address']))"
   ]
  },
  {
   "cell_type": "code",
   "execution_count": 46,
   "metadata": {},
   "outputs": [
    {
     "data": {
      "text/plain": [
       "<Figure size 720x432 with 0 Axes>"
      ]
     },
     "metadata": {},
     "output_type": "display_data"
    }
   ],
   "source": [
    "utils.visualize_rows(df.filter(['famsize', 'Pstatus', 'schoolsup']))"
   ]
  },
  {
   "cell_type": "code",
   "execution_count": 47,
   "metadata": {},
   "outputs": [
    {
     "data": {
      "text/plain": [
       "<Figure size 720x432 with 0 Axes>"
      ]
     },
     "metadata": {},
     "output_type": "display_data"
    }
   ],
   "source": [
    "utils.visualize_rows(df.filter(['nursery', 'higher', 'internet']))"
   ]
  },
  {
   "cell_type": "code",
   "execution_count": 48,
   "metadata": {},
   "outputs": [
    {
     "data": {
      "text/plain": [
       "<Figure size 720x432 with 0 Axes>"
      ]
     },
     "metadata": {},
     "output_type": "display_data"
    }
   ],
   "source": [
    "utils.visualize_rows(df.filter(['romantic']))"
   ]
  },
  {
   "cell_type": "markdown",
   "metadata": {},
   "source": [
    "## Variables categoricas\n",
    "**conclusiones:** Para el análisis de variables categoricas usamos histogramas, esto se debe a que las variables categoricas pueden tomar valores discretos. <br>\n",
    "También revisamos con 'missigno.matrix(df_escolar)' para ver si al eliminar los elementos 'NaN' provocamos un cambio significativos, pero revisando la matriz no consideramos que el eliminar los datos 'NaN' por columna sea significativa la perdida de los valores 'NaN'. "
   ]
  },
  {
   "cell_type": "code",
   "execution_count": 49,
   "metadata": {},
   "outputs": [
    {
     "data": {
      "text/plain": [
       "<matplotlib.axes._subplots.AxesSubplot at 0x7f8f8ed5b518>"
      ]
     },
     "execution_count": 49,
     "metadata": {},
     "output_type": "execute_result"
    },
    {
     "data": {
      "image/png": "[encoded data removed]",
      "text/plain": [
       "<Figure size 1800x720 with 2 Axes>"
      ]
     },
     "metadata": {
      "needs_background": "light"
     },
     "output_type": "display_data"
    }
   ],
   "source": [
    "missingno.matrix(df)"
   ]
  },
  {
   "cell_type": "code",
   "execution_count": 50,
   "metadata": {},
   "outputs": [
    {
     "data": {
      "text/plain": [
       "<Figure size 720x432 with 0 Axes>"
      ]
     },
     "metadata": {},
     "output_type": "display_data"
    }
   ],
   "source": [
    "utils.visualize_rows(df.filter(['Mjob', 'Fjob']))"
   ]
  },
  {
   "cell_type": "code",
   "execution_count": 51,
   "metadata": {},
   "outputs": [
    {
     "data": {
      "text/plain": [
       "<Figure size 720x432 with 0 Axes>"
      ]
     },
     "metadata": {},
     "output_type": "display_data"
    }
   ],
   "source": [
    "utils.visualize_rows(df.filter(['reason', 'guardian']))"
   ]
  },
  {
   "cell_type": "markdown",
   "metadata": {},
   "source": [
    "# Hito 3\n",
    "Completar el punto de **Modelación descriptiva** .\n",
    "* Elementos a considerar en éste hito:\n",
    "     * La modelación mediante regresión de ambos problemas. (2 puntos)\n",
    "     * La interpretación de los principales regresores en cada problema. (2 puntos)\n",
    "     * La definición de las estrategias de Modelación predictiva. (1 punto)"
   ]
  },
  {
   "cell_type": "markdown",
   "metadata": {},
   "source": [
    "Preparamos la regresión para variables binariaz, lo primero es graficar con boxplot para ver si hay algina relación en la que el eje Y es nuestra variable dependiente, en este caso 'G3' y las variables independientes iran en el eje X\n",
    "* Lo primero es comprobar si la variable tiene una forma de normal"
   ]
  },
  {
   "cell_type": "code",
   "execution_count": 52,
   "metadata": {},
   "outputs": [
    {
     "data": {
      "text/plain": [
       "<matplotlib.lines.Line2D at 0x7f8f8ebe1668>"
      ]
     },
     "execution_count": 52,
     "metadata": {},
     "output_type": "execute_result"
    },
    {
     "data": {
      "image/png": "[encoded data removed]",
      "text/plain": [
       "<Figure size 720x432 with 1 Axes>"
      ]
     },
     "metadata": {
      "needs_background": "light"
     },
     "output_type": "display_data"
    }
   ],
   "source": [
    "sns.distplot(df['G3'].dropna())\n",
    "dfm = df['G3'].mean()\n",
    "plt.title('Curvatura de la variable dependiente')\n",
    "plt.axvline(dfm, color = 'green')"
   ]
  },
  {
   "cell_type": "markdown",
   "metadata": {},
   "source": [
    "* Al ver el gráfico se puede concluir que el modelo tiende a la normal, ya que tiene una forma similar a la de una campana y el promedio es casi igual a la moda.\n",
    "* Para comprobar la normalidad utilizamos los gráficos 'QQ' para ver como se posicionan los datos con respecto a la recta"
   ]
  },
  {
   "cell_type": "code",
   "execution_count": 53,
   "metadata": {},
   "outputs": [
    {
     "data": {
      "image/png": "[encoded data removed]",
      "text/plain": [
       "<Figure size 720x432 with 1 Axes>"
      ]
     },
     "execution_count": 53,
     "metadata": {},
     "output_type": "execute_result"
    },
    {
     "data": {
      "image/png": "[encoded data removed]",
      "text/plain": [
       "<Figure size 720x432 with 1 Axes>"
      ]
     },
     "metadata": {
      "needs_background": "light"
     },
     "output_type": "display_data"
    }
   ],
   "source": [
    "sm.qqplot(df['G3'].dropna(),line = 'q')"
   ]
  },
  {
   "cell_type": "markdown",
   "metadata": {},
   "source": [
    "**Conclusión:** A partir del los análisis gráficos podemos decir que nuestra variable dependiente `G3` tiende a la normal.\n",
    "\n",
    "* A continuación realizaremos un análisis descriptivo de la regresión lineal y su respectiva interpretación."
   ]
  },
  {
   "cell_type": "markdown",
   "metadata": {},
   "source": [
    "+ Definimos como intervalos de confianza un 90%, por lo tanto todas las variables que tengan un '**P > |t|**' que sea muy mayor a 0,05 seran eliminadas, con excepción de las variables sean mayores a 0,05 pero no mayores a 0,06."
   ]
  },
  {
   "cell_type": "code",
   "execution_count": 54,
   "metadata": {},
   "outputs": [
    {
     "data": {
      "text/html": [
       "<table class=\"simpletable\">\n",
       "<caption>OLS Regression Results</caption>\n",
       "<tr>\n",
       "  <th>Dep. Variable:</th>           <td>G3</td>        <th>  R-squared:         </th> <td>   0.274</td>\n",
       "</tr>\n",
       "<tr>\n",
       "  <th>Model:</th>                   <td>OLS</td>       <th>  Adj. R-squared:    </th> <td>   0.196</td>\n",
       "</tr>\n",
       "<tr>\n",
       "  <th>Method:</th>             <td>Least Squares</td>  <th>  F-statistic:       </th> <td>   3.489</td>\n",
       "</tr>\n",
       "<tr>\n",
       "  <th>Date:</th>             <td>Sat, 14 Sep 2019</td> <th>  Prob (F-statistic):</th> <td>3.63e-08</td>\n",
       "</tr>\n",
       "<tr>\n",
       "  <th>Time:</th>                 <td>18:04:49</td>     <th>  Log-Likelihood:    </th> <td> -725.43</td>\n",
       "</tr>\n",
       "<tr>\n",
       "  <th>No. Observations:</th>      <td>   298</td>      <th>  AIC:               </th> <td>   1511.</td>\n",
       "</tr>\n",
       "<tr>\n",
       "  <th>Df Residuals:</th>          <td>   268</td>      <th>  BIC:               </th> <td>   1622.</td>\n",
       "</tr>\n",
       "<tr>\n",
       "  <th>Df Model:</th>              <td>    29</td>      <th>                     </th>     <td> </td>   \n",
       "</tr>\n",
       "<tr>\n",
       "  <th>Covariance Type:</th>      <td>nonrobust</td>    <th>                     </th>     <td> </td>   \n",
       "</tr>\n",
       "</table>\n",
       "<table class=\"simpletable\">\n",
       "<tr>\n",
       "        <td></td>          <th>coef</th>     <th>std err</th>      <th>t</th>      <th>P>|t|</th>  <th>[0.025</th>    <th>0.975]</th>  \n",
       "</tr>\n",
       "<tr>\n",
       "  <th>Intercept</th>    <td>   11.8882</td> <td>    3.110</td> <td>    3.823</td> <td> 0.000</td> <td>    5.766</td> <td>   18.010</td>\n",
       "</tr>\n",
       "<tr>\n",
       "  <th>age</th>          <td>   -0.0090</td> <td>    0.174</td> <td>   -0.052</td> <td> 0.959</td> <td>   -0.352</td> <td>    0.334</td>\n",
       "</tr>\n",
       "<tr>\n",
       "  <th>Medu</th>         <td>    0.3074</td> <td>    0.231</td> <td>    1.328</td> <td> 0.185</td> <td>   -0.148</td> <td>    0.763</td>\n",
       "</tr>\n",
       "<tr>\n",
       "  <th>Fedu</th>         <td>    0.0921</td> <td>    0.219</td> <td>    0.420</td> <td> 0.675</td> <td>   -0.340</td> <td>    0.524</td>\n",
       "</tr>\n",
       "<tr>\n",
       "  <th>traveltime</th>   <td>    0.0796</td> <td>    0.284</td> <td>    0.280</td> <td> 0.780</td> <td>   -0.480</td> <td>    0.639</td>\n",
       "</tr>\n",
       "<tr>\n",
       "  <th>studytime</th>    <td>    0.3750</td> <td>    0.237</td> <td>    1.581</td> <td> 0.115</td> <td>   -0.092</td> <td>    0.842</td>\n",
       "</tr>\n",
       "<tr>\n",
       "  <th>failures</th>     <td>   -0.8218</td> <td>    0.300</td> <td>   -2.737</td> <td> 0.007</td> <td>   -1.413</td> <td>   -0.231</td>\n",
       "</tr>\n",
       "<tr>\n",
       "  <th>famrel</th>       <td>    0.1635</td> <td>    0.204</td> <td>    0.802</td> <td> 0.424</td> <td>   -0.238</td> <td>    0.565</td>\n",
       "</tr>\n",
       "<tr>\n",
       "  <th>freetime</th>     <td>    0.0451</td> <td>    0.184</td> <td>    0.245</td> <td> 0.806</td> <td>   -0.317</td> <td>    0.407</td>\n",
       "</tr>\n",
       "<tr>\n",
       "  <th>goout</th>        <td>   -0.5786</td> <td>    0.189</td> <td>   -3.056</td> <td> 0.002</td> <td>   -0.951</td> <td>   -0.206</td>\n",
       "</tr>\n",
       "<tr>\n",
       "  <th>Dalc</th>         <td>    0.0062</td> <td>    0.268</td> <td>    0.023</td> <td> 0.982</td> <td>   -0.521</td> <td>    0.533</td>\n",
       "</tr>\n",
       "<tr>\n",
       "  <th>Walc</th>         <td>   -0.0953</td> <td>    0.201</td> <td>   -0.475</td> <td> 0.635</td> <td>   -0.490</td> <td>    0.300</td>\n",
       "</tr>\n",
       "<tr>\n",
       "  <th>health</th>       <td>   -0.2191</td> <td>    0.129</td> <td>   -1.699</td> <td> 0.090</td> <td>   -0.473</td> <td>    0.035</td>\n",
       "</tr>\n",
       "<tr>\n",
       "  <th>absences</th>     <td>   -0.0669</td> <td>    0.022</td> <td>   -3.024</td> <td> 0.003</td> <td>   -0.110</td> <td>   -0.023</td>\n",
       "</tr>\n",
       "<tr>\n",
       "  <th>b_school</th>     <td>   -0.6010</td> <td>    0.610</td> <td>   -0.985</td> <td> 0.326</td> <td>   -1.802</td> <td>    0.600</td>\n",
       "</tr>\n",
       "<tr>\n",
       "  <th>b_sex</th>        <td>    0.4624</td> <td>    0.404</td> <td>    1.144</td> <td> 0.254</td> <td>   -0.333</td> <td>    1.258</td>\n",
       "</tr>\n",
       "<tr>\n",
       "  <th>b_address</th>    <td>   -0.5638</td> <td>    0.473</td> <td>   -1.193</td> <td> 0.234</td> <td>   -1.494</td> <td>    0.367</td>\n",
       "</tr>\n",
       "<tr>\n",
       "  <th>b_famsize</th>    <td>    0.4258</td> <td>    0.403</td> <td>    1.057</td> <td> 0.291</td> <td>   -0.367</td> <td>    1.219</td>\n",
       "</tr>\n",
       "<tr>\n",
       "  <th>b_Pstatus</th>    <td>    0.2329</td> <td>    0.572</td> <td>    0.407</td> <td> 0.684</td> <td>   -0.893</td> <td>    1.359</td>\n",
       "</tr>\n",
       "<tr>\n",
       "  <th>b_schoolsup</th>  <td>   -1.4793</td> <td>    0.490</td> <td>   -3.020</td> <td> 0.003</td> <td>   -2.444</td> <td>   -0.515</td>\n",
       "</tr>\n",
       "<tr>\n",
       "  <th>b_famsup</th>     <td>    0.6043</td> <td>    0.391</td> <td>    1.545</td> <td> 0.124</td> <td>   -0.166</td> <td>    1.374</td>\n",
       "</tr>\n",
       "<tr>\n",
       "  <th>b_paid</th>       <td>   -0.5801</td> <td>    0.380</td> <td>   -1.525</td> <td> 0.128</td> <td>   -1.329</td> <td>    0.169</td>\n",
       "</tr>\n",
       "<tr>\n",
       "  <th>b_activities</th> <td>    0.2822</td> <td>    0.364</td> <td>    0.776</td> <td> 0.438</td> <td>   -0.434</td> <td>    0.998</td>\n",
       "</tr>\n",
       "<tr>\n",
       "  <th>b_nursery</th>    <td>    0.2750</td> <td>    0.440</td> <td>    0.625</td> <td> 0.532</td> <td>   -0.591</td> <td>    1.141</td>\n",
       "</tr>\n",
       "<tr>\n",
       "  <th>b_higher</th>     <td>   -0.8525</td> <td>    0.780</td> <td>   -1.093</td> <td> 0.275</td> <td>   -2.388</td> <td>    0.682</td>\n",
       "</tr>\n",
       "<tr>\n",
       "  <th>b_internet</th>   <td>   -0.5490</td> <td>    0.480</td> <td>   -1.145</td> <td> 0.253</td> <td>   -1.493</td> <td>    0.395</td>\n",
       "</tr>\n",
       "<tr>\n",
       "  <th>c_reason</th>     <td>    0.1332</td> <td>    0.177</td> <td>    0.751</td> <td> 0.453</td> <td>   -0.216</td> <td>    0.483</td>\n",
       "</tr>\n",
       "<tr>\n",
       "  <th>c_guardian</th>   <td>    0.0105</td> <td>    0.314</td> <td>    0.033</td> <td> 0.973</td> <td>   -0.608</td> <td>    0.629</td>\n",
       "</tr>\n",
       "<tr>\n",
       "  <th>c_Mjob</th>       <td>    0.1359</td> <td>    0.150</td> <td>    0.908</td> <td> 0.365</td> <td>   -0.159</td> <td>    0.430</td>\n",
       "</tr>\n",
       "<tr>\n",
       "  <th>c_Fjob</th>       <td>    0.1517</td> <td>    0.178</td> <td>    0.851</td> <td> 0.395</td> <td>   -0.199</td> <td>    0.503</td>\n",
       "</tr>\n",
       "</table>\n",
       "<table class=\"simpletable\">\n",
       "<tr>\n",
       "  <th>Omnibus:</th>       <td> 2.229</td> <th>  Durbin-Watson:     </th> <td>   2.111</td>\n",
       "</tr>\n",
       "<tr>\n",
       "  <th>Prob(Omnibus):</th> <td> 0.328</td> <th>  Jarque-Bera (JB):  </th> <td>   2.301</td>\n",
       "</tr>\n",
       "<tr>\n",
       "  <th>Skew:</th>          <td> 0.202</td> <th>  Prob(JB):          </th> <td>   0.317</td>\n",
       "</tr>\n",
       "<tr>\n",
       "  <th>Kurtosis:</th>      <td> 2.851</td> <th>  Cond. No.          </th> <td>    376.</td>\n",
       "</tr>\n",
       "</table><br/><br/>Warnings:<br/>[1] Standard Errors assume that the covariance matrix of the errors is correctly specified."
      ],
      "text/plain": [
       "<class 'statsmodels.iolib.summary.Summary'>\n",
       "\"\"\"\n",
       "                            OLS Regression Results                            \n",
       "==============================================================================\n",
       "Dep. Variable:                     G3   R-squared:                       0.274\n",
       "Model:                            OLS   Adj. R-squared:                  0.196\n",
       "Method:                 Least Squares   F-statistic:                     3.489\n",
       "Date:                Sat, 14 Sep 2019   Prob (F-statistic):           3.63e-08\n",
       "Time:                        18:04:49   Log-Likelihood:                -725.43\n",
       "No. Observations:                 298   AIC:                             1511.\n",
       "Df Residuals:                     268   BIC:                             1622.\n",
       "Df Model:                          29                                         \n",
       "Covariance Type:            nonrobust                                         \n",
       "================================================================================\n",
       "                   coef    std err          t      P>|t|      [0.025      0.975]\n",
       "--------------------------------------------------------------------------------\n",
       "Intercept       11.8882      3.110      3.823      0.000       5.766      18.010\n",
       "age             -0.0090      0.174     -0.052      0.959      -0.352       0.334\n",
       "Medu             0.3074      0.231      1.328      0.185      -0.148       0.763\n",
       "Fedu             0.0921      0.219      0.420      0.675      -0.340       0.524\n",
       "traveltime       0.0796      0.284      0.280      0.780      -0.480       0.639\n",
       "studytime        0.3750      0.237      1.581      0.115      -0.092       0.842\n",
       "failures        -0.8218      0.300     -2.737      0.007      -1.413      -0.231\n",
       "famrel           0.1635      0.204      0.802      0.424      -0.238       0.565\n",
       "freetime         0.0451      0.184      0.245      0.806      -0.317       0.407\n",
       "goout           -0.5786      0.189     -3.056      0.002      -0.951      -0.206\n",
       "Dalc             0.0062      0.268      0.023      0.982      -0.521       0.533\n",
       "Walc            -0.0953      0.201     -0.475      0.635      -0.490       0.300\n",
       "health          -0.2191      0.129     -1.699      0.090      -0.473       0.035\n",
       "absences        -0.0669      0.022     -3.024      0.003      -0.110      -0.023\n",
       "b_school        -0.6010      0.610     -0.985      0.326      -1.802       0.600\n",
       "b_sex            0.4624      0.404      1.144      0.254      -0.333       1.258\n",
       "b_address       -0.5638      0.473     -1.193      0.234      -1.494       0.367\n",
       "b_famsize        0.4258      0.403      1.057      0.291      -0.367       1.219\n",
       "b_Pstatus        0.2329      0.572      0.407      0.684      -0.893       1.359\n",
       "b_schoolsup     -1.4793      0.490     -3.020      0.003      -2.444      -0.515\n",
       "b_famsup         0.6043      0.391      1.545      0.124      -0.166       1.374\n",
       "b_paid          -0.5801      0.380     -1.525      0.128      -1.329       0.169\n",
       "b_activities     0.2822      0.364      0.776      0.438      -0.434       0.998\n",
       "b_nursery        0.2750      0.440      0.625      0.532      -0.591       1.141\n",
       "b_higher        -0.8525      0.780     -1.093      0.275      -2.388       0.682\n",
       "b_internet      -0.5490      0.480     -1.145      0.253      -1.493       0.395\n",
       "c_reason         0.1332      0.177      0.751      0.453      -0.216       0.483\n",
       "c_guardian       0.0105      0.314      0.033      0.973      -0.608       0.629\n",
       "c_Mjob           0.1359      0.150      0.908      0.365      -0.159       0.430\n",
       "c_Fjob           0.1517      0.178      0.851      0.395      -0.199       0.503\n",
       "==============================================================================\n",
       "Omnibus:                        2.229   Durbin-Watson:                   2.111\n",
       "Prob(Omnibus):                  0.328   Jarque-Bera (JB):                2.301\n",
       "Skew:                           0.202   Prob(JB):                        0.317\n",
       "Kurtosis:                       2.851   Cond. No.                         376.\n",
       "==============================================================================\n",
       "\n",
       "Warnings:\n",
       "[1] Standard Errors assume that the covariance matrix of the errors is correctly specified.\n",
       "\"\"\""
      ]
     },
     "execution_count": 54,
     "metadata": {},
     "output_type": "execute_result"
    }
   ],
   "source": [
    "#Asignamos la función de regresión a la variable 'modelo'\n",
    "modelo = smf.ols('G3 ~ age + Medu + Fedu + traveltime + studytime + failures + famrel + freetime + goout + Dalc + Walc + health + absences + b_school +b_sex + b_address + b_famsize + b_Pstatus + b_schoolsup + b_famsup + b_paid + b_activities + b_nursery + b_higher + b_internet + c_reason + c_guardian + c_Mjob + c_Fjob ', data = df)\n",
    "#Con la función 'fit' se infieren los parametro del modelo y el intercepto\n",
    "modelo = modelo.fit()\n",
    "modelo.summary()"
   ]
  },
  {
   "cell_type": "markdown",
   "metadata": {},
   "source": [
    "* Como el regresor tiene muchas variables que estan fuera de el intervalo de cofianza se eliminaran las 4 con mayor '**P > |t|**' y se repetira el proceso hasta que todas las variables esten dentro de la zona "
   ]
  },
  {
   "cell_type": "code",
   "execution_count": 55,
   "metadata": {
    "scrolled": false
   },
   "outputs": [
    {
     "data": {
      "text/html": [
       "<table class=\"simpletable\">\n",
       "<caption>OLS Regression Results</caption>\n",
       "<tr>\n",
       "  <th>Dep. Variable:</th>           <td>G3</td>        <th>  R-squared:         </th> <td>   0.276</td>\n",
       "</tr>\n",
       "<tr>\n",
       "  <th>Model:</th>                   <td>OLS</td>       <th>  Adj. R-squared:    </th> <td>   0.212</td>\n",
       "</tr>\n",
       "<tr>\n",
       "  <th>Method:</th>             <td>Least Squares</td>  <th>  F-statistic:       </th> <td>   4.308</td>\n",
       "</tr>\n",
       "<tr>\n",
       "  <th>Date:</th>             <td>Sat, 14 Sep 2019</td> <th>  Prob (F-statistic):</th> <td>4.55e-10</td>\n",
       "</tr>\n",
       "<tr>\n",
       "  <th>Time:</th>                 <td>18:04:49</td>     <th>  Log-Likelihood:    </th> <td> -751.73</td>\n",
       "</tr>\n",
       "<tr>\n",
       "  <th>No. Observations:</th>      <td>   309</td>      <th>  AIC:               </th> <td>   1555.</td>\n",
       "</tr>\n",
       "<tr>\n",
       "  <th>Df Residuals:</th>          <td>   283</td>      <th>  BIC:               </th> <td>   1653.</td>\n",
       "</tr>\n",
       "<tr>\n",
       "  <th>Df Model:</th>              <td>    25</td>      <th>                     </th>     <td> </td>   \n",
       "</tr>\n",
       "<tr>\n",
       "  <th>Covariance Type:</th>      <td>nonrobust</td>    <th>                     </th>     <td> </td>   \n",
       "</tr>\n",
       "</table>\n",
       "<table class=\"simpletable\">\n",
       "<tr>\n",
       "        <td></td>          <th>coef</th>     <th>std err</th>      <th>t</th>      <th>P>|t|</th>  <th>[0.025</th>    <th>0.975]</th>  \n",
       "</tr>\n",
       "<tr>\n",
       "  <th>Intercept</th>    <td>   12.0944</td> <td>    1.443</td> <td>    8.380</td> <td> 0.000</td> <td>    9.254</td> <td>   14.935</td>\n",
       "</tr>\n",
       "<tr>\n",
       "  <th>Medu</th>         <td>    0.3044</td> <td>    0.216</td> <td>    1.406</td> <td> 0.161</td> <td>   -0.122</td> <td>    0.731</td>\n",
       "</tr>\n",
       "<tr>\n",
       "  <th>Fedu</th>         <td>    0.0836</td> <td>    0.210</td> <td>    0.398</td> <td> 0.691</td> <td>   -0.330</td> <td>    0.497</td>\n",
       "</tr>\n",
       "<tr>\n",
       "  <th>traveltime</th>   <td>    0.0532</td> <td>    0.276</td> <td>    0.193</td> <td> 0.847</td> <td>   -0.490</td> <td>    0.596</td>\n",
       "</tr>\n",
       "<tr>\n",
       "  <th>studytime</th>    <td>    0.3659</td> <td>    0.225</td> <td>    1.629</td> <td> 0.104</td> <td>   -0.076</td> <td>    0.808</td>\n",
       "</tr>\n",
       "<tr>\n",
       "  <th>failures</th>     <td>   -0.8323</td> <td>    0.280</td> <td>   -2.975</td> <td> 0.003</td> <td>   -1.383</td> <td>   -0.282</td>\n",
       "</tr>\n",
       "<tr>\n",
       "  <th>famrel</th>       <td>    0.1264</td> <td>    0.194</td> <td>    0.651</td> <td> 0.516</td> <td>   -0.256</td> <td>    0.509</td>\n",
       "</tr>\n",
       "<tr>\n",
       "  <th>goout</th>        <td>   -0.5675</td> <td>    0.177</td> <td>   -3.198</td> <td> 0.002</td> <td>   -0.917</td> <td>   -0.218</td>\n",
       "</tr>\n",
       "<tr>\n",
       "  <th>Walc</th>         <td>   -0.1176</td> <td>    0.162</td> <td>   -0.724</td> <td> 0.470</td> <td>   -0.437</td> <td>    0.202</td>\n",
       "</tr>\n",
       "<tr>\n",
       "  <th>health</th>       <td>   -0.1973</td> <td>    0.126</td> <td>   -1.567</td> <td> 0.118</td> <td>   -0.445</td> <td>    0.051</td>\n",
       "</tr>\n",
       "<tr>\n",
       "  <th>absences</th>     <td>   -0.0669</td> <td>    0.021</td> <td>   -3.183</td> <td> 0.002</td> <td>   -0.108</td> <td>   -0.026</td>\n",
       "</tr>\n",
       "<tr>\n",
       "  <th>b_school</th>     <td>   -0.5240</td> <td>    0.548</td> <td>   -0.957</td> <td> 0.339</td> <td>   -1.602</td> <td>    0.554</td>\n",
       "</tr>\n",
       "<tr>\n",
       "  <th>b_sex</th>        <td>    0.5901</td> <td>    0.382</td> <td>    1.543</td> <td> 0.124</td> <td>   -0.163</td> <td>    1.343</td>\n",
       "</tr>\n",
       "<tr>\n",
       "  <th>b_address</th>    <td>   -0.5914</td> <td>    0.450</td> <td>   -1.313</td> <td> 0.190</td> <td>   -1.478</td> <td>    0.295</td>\n",
       "</tr>\n",
       "<tr>\n",
       "  <th>b_famsize</th>    <td>    0.5198</td> <td>    0.383</td> <td>    1.359</td> <td> 0.175</td> <td>   -0.233</td> <td>    1.273</td>\n",
       "</tr>\n",
       "<tr>\n",
       "  <th>b_Pstatus</th>    <td>    0.0808</td> <td>    0.556</td> <td>    0.145</td> <td> 0.884</td> <td>   -1.013</td> <td>    1.175</td>\n",
       "</tr>\n",
       "<tr>\n",
       "  <th>b_schoolsup</th>  <td>   -1.4969</td> <td>    0.459</td> <td>   -3.259</td> <td> 0.001</td> <td>   -2.401</td> <td>   -0.593</td>\n",
       "</tr>\n",
       "<tr>\n",
       "  <th>b_famsup</th>     <td>    0.4881</td> <td>    0.374</td> <td>    1.306</td> <td> 0.193</td> <td>   -0.248</td> <td>    1.224</td>\n",
       "</tr>\n",
       "<tr>\n",
       "  <th>b_paid</th>       <td>   -0.6562</td> <td>    0.367</td> <td>   -1.787</td> <td> 0.075</td> <td>   -1.379</td> <td>    0.066</td>\n",
       "</tr>\n",
       "<tr>\n",
       "  <th>b_activities</th> <td>    0.1886</td> <td>    0.351</td> <td>    0.538</td> <td> 0.591</td> <td>   -0.502</td> <td>    0.879</td>\n",
       "</tr>\n",
       "<tr>\n",
       "  <th>b_nursery</th>    <td>    0.3144</td> <td>    0.429</td> <td>    0.734</td> <td> 0.464</td> <td>   -0.529</td> <td>    1.158</td>\n",
       "</tr>\n",
       "<tr>\n",
       "  <th>b_higher</th>     <td>   -0.8492</td> <td>    0.763</td> <td>   -1.113</td> <td> 0.267</td> <td>   -2.351</td> <td>    0.653</td>\n",
       "</tr>\n",
       "<tr>\n",
       "  <th>b_internet</th>   <td>   -0.6353</td> <td>    0.453</td> <td>   -1.401</td> <td> 0.162</td> <td>   -1.528</td> <td>    0.257</td>\n",
       "</tr>\n",
       "<tr>\n",
       "  <th>c_reason</th>     <td>    0.1253</td> <td>    0.169</td> <td>    0.740</td> <td> 0.460</td> <td>   -0.208</td> <td>    0.459</td>\n",
       "</tr>\n",
       "<tr>\n",
       "  <th>c_Mjob</th>       <td>    0.1259</td> <td>    0.143</td> <td>    0.881</td> <td> 0.379</td> <td>   -0.155</td> <td>    0.407</td>\n",
       "</tr>\n",
       "<tr>\n",
       "  <th>c_Fjob</th>       <td>    0.2060</td> <td>    0.169</td> <td>    1.216</td> <td> 0.225</td> <td>   -0.127</td> <td>    0.540</td>\n",
       "</tr>\n",
       "</table>\n",
       "<table class=\"simpletable\">\n",
       "<tr>\n",
       "  <th>Omnibus:</th>       <td> 2.693</td> <th>  Durbin-Watson:     </th> <td>   2.092</td>\n",
       "</tr>\n",
       "<tr>\n",
       "  <th>Prob(Omnibus):</th> <td> 0.260</td> <th>  Jarque-Bera (JB):  </th> <td>   2.759</td>\n",
       "</tr>\n",
       "<tr>\n",
       "  <th>Skew:</th>          <td> 0.221</td> <th>  Prob(JB):          </th> <td>   0.252</td>\n",
       "</tr>\n",
       "<tr>\n",
       "  <th>Kurtosis:</th>      <td> 2.860</td> <th>  Cond. No.          </th> <td>    109.</td>\n",
       "</tr>\n",
       "</table><br/><br/>Warnings:<br/>[1] Standard Errors assume that the covariance matrix of the errors is correctly specified."
      ],
      "text/plain": [
       "<class 'statsmodels.iolib.summary.Summary'>\n",
       "\"\"\"\n",
       "                            OLS Regression Results                            \n",
       "==============================================================================\n",
       "Dep. Variable:                     G3   R-squared:                       0.276\n",
       "Model:                            OLS   Adj. R-squared:                  0.212\n",
       "Method:                 Least Squares   F-statistic:                     4.308\n",
       "Date:                Sat, 14 Sep 2019   Prob (F-statistic):           4.55e-10\n",
       "Time:                        18:04:49   Log-Likelihood:                -751.73\n",
       "No. Observations:                 309   AIC:                             1555.\n",
       "Df Residuals:                     283   BIC:                             1653.\n",
       "Df Model:                          25                                         \n",
       "Covariance Type:            nonrobust                                         \n",
       "================================================================================\n",
       "                   coef    std err          t      P>|t|      [0.025      0.975]\n",
       "--------------------------------------------------------------------------------\n",
       "Intercept       12.0944      1.443      8.380      0.000       9.254      14.935\n",
       "Medu             0.3044      0.216      1.406      0.161      -0.122       0.731\n",
       "Fedu             0.0836      0.210      0.398      0.691      -0.330       0.497\n",
       "traveltime       0.0532      0.276      0.193      0.847      -0.490       0.596\n",
       "studytime        0.3659      0.225      1.629      0.104      -0.076       0.808\n",
       "failures        -0.8323      0.280     -2.975      0.003      -1.383      -0.282\n",
       "famrel           0.1264      0.194      0.651      0.516      -0.256       0.509\n",
       "goout           -0.5675      0.177     -3.198      0.002      -0.917      -0.218\n",
       "Walc            -0.1176      0.162     -0.724      0.470      -0.437       0.202\n",
       "health          -0.1973      0.126     -1.567      0.118      -0.445       0.051\n",
       "absences        -0.0669      0.021     -3.183      0.002      -0.108      -0.026\n",
       "b_school        -0.5240      0.548     -0.957      0.339      -1.602       0.554\n",
       "b_sex            0.5901      0.382      1.543      0.124      -0.163       1.343\n",
       "b_address       -0.5914      0.450     -1.313      0.190      -1.478       0.295\n",
       "b_famsize        0.5198      0.383      1.359      0.175      -0.233       1.273\n",
       "b_Pstatus        0.0808      0.556      0.145      0.884      -1.013       1.175\n",
       "b_schoolsup     -1.4969      0.459     -3.259      0.001      -2.401      -0.593\n",
       "b_famsup         0.4881      0.374      1.306      0.193      -0.248       1.224\n",
       "b_paid          -0.6562      0.367     -1.787      0.075      -1.379       0.066\n",
       "b_activities     0.1886      0.351      0.538      0.591      -0.502       0.879\n",
       "b_nursery        0.3144      0.429      0.734      0.464      -0.529       1.158\n",
       "b_higher        -0.8492      0.763     -1.113      0.267      -2.351       0.653\n",
       "b_internet      -0.6353      0.453     -1.401      0.162      -1.528       0.257\n",
       "c_reason         0.1253      0.169      0.740      0.460      -0.208       0.459\n",
       "c_Mjob           0.1259      0.143      0.881      0.379      -0.155       0.407\n",
       "c_Fjob           0.2060      0.169      1.216      0.225      -0.127       0.540\n",
       "==============================================================================\n",
       "Omnibus:                        2.693   Durbin-Watson:                   2.092\n",
       "Prob(Omnibus):                  0.260   Jarque-Bera (JB):                2.759\n",
       "Skew:                           0.221   Prob(JB):                        0.252\n",
       "Kurtosis:                       2.860   Cond. No.                         109.\n",
       "==============================================================================\n",
       "\n",
       "Warnings:\n",
       "[1] Standard Errors assume that the covariance matrix of the errors is correctly specified.\n",
       "\"\"\""
      ]
     },
     "execution_count": 55,
     "metadata": {},
     "output_type": "execute_result"
    }
   ],
   "source": [
    "#se elimina 'age', 'Dalc', 'c_guardian' y 'freetime'\n",
    "modelo = smf.ols('G3 ~ Medu + Fedu + traveltime + studytime + failures + famrel + goout + Walc + health + absences + b_school +b_sex + b_address + b_famsize + b_Pstatus + b_schoolsup + b_famsup + b_paid + b_activities + b_nursery + b_higher + b_internet + c_reason + c_Mjob + c_Fjob ', data = df)\n",
    "modelo = modelo.fit()\n",
    "modelo.summary()"
   ]
  },
  {
   "cell_type": "code",
   "execution_count": 56,
   "metadata": {},
   "outputs": [
    {
     "data": {
      "text/html": [
       "<table class=\"simpletable\">\n",
       "<caption>OLS Regression Results</caption>\n",
       "<tr>\n",
       "  <th>Dep. Variable:</th>           <td>G3</td>        <th>  R-squared:         </th> <td>   0.285</td>\n",
       "</tr>\n",
       "<tr>\n",
       "  <th>Model:</th>                   <td>OLS</td>       <th>  Adj. R-squared:    </th> <td>   0.234</td>\n",
       "</tr>\n",
       "<tr>\n",
       "  <th>Method:</th>             <td>Least Squares</td>  <th>  F-statistic:       </th> <td>   5.600</td>\n",
       "</tr>\n",
       "<tr>\n",
       "  <th>Date:</th>             <td>Sat, 14 Sep 2019</td> <th>  Prob (F-statistic):</th> <td>1.25e-12</td>\n",
       "</tr>\n",
       "<tr>\n",
       "  <th>Time:</th>                 <td>18:04:49</td>     <th>  Log-Likelihood:    </th> <td> -769.91</td>\n",
       "</tr>\n",
       "<tr>\n",
       "  <th>No. Observations:</th>      <td>   317</td>      <th>  AIC:               </th> <td>   1584.</td>\n",
       "</tr>\n",
       "<tr>\n",
       "  <th>Df Residuals:</th>          <td>   295</td>      <th>  BIC:               </th> <td>   1667.</td>\n",
       "</tr>\n",
       "<tr>\n",
       "  <th>Df Model:</th>              <td>    21</td>      <th>                     </th>     <td> </td>   \n",
       "</tr>\n",
       "<tr>\n",
       "  <th>Covariance Type:</th>      <td>nonrobust</td>    <th>                     </th>     <td> </td>   \n",
       "</tr>\n",
       "</table>\n",
       "<table class=\"simpletable\">\n",
       "<tr>\n",
       "       <td></td>          <th>coef</th>     <th>std err</th>      <th>t</th>      <th>P>|t|</th>  <th>[0.025</th>    <th>0.975]</th>  \n",
       "</tr>\n",
       "<tr>\n",
       "  <th>Intercept</th>   <td>   12.3822</td> <td>    1.248</td> <td>    9.925</td> <td> 0.000</td> <td>    9.927</td> <td>   14.837</td>\n",
       "</tr>\n",
       "<tr>\n",
       "  <th>Medu</th>        <td>    0.3439</td> <td>    0.173</td> <td>    1.985</td> <td> 0.048</td> <td>    0.003</td> <td>    0.685</td>\n",
       "</tr>\n",
       "<tr>\n",
       "  <th>studytime</th>   <td>    0.3836</td> <td>    0.213</td> <td>    1.798</td> <td> 0.073</td> <td>   -0.036</td> <td>    0.804</td>\n",
       "</tr>\n",
       "<tr>\n",
       "  <th>failures</th>    <td>   -0.8434</td> <td>    0.271</td> <td>   -3.117</td> <td> 0.002</td> <td>   -1.376</td> <td>   -0.311</td>\n",
       "</tr>\n",
       "<tr>\n",
       "  <th>famrel</th>      <td>    0.1285</td> <td>    0.190</td> <td>    0.678</td> <td> 0.499</td> <td>   -0.245</td> <td>    0.502</td>\n",
       "</tr>\n",
       "<tr>\n",
       "  <th>goout</th>       <td>   -0.5944</td> <td>    0.171</td> <td>   -3.471</td> <td> 0.001</td> <td>   -0.931</td> <td>   -0.257</td>\n",
       "</tr>\n",
       "<tr>\n",
       "  <th>Walc</th>        <td>   -0.1057</td> <td>    0.157</td> <td>   -0.672</td> <td> 0.502</td> <td>   -0.415</td> <td>    0.204</td>\n",
       "</tr>\n",
       "<tr>\n",
       "  <th>health</th>      <td>   -0.1918</td> <td>    0.122</td> <td>   -1.570</td> <td> 0.118</td> <td>   -0.432</td> <td>    0.049</td>\n",
       "</tr>\n",
       "<tr>\n",
       "  <th>absences</th>    <td>   -0.0670</td> <td>    0.021</td> <td>   -3.254</td> <td> 0.001</td> <td>   -0.108</td> <td>   -0.026</td>\n",
       "</tr>\n",
       "<tr>\n",
       "  <th>b_school</th>    <td>   -0.5557</td> <td>    0.521</td> <td>   -1.066</td> <td> 0.287</td> <td>   -1.581</td> <td>    0.470</td>\n",
       "</tr>\n",
       "<tr>\n",
       "  <th>b_sex</th>       <td>    0.6034</td> <td>    0.365</td> <td>    1.654</td> <td> 0.099</td> <td>   -0.114</td> <td>    1.321</td>\n",
       "</tr>\n",
       "<tr>\n",
       "  <th>b_address</th>   <td>   -0.5965</td> <td>    0.420</td> <td>   -1.420</td> <td> 0.157</td> <td>   -1.423</td> <td>    0.230</td>\n",
       "</tr>\n",
       "<tr>\n",
       "  <th>b_famsize</th>   <td>    0.5746</td> <td>    0.360</td> <td>    1.594</td> <td> 0.112</td> <td>   -0.135</td> <td>    1.284</td>\n",
       "</tr>\n",
       "<tr>\n",
       "  <th>b_schoolsup</th> <td>   -1.5141</td> <td>    0.448</td> <td>   -3.383</td> <td> 0.001</td> <td>   -2.395</td> <td>   -0.633</td>\n",
       "</tr>\n",
       "<tr>\n",
       "  <th>b_famsup</th>    <td>    0.4215</td> <td>    0.360</td> <td>    1.172</td> <td> 0.242</td> <td>   -0.286</td> <td>    1.129</td>\n",
       "</tr>\n",
       "<tr>\n",
       "  <th>b_paid</th>      <td>   -0.6876</td> <td>    0.355</td> <td>   -1.936</td> <td> 0.054</td> <td>   -1.386</td> <td>    0.011</td>\n",
       "</tr>\n",
       "<tr>\n",
       "  <th>b_nursery</th>   <td>    0.3080</td> <td>    0.416</td> <td>    0.740</td> <td> 0.460</td> <td>   -0.511</td> <td>    1.127</td>\n",
       "</tr>\n",
       "<tr>\n",
       "  <th>b_higher</th>    <td>   -0.8292</td> <td>    0.750</td> <td>   -1.105</td> <td> 0.270</td> <td>   -2.306</td> <td>    0.648</td>\n",
       "</tr>\n",
       "<tr>\n",
       "  <th>b_internet</th>  <td>   -0.6201</td> <td>    0.441</td> <td>   -1.405</td> <td> 0.161</td> <td>   -1.489</td> <td>    0.249</td>\n",
       "</tr>\n",
       "<tr>\n",
       "  <th>c_reason</th>    <td>    0.1179</td> <td>    0.165</td> <td>    0.714</td> <td> 0.476</td> <td>   -0.207</td> <td>    0.443</td>\n",
       "</tr>\n",
       "<tr>\n",
       "  <th>c_Mjob</th>      <td>    0.1323</td> <td>    0.139</td> <td>    0.951</td> <td> 0.343</td> <td>   -0.142</td> <td>    0.406</td>\n",
       "</tr>\n",
       "<tr>\n",
       "  <th>c_Fjob</th>      <td>    0.2286</td> <td>    0.157</td> <td>    1.453</td> <td> 0.147</td> <td>   -0.081</td> <td>    0.538</td>\n",
       "</tr>\n",
       "</table>\n",
       "<table class=\"simpletable\">\n",
       "<tr>\n",
       "  <th>Omnibus:</th>       <td> 2.594</td> <th>  Durbin-Watson:     </th> <td>   2.099</td>\n",
       "</tr>\n",
       "<tr>\n",
       "  <th>Prob(Omnibus):</th> <td> 0.273</td> <th>  Jarque-Bera (JB):  </th> <td>   2.640</td>\n",
       "</tr>\n",
       "<tr>\n",
       "  <th>Skew:</th>          <td> 0.217</td> <th>  Prob(JB):          </th> <td>   0.267</td>\n",
       "</tr>\n",
       "<tr>\n",
       "  <th>Kurtosis:</th>      <td> 2.889</td> <th>  Cond. No.          </th> <td>    94.6</td>\n",
       "</tr>\n",
       "</table><br/><br/>Warnings:<br/>[1] Standard Errors assume that the covariance matrix of the errors is correctly specified."
      ],
      "text/plain": [
       "<class 'statsmodels.iolib.summary.Summary'>\n",
       "\"\"\"\n",
       "                            OLS Regression Results                            \n",
       "==============================================================================\n",
       "Dep. Variable:                     G3   R-squared:                       0.285\n",
       "Model:                            OLS   Adj. R-squared:                  0.234\n",
       "Method:                 Least Squares   F-statistic:                     5.600\n",
       "Date:                Sat, 14 Sep 2019   Prob (F-statistic):           1.25e-12\n",
       "Time:                        18:04:49   Log-Likelihood:                -769.91\n",
       "No. Observations:                 317   AIC:                             1584.\n",
       "Df Residuals:                     295   BIC:                             1667.\n",
       "Df Model:                          21                                         \n",
       "Covariance Type:            nonrobust                                         \n",
       "===============================================================================\n",
       "                  coef    std err          t      P>|t|      [0.025      0.975]\n",
       "-------------------------------------------------------------------------------\n",
       "Intercept      12.3822      1.248      9.925      0.000       9.927      14.837\n",
       "Medu            0.3439      0.173      1.985      0.048       0.003       0.685\n",
       "studytime       0.3836      0.213      1.798      0.073      -0.036       0.804\n",
       "failures       -0.8434      0.271     -3.117      0.002      -1.376      -0.311\n",
       "famrel          0.1285      0.190      0.678      0.499      -0.245       0.502\n",
       "goout          -0.5944      0.171     -3.471      0.001      -0.931      -0.257\n",
       "Walc           -0.1057      0.157     -0.672      0.502      -0.415       0.204\n",
       "health         -0.1918      0.122     -1.570      0.118      -0.432       0.049\n",
       "absences       -0.0670      0.021     -3.254      0.001      -0.108      -0.026\n",
       "b_school       -0.5557      0.521     -1.066      0.287      -1.581       0.470\n",
       "b_sex           0.6034      0.365      1.654      0.099      -0.114       1.321\n",
       "b_address      -0.5965      0.420     -1.420      0.157      -1.423       0.230\n",
       "b_famsize       0.5746      0.360      1.594      0.112      -0.135       1.284\n",
       "b_schoolsup    -1.5141      0.448     -3.383      0.001      -2.395      -0.633\n",
       "b_famsup        0.4215      0.360      1.172      0.242      -0.286       1.129\n",
       "b_paid         -0.6876      0.355     -1.936      0.054      -1.386       0.011\n",
       "b_nursery       0.3080      0.416      0.740      0.460      -0.511       1.127\n",
       "b_higher       -0.8292      0.750     -1.105      0.270      -2.306       0.648\n",
       "b_internet     -0.6201      0.441     -1.405      0.161      -1.489       0.249\n",
       "c_reason        0.1179      0.165      0.714      0.476      -0.207       0.443\n",
       "c_Mjob          0.1323      0.139      0.951      0.343      -0.142       0.406\n",
       "c_Fjob          0.2286      0.157      1.453      0.147      -0.081       0.538\n",
       "==============================================================================\n",
       "Omnibus:                        2.594   Durbin-Watson:                   2.099\n",
       "Prob(Omnibus):                  0.273   Jarque-Bera (JB):                2.640\n",
       "Skew:                           0.217   Prob(JB):                        0.267\n",
       "Kurtosis:                       2.889   Cond. No.                         94.6\n",
       "==============================================================================\n",
       "\n",
       "Warnings:\n",
       "[1] Standard Errors assume that the covariance matrix of the errors is correctly specified.\n",
       "\"\"\""
      ]
     },
     "execution_count": 56,
     "metadata": {},
     "output_type": "execute_result"
    }
   ],
   "source": [
    "#se elimina 'traveltime', 'b_Pstatus', 'Fedu' y 'b_activities'\n",
    "modelo = smf.ols('G3 ~ Medu + studytime + failures + famrel + goout + Walc + health + absences + b_school +b_sex + b_address + b_famsize + b_schoolsup + b_famsup + b_paid + b_nursery + b_higher + b_internet + c_reason + c_Mjob + c_Fjob ', data = df)\n",
    "modelo = modelo.fit()\n",
    "modelo.summary()"
   ]
  },
  {
   "cell_type": "code",
   "execution_count": 57,
   "metadata": {},
   "outputs": [
    {
     "data": {
      "text/html": [
       "<table class=\"simpletable\">\n",
       "<caption>OLS Regression Results</caption>\n",
       "<tr>\n",
       "  <th>Dep. Variable:</th>           <td>G3</td>        <th>  R-squared:         </th> <td>   0.265</td>\n",
       "</tr>\n",
       "<tr>\n",
       "  <th>Model:</th>                   <td>OLS</td>       <th>  Adj. R-squared:    </th> <td>   0.225</td>\n",
       "</tr>\n",
       "<tr>\n",
       "  <th>Method:</th>             <td>Least Squares</td>  <th>  F-statistic:       </th> <td>   6.602</td>\n",
       "</tr>\n",
       "<tr>\n",
       "  <th>Date:</th>             <td>Sat, 14 Sep 2019</td> <th>  Prob (F-statistic):</th> <td>2.03e-13</td>\n",
       "</tr>\n",
       "<tr>\n",
       "  <th>Time:</th>                 <td>18:04:49</td>     <th>  Log-Likelihood:    </th> <td> -804.73</td>\n",
       "</tr>\n",
       "<tr>\n",
       "  <th>No. Observations:</th>      <td>   329</td>      <th>  AIC:               </th> <td>   1645.</td>\n",
       "</tr>\n",
       "<tr>\n",
       "  <th>Df Residuals:</th>          <td>   311</td>      <th>  BIC:               </th> <td>   1714.</td>\n",
       "</tr>\n",
       "<tr>\n",
       "  <th>Df Model:</th>              <td>    17</td>      <th>                     </th>     <td> </td>   \n",
       "</tr>\n",
       "<tr>\n",
       "  <th>Covariance Type:</th>      <td>nonrobust</td>    <th>                     </th>     <td> </td>   \n",
       "</tr>\n",
       "</table>\n",
       "<table class=\"simpletable\">\n",
       "<tr>\n",
       "       <td></td>          <th>coef</th>     <th>std err</th>      <th>t</th>      <th>P>|t|</th>  <th>[0.025</th>    <th>0.975]</th>  \n",
       "</tr>\n",
       "<tr>\n",
       "  <th>Intercept</th>   <td>   12.6862</td> <td>    1.009</td> <td>   12.569</td> <td> 0.000</td> <td>   10.700</td> <td>   14.672</td>\n",
       "</tr>\n",
       "<tr>\n",
       "  <th>Medu</th>        <td>    0.3395</td> <td>    0.169</td> <td>    2.009</td> <td> 0.045</td> <td>    0.007</td> <td>    0.672</td>\n",
       "</tr>\n",
       "<tr>\n",
       "  <th>studytime</th>   <td>    0.3921</td> <td>    0.209</td> <td>    1.873</td> <td> 0.062</td> <td>   -0.020</td> <td>    0.804</td>\n",
       "</tr>\n",
       "<tr>\n",
       "  <th>failures</th>    <td>   -0.9448</td> <td>    0.264</td> <td>   -3.585</td> <td> 0.000</td> <td>   -1.463</td> <td>   -0.426</td>\n",
       "</tr>\n",
       "<tr>\n",
       "  <th>goout</th>       <td>   -0.5344</td> <td>    0.148</td> <td>   -3.602</td> <td> 0.000</td> <td>   -0.826</td> <td>   -0.242</td>\n",
       "</tr>\n",
       "<tr>\n",
       "  <th>health</th>      <td>   -0.2045</td> <td>    0.119</td> <td>   -1.723</td> <td> 0.086</td> <td>   -0.438</td> <td>    0.029</td>\n",
       "</tr>\n",
       "<tr>\n",
       "  <th>absences</th>    <td>   -0.0687</td> <td>    0.020</td> <td>   -3.376</td> <td> 0.001</td> <td>   -0.109</td> <td>   -0.029</td>\n",
       "</tr>\n",
       "<tr>\n",
       "  <th>b_school</th>    <td>   -0.6363</td> <td>    0.517</td> <td>   -1.231</td> <td> 0.219</td> <td>   -1.654</td> <td>    0.381</td>\n",
       "</tr>\n",
       "<tr>\n",
       "  <th>b_sex</th>       <td>    0.5306</td> <td>    0.354</td> <td>    1.500</td> <td> 0.135</td> <td>   -0.165</td> <td>    1.226</td>\n",
       "</tr>\n",
       "<tr>\n",
       "  <th>b_address</th>   <td>   -0.4897</td> <td>    0.408</td> <td>   -1.200</td> <td> 0.231</td> <td>   -1.293</td> <td>    0.314</td>\n",
       "</tr>\n",
       "<tr>\n",
       "  <th>b_famsize</th>   <td>    0.3245</td> <td>    0.350</td> <td>    0.927</td> <td> 0.355</td> <td>   -0.364</td> <td>    1.013</td>\n",
       "</tr>\n",
       "<tr>\n",
       "  <th>b_schoolsup</th> <td>   -1.4079</td> <td>    0.444</td> <td>   -3.173</td> <td> 0.002</td> <td>   -2.281</td> <td>   -0.535</td>\n",
       "</tr>\n",
       "<tr>\n",
       "  <th>b_famsup</th>    <td>    0.6252</td> <td>    0.354</td> <td>    1.767</td> <td> 0.078</td> <td>   -0.071</td> <td>    1.321</td>\n",
       "</tr>\n",
       "<tr>\n",
       "  <th>b_paid</th>      <td>   -0.6294</td> <td>    0.346</td> <td>   -1.821</td> <td> 0.070</td> <td>   -1.309</td> <td>    0.051</td>\n",
       "</tr>\n",
       "<tr>\n",
       "  <th>b_higher</th>    <td>   -0.7457</td> <td>    0.752</td> <td>   -0.992</td> <td> 0.322</td> <td>   -2.225</td> <td>    0.734</td>\n",
       "</tr>\n",
       "<tr>\n",
       "  <th>b_internet</th>  <td>   -0.6460</td> <td>    0.442</td> <td>   -1.461</td> <td> 0.145</td> <td>   -1.516</td> <td>    0.224</td>\n",
       "</tr>\n",
       "<tr>\n",
       "  <th>c_Mjob</th>      <td>    0.1642</td> <td>    0.135</td> <td>    1.215</td> <td> 0.225</td> <td>   -0.102</td> <td>    0.430</td>\n",
       "</tr>\n",
       "<tr>\n",
       "  <th>c_Fjob</th>      <td>    0.2109</td> <td>    0.153</td> <td>    1.382</td> <td> 0.168</td> <td>   -0.089</td> <td>    0.511</td>\n",
       "</tr>\n",
       "</table>\n",
       "<table class=\"simpletable\">\n",
       "<tr>\n",
       "  <th>Omnibus:</th>       <td> 2.564</td> <th>  Durbin-Watson:     </th> <td>   2.090</td>\n",
       "</tr>\n",
       "<tr>\n",
       "  <th>Prob(Omnibus):</th> <td> 0.278</td> <th>  Jarque-Bera (JB):  </th> <td>   2.627</td>\n",
       "</tr>\n",
       "<tr>\n",
       "  <th>Skew:</th>          <td> 0.191</td> <th>  Prob(JB):          </th> <td>   0.269</td>\n",
       "</tr>\n",
       "<tr>\n",
       "  <th>Kurtosis:</th>      <td> 2.785</td> <th>  Cond. No.          </th> <td>    74.5</td>\n",
       "</tr>\n",
       "</table><br/><br/>Warnings:<br/>[1] Standard Errors assume that the covariance matrix of the errors is correctly specified."
      ],
      "text/plain": [
       "<class 'statsmodels.iolib.summary.Summary'>\n",
       "\"\"\"\n",
       "                            OLS Regression Results                            \n",
       "==============================================================================\n",
       "Dep. Variable:                     G3   R-squared:                       0.265\n",
       "Model:                            OLS   Adj. R-squared:                  0.225\n",
       "Method:                 Least Squares   F-statistic:                     6.602\n",
       "Date:                Sat, 14 Sep 2019   Prob (F-statistic):           2.03e-13\n",
       "Time:                        18:04:49   Log-Likelihood:                -804.73\n",
       "No. Observations:                 329   AIC:                             1645.\n",
       "Df Residuals:                     311   BIC:                             1714.\n",
       "Df Model:                          17                                         \n",
       "Covariance Type:            nonrobust                                         \n",
       "===============================================================================\n",
       "                  coef    std err          t      P>|t|      [0.025      0.975]\n",
       "-------------------------------------------------------------------------------\n",
       "Intercept      12.6862      1.009     12.569      0.000      10.700      14.672\n",
       "Medu            0.3395      0.169      2.009      0.045       0.007       0.672\n",
       "studytime       0.3921      0.209      1.873      0.062      -0.020       0.804\n",
       "failures       -0.9448      0.264     -3.585      0.000      -1.463      -0.426\n",
       "goout          -0.5344      0.148     -3.602      0.000      -0.826      -0.242\n",
       "health         -0.2045      0.119     -1.723      0.086      -0.438       0.029\n",
       "absences       -0.0687      0.020     -3.376      0.001      -0.109      -0.029\n",
       "b_school       -0.6363      0.517     -1.231      0.219      -1.654       0.381\n",
       "b_sex           0.5306      0.354      1.500      0.135      -0.165       1.226\n",
       "b_address      -0.4897      0.408     -1.200      0.231      -1.293       0.314\n",
       "b_famsize       0.3245      0.350      0.927      0.355      -0.364       1.013\n",
       "b_schoolsup    -1.4079      0.444     -3.173      0.002      -2.281      -0.535\n",
       "b_famsup        0.6252      0.354      1.767      0.078      -0.071       1.321\n",
       "b_paid         -0.6294      0.346     -1.821      0.070      -1.309       0.051\n",
       "b_higher       -0.7457      0.752     -0.992      0.322      -2.225       0.734\n",
       "b_internet     -0.6460      0.442     -1.461      0.145      -1.516       0.224\n",
       "c_Mjob          0.1642      0.135      1.215      0.225      -0.102       0.430\n",
       "c_Fjob          0.2109      0.153      1.382      0.168      -0.089       0.511\n",
       "==============================================================================\n",
       "Omnibus:                        2.564   Durbin-Watson:                   2.090\n",
       "Prob(Omnibus):                  0.278   Jarque-Bera (JB):                2.627\n",
       "Skew:                           0.191   Prob(JB):                        0.269\n",
       "Kurtosis:                       2.785   Cond. No.                         74.5\n",
       "==============================================================================\n",
       "\n",
       "Warnings:\n",
       "[1] Standard Errors assume that the covariance matrix of the errors is correctly specified.\n",
       "\"\"\""
      ]
     },
     "execution_count": 57,
     "metadata": {},
     "output_type": "execute_result"
    }
   ],
   "source": [
    "#se elimina 'Walc', 'famrel', 'b_nursery' y 'c_reason'\n",
    "modelo = smf.ols('G3 ~ Medu + studytime + failures + goout + health + absences + b_school +b_sex + b_address + b_famsize + b_schoolsup + b_famsup + b_paid + b_higher + b_internet + c_Mjob + c_Fjob ', data = df)\n",
    "modelo = modelo.fit()\n",
    "modelo.summary()"
   ]
  },
  {
   "cell_type": "code",
   "execution_count": 58,
   "metadata": {},
   "outputs": [
    {
     "data": {
      "text/html": [
       "<table class=\"simpletable\">\n",
       "<caption>OLS Regression Results</caption>\n",
       "<tr>\n",
       "  <th>Dep. Variable:</th>           <td>G3</td>        <th>  R-squared:         </th> <td>   0.250</td>\n",
       "</tr>\n",
       "<tr>\n",
       "  <th>Model:</th>                   <td>OLS</td>       <th>  Adj. R-squared:    </th> <td>   0.219</td>\n",
       "</tr>\n",
       "<tr>\n",
       "  <th>Method:</th>             <td>Least Squares</td>  <th>  F-statistic:       </th> <td>   8.187</td>\n",
       "</tr>\n",
       "<tr>\n",
       "  <th>Date:</th>             <td>Sat, 14 Sep 2019</td> <th>  Prob (F-statistic):</th> <td>3.09e-14</td>\n",
       "</tr>\n",
       "<tr>\n",
       "  <th>Time:</th>                 <td>18:04:49</td>     <th>  Log-Likelihood:    </th> <td> -820.00</td>\n",
       "</tr>\n",
       "<tr>\n",
       "  <th>No. Observations:</th>      <td>   334</td>      <th>  AIC:               </th> <td>   1668.</td>\n",
       "</tr>\n",
       "<tr>\n",
       "  <th>Df Residuals:</th>          <td>   320</td>      <th>  BIC:               </th> <td>   1721.</td>\n",
       "</tr>\n",
       "<tr>\n",
       "  <th>Df Model:</th>              <td>    13</td>      <th>                     </th>     <td> </td>   \n",
       "</tr>\n",
       "<tr>\n",
       "  <th>Covariance Type:</th>      <td>nonrobust</td>    <th>                     </th>     <td> </td>   \n",
       "</tr>\n",
       "</table>\n",
       "<table class=\"simpletable\">\n",
       "<tr>\n",
       "       <td></td>          <th>coef</th>     <th>std err</th>      <th>t</th>      <th>P>|t|</th>  <th>[0.025</th>    <th>0.975]</th>  \n",
       "</tr>\n",
       "<tr>\n",
       "  <th>Intercept</th>   <td>   12.4184</td> <td>    0.983</td> <td>   12.633</td> <td> 0.000</td> <td>   10.484</td> <td>   14.352</td>\n",
       "</tr>\n",
       "<tr>\n",
       "  <th>Medu</th>        <td>    0.4183</td> <td>    0.157</td> <td>    2.672</td> <td> 0.008</td> <td>    0.110</td> <td>    0.726</td>\n",
       "</tr>\n",
       "<tr>\n",
       "  <th>studytime</th>   <td>    0.3896</td> <td>    0.207</td> <td>    1.882</td> <td> 0.061</td> <td>   -0.018</td> <td>    0.797</td>\n",
       "</tr>\n",
       "<tr>\n",
       "  <th>failures</th>    <td>   -0.9925</td> <td>    0.260</td> <td>   -3.810</td> <td> 0.000</td> <td>   -1.505</td> <td>   -0.480</td>\n",
       "</tr>\n",
       "<tr>\n",
       "  <th>goout</th>       <td>   -0.5137</td> <td>    0.148</td> <td>   -3.470</td> <td> 0.001</td> <td>   -0.805</td> <td>   -0.222</td>\n",
       "</tr>\n",
       "<tr>\n",
       "  <th>health</th>      <td>   -0.1815</td> <td>    0.118</td> <td>   -1.541</td> <td> 0.124</td> <td>   -0.413</td> <td>    0.050</td>\n",
       "</tr>\n",
       "<tr>\n",
       "  <th>absences</th>    <td>   -0.0711</td> <td>    0.020</td> <td>   -3.551</td> <td> 0.000</td> <td>   -0.110</td> <td>   -0.032</td>\n",
       "</tr>\n",
       "<tr>\n",
       "  <th>b_school</th>    <td>   -0.7474</td> <td>    0.488</td> <td>   -1.531</td> <td> 0.127</td> <td>   -1.708</td> <td>    0.213</td>\n",
       "</tr>\n",
       "<tr>\n",
       "  <th>b_sex</th>       <td>    0.5490</td> <td>    0.349</td> <td>    1.574</td> <td> 0.116</td> <td>   -0.137</td> <td>    1.235</td>\n",
       "</tr>\n",
       "<tr>\n",
       "  <th>b_schoolsup</th> <td>   -1.5027</td> <td>    0.438</td> <td>   -3.435</td> <td> 0.001</td> <td>   -2.363</td> <td>   -0.642</td>\n",
       "</tr>\n",
       "<tr>\n",
       "  <th>b_famsup</th>    <td>    0.6958</td> <td>    0.350</td> <td>    1.990</td> <td> 0.047</td> <td>    0.008</td> <td>    1.384</td>\n",
       "</tr>\n",
       "<tr>\n",
       "  <th>b_paid</th>      <td>   -0.4885</td> <td>    0.339</td> <td>   -1.440</td> <td> 0.151</td> <td>   -1.156</td> <td>    0.179</td>\n",
       "</tr>\n",
       "<tr>\n",
       "  <th>b_internet</th>  <td>   -0.7653</td> <td>    0.430</td> <td>   -1.781</td> <td> 0.076</td> <td>   -1.610</td> <td>    0.080</td>\n",
       "</tr>\n",
       "<tr>\n",
       "  <th>c_Fjob</th>      <td>    0.2632</td> <td>    0.144</td> <td>    1.833</td> <td> 0.068</td> <td>   -0.019</td> <td>    0.546</td>\n",
       "</tr>\n",
       "</table>\n",
       "<table class=\"simpletable\">\n",
       "<tr>\n",
       "  <th>Omnibus:</th>       <td> 3.026</td> <th>  Durbin-Watson:     </th> <td>   2.112</td>\n",
       "</tr>\n",
       "<tr>\n",
       "  <th>Prob(Omnibus):</th> <td> 0.220</td> <th>  Jarque-Bera (JB):  </th> <td>   2.961</td>\n",
       "</tr>\n",
       "<tr>\n",
       "  <th>Skew:</th>          <td> 0.183</td> <th>  Prob(JB):          </th> <td>   0.227</td>\n",
       "</tr>\n",
       "<tr>\n",
       "  <th>Kurtosis:</th>      <td> 2.719</td> <th>  Cond. No.          </th> <td>    72.0</td>\n",
       "</tr>\n",
       "</table><br/><br/>Warnings:<br/>[1] Standard Errors assume that the covariance matrix of the errors is correctly specified."
      ],
      "text/plain": [
       "<class 'statsmodels.iolib.summary.Summary'>\n",
       "\"\"\"\n",
       "                            OLS Regression Results                            \n",
       "==============================================================================\n",
       "Dep. Variable:                     G3   R-squared:                       0.250\n",
       "Model:                            OLS   Adj. R-squared:                  0.219\n",
       "Method:                 Least Squares   F-statistic:                     8.187\n",
       "Date:                Sat, 14 Sep 2019   Prob (F-statistic):           3.09e-14\n",
       "Time:                        18:04:49   Log-Likelihood:                -820.00\n",
       "No. Observations:                 334   AIC:                             1668.\n",
       "Df Residuals:                     320   BIC:                             1721.\n",
       "Df Model:                          13                                         \n",
       "Covariance Type:            nonrobust                                         \n",
       "===============================================================================\n",
       "                  coef    std err          t      P>|t|      [0.025      0.975]\n",
       "-------------------------------------------------------------------------------\n",
       "Intercept      12.4184      0.983     12.633      0.000      10.484      14.352\n",
       "Medu            0.4183      0.157      2.672      0.008       0.110       0.726\n",
       "studytime       0.3896      0.207      1.882      0.061      -0.018       0.797\n",
       "failures       -0.9925      0.260     -3.810      0.000      -1.505      -0.480\n",
       "goout          -0.5137      0.148     -3.470      0.001      -0.805      -0.222\n",
       "health         -0.1815      0.118     -1.541      0.124      -0.413       0.050\n",
       "absences       -0.0711      0.020     -3.551      0.000      -0.110      -0.032\n",
       "b_school       -0.7474      0.488     -1.531      0.127      -1.708       0.213\n",
       "b_sex           0.5490      0.349      1.574      0.116      -0.137       1.235\n",
       "b_schoolsup    -1.5027      0.438     -3.435      0.001      -2.363      -0.642\n",
       "b_famsup        0.6958      0.350      1.990      0.047       0.008       1.384\n",
       "b_paid         -0.4885      0.339     -1.440      0.151      -1.156       0.179\n",
       "b_internet     -0.7653      0.430     -1.781      0.076      -1.610       0.080\n",
       "c_Fjob          0.2632      0.144      1.833      0.068      -0.019       0.546\n",
       "==============================================================================\n",
       "Omnibus:                        3.026   Durbin-Watson:                   2.112\n",
       "Prob(Omnibus):                  0.220   Jarque-Bera (JB):                2.961\n",
       "Skew:                           0.183   Prob(JB):                        0.227\n",
       "Kurtosis:                       2.719   Cond. No.                         72.0\n",
       "==============================================================================\n",
       "\n",
       "Warnings:\n",
       "[1] Standard Errors assume that the covariance matrix of the errors is correctly specified.\n",
       "\"\"\""
      ]
     },
     "execution_count": 58,
     "metadata": {},
     "output_type": "execute_result"
    }
   ],
   "source": [
    "#se elimina 'b_famsize', 'b_higher', 'c_Mjob' y 'b_address'\n",
    "modelo = smf.ols('G3 ~ Medu + studytime + failures + goout + health + absences + b_school +b_sex + b_schoolsup + b_famsup + b_paid + b_internet + c_Fjob ', data = df)\n",
    "modelo = modelo.fit()\n",
    "modelo.summary()"
   ]
  },
  {
   "cell_type": "code",
   "execution_count": 59,
   "metadata": {},
   "outputs": [
    {
     "data": {
      "text/html": [
       "<table class=\"simpletable\">\n",
       "<caption>OLS Regression Results</caption>\n",
       "<tr>\n",
       "  <th>Dep. Variable:</th>           <td>G3</td>        <th>  R-squared:         </th> <td>   0.227</td>\n",
       "</tr>\n",
       "<tr>\n",
       "  <th>Model:</th>                   <td>OLS</td>       <th>  Adj. R-squared:    </th> <td>   0.206</td>\n",
       "</tr>\n",
       "<tr>\n",
       "  <th>Method:</th>             <td>Least Squares</td>  <th>  F-statistic:       </th> <td>   10.66</td>\n",
       "</tr>\n",
       "<tr>\n",
       "  <th>Date:</th>             <td>Sat, 14 Sep 2019</td> <th>  Prob (F-statistic):</th> <td>1.65e-14</td>\n",
       "</tr>\n",
       "<tr>\n",
       "  <th>Time:</th>                 <td>18:04:49</td>     <th>  Log-Likelihood:    </th> <td> -833.78</td>\n",
       "</tr>\n",
       "<tr>\n",
       "  <th>No. Observations:</th>      <td>   337</td>      <th>  AIC:               </th> <td>   1688.</td>\n",
       "</tr>\n",
       "<tr>\n",
       "  <th>Df Residuals:</th>          <td>   327</td>      <th>  BIC:               </th> <td>   1726.</td>\n",
       "</tr>\n",
       "<tr>\n",
       "  <th>Df Model:</th>              <td>     9</td>      <th>                     </th>     <td> </td>   \n",
       "</tr>\n",
       "<tr>\n",
       "  <th>Covariance Type:</th>      <td>nonrobust</td>    <th>                     </th>     <td> </td>   \n",
       "</tr>\n",
       "</table>\n",
       "<table class=\"simpletable\">\n",
       "<tr>\n",
       "       <td></td>          <th>coef</th>     <th>std err</th>      <th>t</th>      <th>P>|t|</th>  <th>[0.025</th>    <th>0.975]</th>  \n",
       "</tr>\n",
       "<tr>\n",
       "  <th>Intercept</th>   <td>   10.9529</td> <td>    0.840</td> <td>   13.046</td> <td> 0.000</td> <td>    9.301</td> <td>   12.605</td>\n",
       "</tr>\n",
       "<tr>\n",
       "  <th>Medu</th>        <td>    0.4659</td> <td>    0.155</td> <td>    2.998</td> <td> 0.003</td> <td>    0.160</td> <td>    0.772</td>\n",
       "</tr>\n",
       "<tr>\n",
       "  <th>studytime</th>   <td>    0.4402</td> <td>    0.206</td> <td>    2.134</td> <td> 0.034</td> <td>    0.034</td> <td>    0.846</td>\n",
       "</tr>\n",
       "<tr>\n",
       "  <th>failures</th>    <td>   -1.0502</td> <td>    0.257</td> <td>   -4.090</td> <td> 0.000</td> <td>   -1.555</td> <td>   -0.545</td>\n",
       "</tr>\n",
       "<tr>\n",
       "  <th>goout</th>       <td>   -0.4964</td> <td>    0.149</td> <td>   -3.341</td> <td> 0.001</td> <td>   -0.789</td> <td>   -0.204</td>\n",
       "</tr>\n",
       "<tr>\n",
       "  <th>absences</th>    <td>   -0.0634</td> <td>    0.020</td> <td>   -3.171</td> <td> 0.002</td> <td>   -0.103</td> <td>   -0.024</td>\n",
       "</tr>\n",
       "<tr>\n",
       "  <th>b_sex</th>       <td>    0.6039</td> <td>    0.345</td> <td>    1.750</td> <td> 0.081</td> <td>   -0.075</td> <td>    1.283</td>\n",
       "</tr>\n",
       "<tr>\n",
       "  <th>b_schoolsup</th> <td>   -1.3684</td> <td>    0.436</td> <td>   -3.136</td> <td> 0.002</td> <td>   -2.227</td> <td>   -0.510</td>\n",
       "</tr>\n",
       "<tr>\n",
       "  <th>b_famsup</th>    <td>    0.7685</td> <td>    0.336</td> <td>    2.288</td> <td> 0.023</td> <td>    0.108</td> <td>    1.429</td>\n",
       "</tr>\n",
       "<tr>\n",
       "  <th>c_Fjob</th>      <td>    0.2335</td> <td>    0.145</td> <td>    1.613</td> <td> 0.108</td> <td>   -0.051</td> <td>    0.518</td>\n",
       "</tr>\n",
       "</table>\n",
       "<table class=\"simpletable\">\n",
       "<tr>\n",
       "  <th>Omnibus:</th>       <td> 3.479</td> <th>  Durbin-Watson:     </th> <td>   2.101</td>\n",
       "</tr>\n",
       "<tr>\n",
       "  <th>Prob(Omnibus):</th> <td> 0.176</td> <th>  Jarque-Bera (JB):  </th> <td>   3.482</td>\n",
       "</tr>\n",
       "<tr>\n",
       "  <th>Skew:</th>          <td> 0.215</td> <th>  Prob(JB):          </th> <td>   0.175</td>\n",
       "</tr>\n",
       "<tr>\n",
       "  <th>Kurtosis:</th>      <td> 2.748</td> <th>  Cond. No.          </th> <td>    59.6</td>\n",
       "</tr>\n",
       "</table><br/><br/>Warnings:<br/>[1] Standard Errors assume that the covariance matrix of the errors is correctly specified."
      ],
      "text/plain": [
       "<class 'statsmodels.iolib.summary.Summary'>\n",
       "\"\"\"\n",
       "                            OLS Regression Results                            \n",
       "==============================================================================\n",
       "Dep. Variable:                     G3   R-squared:                       0.227\n",
       "Model:                            OLS   Adj. R-squared:                  0.206\n",
       "Method:                 Least Squares   F-statistic:                     10.66\n",
       "Date:                Sat, 14 Sep 2019   Prob (F-statistic):           1.65e-14\n",
       "Time:                        18:04:49   Log-Likelihood:                -833.78\n",
       "No. Observations:                 337   AIC:                             1688.\n",
       "Df Residuals:                     327   BIC:                             1726.\n",
       "Df Model:                           9                                         \n",
       "Covariance Type:            nonrobust                                         \n",
       "===============================================================================\n",
       "                  coef    std err          t      P>|t|      [0.025      0.975]\n",
       "-------------------------------------------------------------------------------\n",
       "Intercept      10.9529      0.840     13.046      0.000       9.301      12.605\n",
       "Medu            0.4659      0.155      2.998      0.003       0.160       0.772\n",
       "studytime       0.4402      0.206      2.134      0.034       0.034       0.846\n",
       "failures       -1.0502      0.257     -4.090      0.000      -1.555      -0.545\n",
       "goout          -0.4964      0.149     -3.341      0.001      -0.789      -0.204\n",
       "absences       -0.0634      0.020     -3.171      0.002      -0.103      -0.024\n",
       "b_sex           0.6039      0.345      1.750      0.081      -0.075       1.283\n",
       "b_schoolsup    -1.3684      0.436     -3.136      0.002      -2.227      -0.510\n",
       "b_famsup        0.7685      0.336      2.288      0.023       0.108       1.429\n",
       "c_Fjob          0.2335      0.145      1.613      0.108      -0.051       0.518\n",
       "==============================================================================\n",
       "Omnibus:                        3.479   Durbin-Watson:                   2.101\n",
       "Prob(Omnibus):                  0.176   Jarque-Bera (JB):                3.482\n",
       "Skew:                           0.215   Prob(JB):                        0.175\n",
       "Kurtosis:                       2.748   Cond. No.                         59.6\n",
       "==============================================================================\n",
       "\n",
       "Warnings:\n",
       "[1] Standard Errors assume that the covariance matrix of the errors is correctly specified.\n",
       "\"\"\""
      ]
     },
     "execution_count": 59,
     "metadata": {},
     "output_type": "execute_result"
    }
   ],
   "source": [
    "#se elimina 'b_school', 'b_paid', 'health' y 'b_internet'\n",
    "modelo = smf.ols('G3 ~ Medu + studytime + failures + goout + absences +b_sex + b_schoolsup + b_famsup + c_Fjob ', data = df)\n",
    "modelo = modelo.fit()\n",
    "modelo.summary()"
   ]
  },
  {
   "cell_type": "code",
   "execution_count": 60,
   "metadata": {},
   "outputs": [
    {
     "data": {
      "text/html": [
       "<table class=\"simpletable\">\n",
       "<caption>OLS Regression Results</caption>\n",
       "<tr>\n",
       "  <th>Dep. Variable:</th>           <td>G3</td>        <th>  R-squared:         </th> <td>   0.214</td>\n",
       "</tr>\n",
       "<tr>\n",
       "  <th>Model:</th>                   <td>OLS</td>       <th>  Adj. R-squared:    </th> <td>   0.197</td>\n",
       "</tr>\n",
       "<tr>\n",
       "  <th>Method:</th>             <td>Least Squares</td>  <th>  F-statistic:       </th> <td>   12.81</td>\n",
       "</tr>\n",
       "<tr>\n",
       "  <th>Date:</th>             <td>Sat, 14 Sep 2019</td> <th>  Prob (F-statistic):</th> <td>1.47e-14</td>\n",
       "</tr>\n",
       "<tr>\n",
       "  <th>Time:</th>                 <td>18:04:49</td>     <th>  Log-Likelihood:    </th> <td> -836.52</td>\n",
       "</tr>\n",
       "<tr>\n",
       "  <th>No. Observations:</th>      <td>   337</td>      <th>  AIC:               </th> <td>   1689.</td>\n",
       "</tr>\n",
       "<tr>\n",
       "  <th>Df Residuals:</th>          <td>   329</td>      <th>  BIC:               </th> <td>   1720.</td>\n",
       "</tr>\n",
       "<tr>\n",
       "  <th>Df Model:</th>              <td>     7</td>      <th>                     </th>     <td> </td>   \n",
       "</tr>\n",
       "<tr>\n",
       "  <th>Covariance Type:</th>      <td>nonrobust</td>    <th>                     </th>     <td> </td>   \n",
       "</tr>\n",
       "</table>\n",
       "<table class=\"simpletable\">\n",
       "<tr>\n",
       "       <td></td>          <th>coef</th>     <th>std err</th>      <th>t</th>      <th>P>|t|</th>  <th>[0.025</th>    <th>0.975]</th>  \n",
       "</tr>\n",
       "<tr>\n",
       "  <th>Intercept</th>   <td>   11.4728</td> <td>    0.802</td> <td>   14.300</td> <td> 0.000</td> <td>    9.895</td> <td>   13.051</td>\n",
       "</tr>\n",
       "<tr>\n",
       "  <th>Medu</th>        <td>    0.5250</td> <td>    0.154</td> <td>    3.409</td> <td> 0.001</td> <td>    0.222</td> <td>    0.828</td>\n",
       "</tr>\n",
       "<tr>\n",
       "  <th>studytime</th>   <td>    0.3578</td> <td>    0.198</td> <td>    1.811</td> <td> 0.071</td> <td>   -0.031</td> <td>    0.747</td>\n",
       "</tr>\n",
       "<tr>\n",
       "  <th>failures</th>    <td>   -1.0133</td> <td>    0.258</td> <td>   -3.935</td> <td> 0.000</td> <td>   -1.520</td> <td>   -0.507</td>\n",
       "</tr>\n",
       "<tr>\n",
       "  <th>goout</th>       <td>   -0.5031</td> <td>    0.149</td> <td>   -3.371</td> <td> 0.001</td> <td>   -0.797</td> <td>   -0.210</td>\n",
       "</tr>\n",
       "<tr>\n",
       "  <th>absences</th>    <td>   -0.0698</td> <td>    0.020</td> <td>   -3.510</td> <td> 0.001</td> <td>   -0.109</td> <td>   -0.031</td>\n",
       "</tr>\n",
       "<tr>\n",
       "  <th>b_schoolsup</th> <td>   -1.4244</td> <td>    0.432</td> <td>   -3.301</td> <td> 0.001</td> <td>   -2.273</td> <td>   -0.575</td>\n",
       "</tr>\n",
       "<tr>\n",
       "  <th>b_famsup</th>    <td>    0.8040</td> <td>    0.336</td> <td>    2.393</td> <td> 0.017</td> <td>    0.143</td> <td>    1.465</td>\n",
       "</tr>\n",
       "</table>\n",
       "<table class=\"simpletable\">\n",
       "<tr>\n",
       "  <th>Omnibus:</th>       <td> 2.821</td> <th>  Durbin-Watson:     </th> <td>   2.101</td>\n",
       "</tr>\n",
       "<tr>\n",
       "  <th>Prob(Omnibus):</th> <td> 0.244</td> <th>  Jarque-Bera (JB):  </th> <td>   2.826</td>\n",
       "</tr>\n",
       "<tr>\n",
       "  <th>Skew:</th>          <td> 0.185</td> <th>  Prob(JB):          </th> <td>   0.243</td>\n",
       "</tr>\n",
       "<tr>\n",
       "  <th>Kurtosis:</th>      <td> 2.747</td> <th>  Cond. No.          </th> <td>    56.4</td>\n",
       "</tr>\n",
       "</table><br/><br/>Warnings:<br/>[1] Standard Errors assume that the covariance matrix of the errors is correctly specified."
      ],
      "text/plain": [
       "<class 'statsmodels.iolib.summary.Summary'>\n",
       "\"\"\"\n",
       "                            OLS Regression Results                            \n",
       "==============================================================================\n",
       "Dep. Variable:                     G3   R-squared:                       0.214\n",
       "Model:                            OLS   Adj. R-squared:                  0.197\n",
       "Method:                 Least Squares   F-statistic:                     12.81\n",
       "Date:                Sat, 14 Sep 2019   Prob (F-statistic):           1.47e-14\n",
       "Time:                        18:04:49   Log-Likelihood:                -836.52\n",
       "No. Observations:                 337   AIC:                             1689.\n",
       "Df Residuals:                     329   BIC:                             1720.\n",
       "Df Model:                           7                                         \n",
       "Covariance Type:            nonrobust                                         \n",
       "===============================================================================\n",
       "                  coef    std err          t      P>|t|      [0.025      0.975]\n",
       "-------------------------------------------------------------------------------\n",
       "Intercept      11.4728      0.802     14.300      0.000       9.895      13.051\n",
       "Medu            0.5250      0.154      3.409      0.001       0.222       0.828\n",
       "studytime       0.3578      0.198      1.811      0.071      -0.031       0.747\n",
       "failures       -1.0133      0.258     -3.935      0.000      -1.520      -0.507\n",
       "goout          -0.5031      0.149     -3.371      0.001      -0.797      -0.210\n",
       "absences       -0.0698      0.020     -3.510      0.001      -0.109      -0.031\n",
       "b_schoolsup    -1.4244      0.432     -3.301      0.001      -2.273      -0.575\n",
       "b_famsup        0.8040      0.336      2.393      0.017       0.143       1.465\n",
       "==============================================================================\n",
       "Omnibus:                        2.821   Durbin-Watson:                   2.101\n",
       "Prob(Omnibus):                  0.244   Jarque-Bera (JB):                2.826\n",
       "Skew:                           0.185   Prob(JB):                        0.243\n",
       "Kurtosis:                       2.747   Cond. No.                         56.4\n",
       "==============================================================================\n",
       "\n",
       "Warnings:\n",
       "[1] Standard Errors assume that the covariance matrix of the errors is correctly specified.\n",
       "\"\"\""
      ]
     },
     "execution_count": 60,
     "metadata": {},
     "output_type": "execute_result"
    }
   ],
   "source": [
    "#se elimina 'c_Fjob' y 'b_sex'\n",
    "modelo = smf.ols('G3 ~ Medu + studytime + failures + goout + absences + b_schoolsup + b_famsup', data = df)\n",
    "modelo = modelo.fit()\n",
    "modelo.summary()"
   ]
  },
  {
   "cell_type": "code",
   "execution_count": 61,
   "metadata": {},
   "outputs": [
    {
     "data": {
      "text/html": [
       "<table class=\"simpletable\">\n",
       "<caption>OLS Regression Results</caption>\n",
       "<tr>\n",
       "  <th>Dep. Variable:</th>           <td>G3</td>        <th>  R-squared:         </th> <td>   0.207</td>\n",
       "</tr>\n",
       "<tr>\n",
       "  <th>Model:</th>                   <td>OLS</td>       <th>  Adj. R-squared:    </th> <td>   0.193</td>\n",
       "</tr>\n",
       "<tr>\n",
       "  <th>Method:</th>             <td>Least Squares</td>  <th>  F-statistic:       </th> <td>   14.47</td>\n",
       "</tr>\n",
       "<tr>\n",
       "  <th>Date:</th>             <td>Sat, 14 Sep 2019</td> <th>  Prob (F-statistic):</th> <td>1.11e-14</td>\n",
       "</tr>\n",
       "<tr>\n",
       "  <th>Time:</th>                 <td>18:04:49</td>     <th>  Log-Likelihood:    </th> <td> -844.53</td>\n",
       "</tr>\n",
       "<tr>\n",
       "  <th>No. Observations:</th>      <td>   340</td>      <th>  AIC:               </th> <td>   1703.</td>\n",
       "</tr>\n",
       "<tr>\n",
       "  <th>Df Residuals:</th>          <td>   333</td>      <th>  BIC:               </th> <td>   1730.</td>\n",
       "</tr>\n",
       "<tr>\n",
       "  <th>Df Model:</th>              <td>     6</td>      <th>                     </th>     <td> </td>   \n",
       "</tr>\n",
       "<tr>\n",
       "  <th>Covariance Type:</th>      <td>nonrobust</td>    <th>                     </th>     <td> </td>   \n",
       "</tr>\n",
       "</table>\n",
       "<table class=\"simpletable\">\n",
       "<tr>\n",
       "       <td></td>          <th>coef</th>     <th>std err</th>      <th>t</th>      <th>P>|t|</th>  <th>[0.025</th>    <th>0.975]</th>  \n",
       "</tr>\n",
       "<tr>\n",
       "  <th>Intercept</th>   <td>   12.3364</td> <td>    0.657</td> <td>   18.767</td> <td> 0.000</td> <td>   11.043</td> <td>   13.629</td>\n",
       "</tr>\n",
       "<tr>\n",
       "  <th>Medu</th>        <td>    0.5169</td> <td>    0.153</td> <td>    3.376</td> <td> 0.001</td> <td>    0.216</td> <td>    0.818</td>\n",
       "</tr>\n",
       "<tr>\n",
       "  <th>failures</th>    <td>   -1.0404</td> <td>    0.250</td> <td>   -4.158</td> <td> 0.000</td> <td>   -1.532</td> <td>   -0.548</td>\n",
       "</tr>\n",
       "<tr>\n",
       "  <th>goout</th>       <td>   -0.5231</td> <td>    0.148</td> <td>   -3.525</td> <td> 0.000</td> <td>   -0.815</td> <td>   -0.231</td>\n",
       "</tr>\n",
       "<tr>\n",
       "  <th>absences</th>    <td>   -0.0717</td> <td>    0.020</td> <td>   -3.623</td> <td> 0.000</td> <td>   -0.111</td> <td>   -0.033</td>\n",
       "</tr>\n",
       "<tr>\n",
       "  <th>b_schoolsup</th> <td>   -1.3982</td> <td>    0.431</td> <td>   -3.246</td> <td> 0.001</td> <td>   -2.246</td> <td>   -0.551</td>\n",
       "</tr>\n",
       "<tr>\n",
       "  <th>b_famsup</th>    <td>    0.7198</td> <td>    0.331</td> <td>    2.176</td> <td> 0.030</td> <td>    0.069</td> <td>    1.370</td>\n",
       "</tr>\n",
       "</table>\n",
       "<table class=\"simpletable\">\n",
       "<tr>\n",
       "  <th>Omnibus:</th>       <td> 2.559</td> <th>  Durbin-Watson:     </th> <td>   2.066</td>\n",
       "</tr>\n",
       "<tr>\n",
       "  <th>Prob(Omnibus):</th> <td> 0.278</td> <th>  Jarque-Bera (JB):  </th> <td>   2.616</td>\n",
       "</tr>\n",
       "<tr>\n",
       "  <th>Skew:</th>          <td> 0.185</td> <th>  Prob(JB):          </th> <td>   0.270</td>\n",
       "</tr>\n",
       "<tr>\n",
       "  <th>Kurtosis:</th>      <td> 2.781</td> <th>  Cond. No.          </th> <td>    46.3</td>\n",
       "</tr>\n",
       "</table><br/><br/>Warnings:<br/>[1] Standard Errors assume that the covariance matrix of the errors is correctly specified."
      ],
      "text/plain": [
       "<class 'statsmodels.iolib.summary.Summary'>\n",
       "\"\"\"\n",
       "                            OLS Regression Results                            \n",
       "==============================================================================\n",
       "Dep. Variable:                     G3   R-squared:                       0.207\n",
       "Model:                            OLS   Adj. R-squared:                  0.193\n",
       "Method:                 Least Squares   F-statistic:                     14.47\n",
       "Date:                Sat, 14 Sep 2019   Prob (F-statistic):           1.11e-14\n",
       "Time:                        18:04:49   Log-Likelihood:                -844.53\n",
       "No. Observations:                 340   AIC:                             1703.\n",
       "Df Residuals:                     333   BIC:                             1730.\n",
       "Df Model:                           6                                         \n",
       "Covariance Type:            nonrobust                                         \n",
       "===============================================================================\n",
       "                  coef    std err          t      P>|t|      [0.025      0.975]\n",
       "-------------------------------------------------------------------------------\n",
       "Intercept      12.3364      0.657     18.767      0.000      11.043      13.629\n",
       "Medu            0.5169      0.153      3.376      0.001       0.216       0.818\n",
       "failures       -1.0404      0.250     -4.158      0.000      -1.532      -0.548\n",
       "goout          -0.5231      0.148     -3.525      0.000      -0.815      -0.231\n",
       "absences       -0.0717      0.020     -3.623      0.000      -0.111      -0.033\n",
       "b_schoolsup    -1.3982      0.431     -3.246      0.001      -2.246      -0.551\n",
       "b_famsup        0.7198      0.331      2.176      0.030       0.069       1.370\n",
       "==============================================================================\n",
       "Omnibus:                        2.559   Durbin-Watson:                   2.066\n",
       "Prob(Omnibus):                  0.278   Jarque-Bera (JB):                2.616\n",
       "Skew:                           0.185   Prob(JB):                        0.270\n",
       "Kurtosis:                       2.781   Cond. No.                         46.3\n",
       "==============================================================================\n",
       "\n",
       "Warnings:\n",
       "[1] Standard Errors assume that the covariance matrix of the errors is correctly specified.\n",
       "\"\"\""
      ]
     },
     "execution_count": 61,
     "metadata": {},
     "output_type": "execute_result"
    }
   ],
   "source": [
    "#se elimina 'studytime'\n",
    "modelo = smf.ols('G3 ~ Medu + failures + goout + absences + b_schoolsup + b_famsup', data = df)\n",
    "modelo = modelo.fit()\n",
    "modelo.summary()"
   ]
  },
  {
   "cell_type": "markdown",
   "metadata": {},
   "source": [
    "**Conclusiones:** Apartir del modelo generado podemos decir con un 90% confianza la variable dependiente (`G3`) de la muestra se explica en 20,7% por el nivel educacional de la madre (`Medu`),  por el número de clases reprobadas (`failures`), por la salidas con amigos (`goout`), la cantidad de ausencias escolares (`absences`) la escuela del estudiante (`b_schoolsup`) y el apoyo educacional familiar (`famsup`), con un error standar de de 0,657 y tiene un intercepto (donde la recta corta al eje $Y$.) que empieza en el punto 12,3364.<br>\n",
    "Peso de cada vairable ($\\beta$) :\n",
    "* `absences`: $\\beta_{absences} = -0,0679$\n",
    "* `failures`: $\\beta_{failures} = -1,2382$\n",
    "* `goout`:$\\beta_{goout} = -0,4465$\n",
    "* `b_schoolsup`:$\\beta_{bschoolsup} =-1,567$"
   ]
  },
  {
   "cell_type": "markdown",
   "metadata": {},
   "source": [
    "**Definición de las estrategias de Modelación predictiva**:<br>\n",
    "* El modelo que utilizaremos es la regresión lineal que importamos de sklearn, especificamente el modulo 'LinearRegression'<br>\n",
    "\n",
    "* Para poder medir el desempeño del modelo utilizaremos la libreria Scikit learn especificamente las funciones 'mean_squared_error' y 'r2_score'."
   ]
  },
  {
   "cell_type": "markdown",
   "metadata": {},
   "source": [
    "# Hito 4\n",
    "Completar el punto de **Modelación predictiva**.\n",
    "* Elementos a considerar en éste hito:\n",
    "    * La preparación del ambiente de trabajo (imports, separación de muestras) para implementar modelos de predicción. (1 punto)\n",
    "    * La implementación de por lo menos tres modelos predictivos. (2 puntos)\n",
    "    * El reporte del mejor modelo predictivo en base a los resultados. (2 puntos)"
   ]
  },
  {
   "cell_type": "markdown",
   "metadata": {},
   "source": [
    "__Importamos los principales módulos de 'sklearn':__"
   ]
  },
  {
   "cell_type": "code",
   "execution_count": 62,
   "metadata": {},
   "outputs": [],
   "source": [
    "#Modelo de regresión lineal.\n",
    "from sklearn.linear_model import LinearRegression\n",
    "#Metricas del modelo.\n",
    "from sklearn.metrics import mean_squared_error, r2_score"
   ]
  },
  {
   "cell_type": "markdown",
   "metadata": {},
   "source": [
    "__Dividimos la muestra en 2 partes, la muestra de entrenamiento (representa un 67% de la muestra global) y la muestra de entrenamiento (representa un 33% de la muestra).__"
   ]
  },
  {
   "cell_type": "code",
   "execution_count": 63,
   "metadata": {},
   "outputs": [
    {
     "name": "stdout",
     "output_type": "stream",
     "text": [
      "El largo de la muestra es  395\n",
      "El 67% de la muestra corresponde a  265.0\n",
      "El 33% de la muestra corresponde a  130.0\n"
     ]
    }
   ],
   "source": [
    "#Medimos el largo del dataframe.\n",
    "print('El largo de la muestra es ' ,len(df)) \n",
    "#Calculamos el 67% del total del dataframe.\n",
    "print('El 67% de la muestra corresponde a ' ,round((len(df)*.67), 0))\n",
    "#Calculamos el 33% de la muestra.\n",
    "print('El 33% de la muestra corresponde a ',round(len(df)- (len(df)*.67), 0))"
   ]
  },
  {
   "cell_type": "code",
   "execution_count": 64,
   "metadata": {},
   "outputs": [
    {
     "name": "stdout",
     "output_type": "stream",
     "text": [
      "El tamaño de la muestra de entrenamiento es  265\n",
      "El tamaño de la muestra de prueba es  130\n"
     ]
    }
   ],
   "source": [
    "#Separamos la variable dependiente 'G3' de la muestra de entrenamiento.\n",
    "df_m = df.drop(['G3'], axis = 1)\n",
    "#Separamos la muestra de entrenamiento con la muestra de prueba.\n",
    "#Muestra de entrenamiento.\n",
    "x_mat_train = df_m[:-130]\n",
    "#Muestra de prueba.\n",
    "x_mat_test = df_m[-130:]\n",
    "\n",
    "print('El tamaño de la muestra de entrenamiento es ', len(x_mat_train))\n",
    "print('El tamaño de la muestra de prueba es ', len(x_mat_test))"
   ]
  },
  {
   "cell_type": "code",
   "execution_count": 65,
   "metadata": {},
   "outputs": [
    {
     "name": "stdout",
     "output_type": "stream",
     "text": [
      "El tamaño de la muestra de entrenamiento es  265\n",
      "El tamaño de la muestra de prueba es  130\n"
     ]
    }
   ],
   "source": [
    "#Repetimos el proceso anterior con la muestra de la variable independiente 'G3'.\n",
    "#Muestra de entrenamiento.\n",
    "y_mat_train = df['G3'][:-130]\n",
    "#Muestra de prueba.\n",
    "y_mat_test = df['G3'][-130:]\n",
    "\n",
    "print('El tamaño de la muestra de entrenamiento es ', len(y_mat_train))\n",
    "print('El tamaño de la muestra de prueba es ', len(y_mat_test))"
   ]
  },
  {
   "cell_type": "code",
   "execution_count": 73,
   "metadata": {},
   "outputs": [
    {
     "name": "stdout",
     "output_type": "stream",
     "text": [
      "0    345\n",
      "1     50\n",
      "Name: b_school, dtype: int64\n"
     ]
    },
    {
     "ename": "NameError",
     "evalue": "name 'NaN' is not defined",
     "output_type": "error",
     "traceback": [
      "\u001b[0;31m---------------------------------------------------------------------------\u001b[0m",
      "\u001b[0;31mNameError\u001b[0m                                 Traceback (most recent call last)",
      "\u001b[0;32m<ipython-input-73-67b14628286f>\u001b[0m in \u001b[0;36m<module>\u001b[0;34m\u001b[0m\n\u001b[1;32m      2\u001b[0m \u001b[0;31m#Para los casos binarioz y categoricos se imputara por frecuencia y en los casos numericos se imputara por el promedio\u001b[0m\u001b[0;34m\u001b[0m\u001b[0;34m\u001b[0m\u001b[0;34m\u001b[0m\u001b[0m\n\u001b[1;32m      3\u001b[0m \u001b[0mprint\u001b[0m\u001b[0;34m(\u001b[0m\u001b[0mdf\u001b[0m\u001b[0;34m[\u001b[0m\u001b[0;34m'b_school'\u001b[0m\u001b[0;34m]\u001b[0m\u001b[0;34m.\u001b[0m\u001b[0mvalue_counts\u001b[0m\u001b[0;34m(\u001b[0m\u001b[0;34m)\u001b[0m\u001b[0;34m)\u001b[0m\u001b[0;34m\u001b[0m\u001b[0;34m\u001b[0m\u001b[0m\n\u001b[0;32m----> 4\u001b[0;31m \u001b[0mdf\u001b[0m\u001b[0;34m[\u001b[0m\u001b[0;34m'b_school'\u001b[0m\u001b[0;34m]\u001b[0m \u001b[0;34m=\u001b[0m \u001b[0mdf\u001b[0m\u001b[0;34m.\u001b[0m\u001b[0mreplace\u001b[0m\u001b[0;34m(\u001b[0m\u001b[0mNaN\u001b[0m\u001b[0;34m,\u001b[0m \u001b[0;36m0\u001b[0m\u001b[0;34m)\u001b[0m\u001b[0;34m\u001b[0m\u001b[0;34m\u001b[0m\u001b[0m\n\u001b[0m",
      "\u001b[0;31mNameError\u001b[0m: name 'NaN' is not defined"
     ]
    }
   ],
   "source": [
    "#Como el dataframe que utilizamos tiene muchos datos perdidos vamos a tener que imputar la data\n",
    "#Para los casos binarioz y categoricos se imputara por frecuencia y en los casos numericos se imputara por el promedio\n",
    "print(df['b_school'].value_counts())\n",
    "df['b_school'] = df.replace(NaN, 0)"
   ]
  },
  {
   "cell_type": "code",
   "execution_count": 68,
   "metadata": {},
   "outputs": [
    {
     "data": {
      "text/plain": [
       "Index(['age', 'Medu', 'Fedu', 'traveltime', 'studytime', 'failures', 'famrel',\n",
       "       'freetime', 'goout', 'Dalc', 'Walc', 'health', 'absences', 'G1', 'G2',\n",
       "       'G3', 'b_school', 'b_sex', 'b_address', 'b_famsize', 'b_Pstatus',\n",
       "       'b_schoolsup', 'b_famsup', 'b_paid', 'b_activities', 'b_nursery',\n",
       "       'b_higher', 'b_internet', 'b_romantic', 'c_reason', 'c_guardian',\n",
       "       'c_Mjob', 'c_Fjob'],\n",
       "      dtype='object')"
      ]
     },
     "execution_count": 68,
     "metadata": {},
     "output_type": "execute_result"
    }
   ],
   "source": [
    "df.columns"
   ]
  },
  {
   "cell_type": "code",
   "execution_count": 66,
   "metadata": {},
   "outputs": [
    {
     "ename": "ValueError",
     "evalue": "Input contains NaN, infinity or a value too large for dtype('float64').",
     "output_type": "error",
     "traceback": [
      "\u001b[0;31m---------------------------------------------------------------------------\u001b[0m",
      "\u001b[0;31mValueError\u001b[0m                                Traceback (most recent call last)",
      "\u001b[0;32m<ipython-input-66-c75bb856a2a7>\u001b[0m in \u001b[0;36m<module>\u001b[0;34m\u001b[0m\n\u001b[1;32m      1\u001b[0m \u001b[0;31m#Ahora se análiza que es lo que esta pasando con el modelo generado por 'sklearn'\u001b[0m\u001b[0;34m\u001b[0m\u001b[0;34m\u001b[0m\u001b[0;34m\u001b[0m\u001b[0m\n\u001b[1;32m      2\u001b[0m \u001b[0;31m#Creamos la variable que almacena la información de la regresion lineal con 'sklearn'\u001b[0m\u001b[0;34m\u001b[0m\u001b[0;34m\u001b[0m\u001b[0;34m\u001b[0m\u001b[0m\n\u001b[0;32m----> 3\u001b[0;31m \u001b[0mmodelo_sklearn_rl\u001b[0m \u001b[0;34m=\u001b[0m \u001b[0mLinearRegression\u001b[0m\u001b[0;34m(\u001b[0m\u001b[0;34m)\u001b[0m\u001b[0;34m.\u001b[0m\u001b[0mfit\u001b[0m\u001b[0;34m(\u001b[0m\u001b[0mx_mat_train\u001b[0m\u001b[0;34m,\u001b[0m \u001b[0my_mat_train\u001b[0m\u001b[0;34m)\u001b[0m\u001b[0;34m\u001b[0m\u001b[0;34m\u001b[0m\u001b[0m\n\u001b[0m",
      "\u001b[0;32m~/anaconda3/lib/python3.7/site-packages/sklearn/linear_model/base.py\u001b[0m in \u001b[0;36mfit\u001b[0;34m(self, X, y, sample_weight)\u001b[0m\n\u001b[1;32m    456\u001b[0m         \u001b[0mn_jobs_\u001b[0m \u001b[0;34m=\u001b[0m \u001b[0mself\u001b[0m\u001b[0;34m.\u001b[0m\u001b[0mn_jobs\u001b[0m\u001b[0;34m\u001b[0m\u001b[0;34m\u001b[0m\u001b[0m\n\u001b[1;32m    457\u001b[0m         X, y = check_X_y(X, y, accept_sparse=['csr', 'csc', 'coo'],\n\u001b[0;32m--> 458\u001b[0;31m                          y_numeric=True, multi_output=True)\n\u001b[0m\u001b[1;32m    459\u001b[0m \u001b[0;34m\u001b[0m\u001b[0m\n\u001b[1;32m    460\u001b[0m         \u001b[0;32mif\u001b[0m \u001b[0msample_weight\u001b[0m \u001b[0;32mis\u001b[0m \u001b[0;32mnot\u001b[0m \u001b[0;32mNone\u001b[0m \u001b[0;32mand\u001b[0m \u001b[0mnp\u001b[0m\u001b[0;34m.\u001b[0m\u001b[0matleast_1d\u001b[0m\u001b[0;34m(\u001b[0m\u001b[0msample_weight\u001b[0m\u001b[0;34m)\u001b[0m\u001b[0;34m.\u001b[0m\u001b[0mndim\u001b[0m \u001b[0;34m>\u001b[0m \u001b[0;36m1\u001b[0m\u001b[0;34m:\u001b[0m\u001b[0;34m\u001b[0m\u001b[0;34m\u001b[0m\u001b[0m\n",
      "\u001b[0;32m~/anaconda3/lib/python3.7/site-packages/sklearn/utils/validation.py\u001b[0m in \u001b[0;36mcheck_X_y\u001b[0;34m(X, y, accept_sparse, accept_large_sparse, dtype, order, copy, force_all_finite, ensure_2d, allow_nd, multi_output, ensure_min_samples, ensure_min_features, y_numeric, warn_on_dtype, estimator)\u001b[0m\n\u001b[1;32m    754\u001b[0m                     \u001b[0mensure_min_features\u001b[0m\u001b[0;34m=\u001b[0m\u001b[0mensure_min_features\u001b[0m\u001b[0;34m,\u001b[0m\u001b[0;34m\u001b[0m\u001b[0;34m\u001b[0m\u001b[0m\n\u001b[1;32m    755\u001b[0m                     \u001b[0mwarn_on_dtype\u001b[0m\u001b[0;34m=\u001b[0m\u001b[0mwarn_on_dtype\u001b[0m\u001b[0;34m,\u001b[0m\u001b[0;34m\u001b[0m\u001b[0;34m\u001b[0m\u001b[0m\n\u001b[0;32m--> 756\u001b[0;31m                     estimator=estimator)\n\u001b[0m\u001b[1;32m    757\u001b[0m     \u001b[0;32mif\u001b[0m \u001b[0mmulti_output\u001b[0m\u001b[0;34m:\u001b[0m\u001b[0;34m\u001b[0m\u001b[0;34m\u001b[0m\u001b[0m\n\u001b[1;32m    758\u001b[0m         y = check_array(y, 'csr', force_all_finite=True, ensure_2d=False,\n",
      "\u001b[0;32m~/anaconda3/lib/python3.7/site-packages/sklearn/utils/validation.py\u001b[0m in \u001b[0;36mcheck_array\u001b[0;34m(array, accept_sparse, accept_large_sparse, dtype, order, copy, force_all_finite, ensure_2d, allow_nd, ensure_min_samples, ensure_min_features, warn_on_dtype, estimator)\u001b[0m\n\u001b[1;32m    571\u001b[0m         \u001b[0;32mif\u001b[0m \u001b[0mforce_all_finite\u001b[0m\u001b[0;34m:\u001b[0m\u001b[0;34m\u001b[0m\u001b[0;34m\u001b[0m\u001b[0m\n\u001b[1;32m    572\u001b[0m             _assert_all_finite(array,\n\u001b[0;32m--> 573\u001b[0;31m                                allow_nan=force_all_finite == 'allow-nan')\n\u001b[0m\u001b[1;32m    574\u001b[0m \u001b[0;34m\u001b[0m\u001b[0m\n\u001b[1;32m    575\u001b[0m     \u001b[0mshape_repr\u001b[0m \u001b[0;34m=\u001b[0m \u001b[0m_shape_repr\u001b[0m\u001b[0;34m(\u001b[0m\u001b[0marray\u001b[0m\u001b[0;34m.\u001b[0m\u001b[0mshape\u001b[0m\u001b[0;34m)\u001b[0m\u001b[0;34m\u001b[0m\u001b[0;34m\u001b[0m\u001b[0m\n",
      "\u001b[0;32m~/anaconda3/lib/python3.7/site-packages/sklearn/utils/validation.py\u001b[0m in \u001b[0;36m_assert_all_finite\u001b[0;34m(X, allow_nan)\u001b[0m\n\u001b[1;32m     54\u001b[0m                 not allow_nan and not np.isfinite(X).all()):\n\u001b[1;32m     55\u001b[0m             \u001b[0mtype_err\u001b[0m \u001b[0;34m=\u001b[0m \u001b[0;34m'infinity'\u001b[0m \u001b[0;32mif\u001b[0m \u001b[0mallow_nan\u001b[0m \u001b[0;32melse\u001b[0m \u001b[0;34m'NaN, infinity'\u001b[0m\u001b[0;34m\u001b[0m\u001b[0;34m\u001b[0m\u001b[0m\n\u001b[0;32m---> 56\u001b[0;31m             \u001b[0;32mraise\u001b[0m \u001b[0mValueError\u001b[0m\u001b[0;34m(\u001b[0m\u001b[0mmsg_err\u001b[0m\u001b[0;34m.\u001b[0m\u001b[0mformat\u001b[0m\u001b[0;34m(\u001b[0m\u001b[0mtype_err\u001b[0m\u001b[0;34m,\u001b[0m \u001b[0mX\u001b[0m\u001b[0;34m.\u001b[0m\u001b[0mdtype\u001b[0m\u001b[0;34m)\u001b[0m\u001b[0;34m)\u001b[0m\u001b[0;34m\u001b[0m\u001b[0;34m\u001b[0m\u001b[0m\n\u001b[0m\u001b[1;32m     57\u001b[0m \u001b[0;34m\u001b[0m\u001b[0m\n\u001b[1;32m     58\u001b[0m \u001b[0;34m\u001b[0m\u001b[0m\n",
      "\u001b[0;31mValueError\u001b[0m: Input contains NaN, infinity or a value too large for dtype('float64')."
     ]
    }
   ],
   "source": [
    "#Ahora se análiza que es lo que esta pasando con el modelo generado por 'sklearn'.\n",
    "#Creamos la variable que almacena la información de la regresion lineal con 'sklearn'.\n",
    "modelo_sklearn_rl = LinearRegression().fit(x_mat_train, y_mat_train)"
   ]
  },
  {
   "cell_type": "code",
   "execution_count": null,
   "metadata": {},
   "outputs": [],
   "source": []
  }
 ],
 "metadata": {
  "kernelspec": {
   "display_name": "Python 3",
   "language": "python",
   "name": "python3"
  },
  "language_info": {
   "codemirror_mode": {
    "name": "ipython",
    "version": 3
   },
   "file_extension": ".py",
   "mimetype": "text/x-python",
   "name": "python",
   "nbconvert_exporter": "python",
   "pygments_lexer": "ipython3",
   "version": "3.7.3"
  }
 },
 "nbformat": 4,
 "nbformat_minor": 2
}
